{
 "cells": [
  {
   "cell_type": "code",
   "execution_count": null,
   "id": "224a7486-baff-49dc-a3bf-d8afba245d35",
   "metadata": {},
   "outputs": [],
   "source": [
    "!pip install pandas openai scikit-learn nltk rouge-score bert-score torch deepeval spacy rouge"
   ]
  },
  {
   "cell_type": "code",
   "execution_count": null,
   "id": "d590e6c8-6417-4398-8e28-528630fc0e80",
   "metadata": {},
   "outputs": [],
   "source": [
    "!pip install --upgrade deepeval"
   ]
  },
  {
   "cell_type": "code",
   "execution_count": null,
   "id": "a7f28e07-8316-477d-98eb-f87bc81ad503",
   "metadata": {},
   "outputs": [],
   "source": [
    "#subset_df.shape"
   ]
  },
  {
   "cell_type": "code",
   "execution_count": 1,
   "id": "4e6659a9-7d50-42af-ad79-2d75995b5508",
   "metadata": {},
   "outputs": [
    {
     "name": "stderr",
     "output_type": "stream",
     "text": [
      "\n",
      "A module that was compiled using NumPy 1.x cannot be run in\n",
      "NumPy 2.2.4 as it may crash. To support both 1.x and 2.x\n",
      "versions of NumPy, modules must be compiled with NumPy 2.0.\n",
      "Some module may need to rebuild instead e.g. with 'pybind11>=2.12'.\n",
      "\n",
      "If you are a user of the module, the easiest solution will be to\n",
      "downgrade to 'numpy<2' or try to upgrade the affected module.\n",
      "We expect that some modules will need time to support NumPy 2.\n",
      "\n",
      "Traceback (most recent call last):  File \"/usr/lib/python3.10/runpy.py\", line 196, in _run_module_as_main\n",
      "    return _run_code(code, main_globals, None,\n",
      "  File \"/usr/lib/python3.10/runpy.py\", line 86, in _run_code\n",
      "    exec(code, run_globals)\n",
      "  File \"/usr/local/lib/python3.10/dist-packages/ipykernel_launcher.py\", line 17, in <module>\n",
      "    app.launch_new_instance()\n",
      "  File \"/usr/local/lib/python3.10/dist-packages/traitlets/config/application.py\", line 1053, in launch_instance\n",
      "    app.start()\n",
      "  File \"/usr/local/lib/python3.10/dist-packages/ipykernel/kernelapp.py\", line 737, in start\n",
      "    self.io_loop.start()\n",
      "  File \"/usr/local/lib/python3.10/dist-packages/tornado/platform/asyncio.py\", line 195, in start\n",
      "    self.asyncio_loop.run_forever()\n",
      "  File \"/usr/lib/python3.10/asyncio/base_events.py\", line 603, in run_forever\n",
      "    self._run_once()\n",
      "  File \"/usr/lib/python3.10/asyncio/base_events.py\", line 1909, in _run_once\n",
      "    handle._run()\n",
      "  File \"/usr/lib/python3.10/asyncio/events.py\", line 80, in _run\n",
      "    self._context.run(self._callback, *self._args)\n",
      "  File \"/usr/local/lib/python3.10/dist-packages/ipykernel/kernelbase.py\", line 524, in dispatch_queue\n",
      "    await self.process_one()\n",
      "  File \"/usr/local/lib/python3.10/dist-packages/ipykernel/kernelbase.py\", line 513, in process_one\n",
      "    await dispatch(*args)\n",
      "  File \"/usr/local/lib/python3.10/dist-packages/ipykernel/kernelbase.py\", line 418, in dispatch_shell\n",
      "    await result\n",
      "  File \"/usr/local/lib/python3.10/dist-packages/ipykernel/kernelbase.py\", line 758, in execute_request\n",
      "    reply_content = await reply_content\n",
      "  File \"/usr/local/lib/python3.10/dist-packages/ipykernel/ipkernel.py\", line 426, in do_execute\n",
      "    res = shell.run_cell(\n",
      "  File \"/usr/local/lib/python3.10/dist-packages/ipykernel/zmqshell.py\", line 549, in run_cell\n",
      "    return super().run_cell(*args, **kwargs)\n",
      "  File \"/usr/local/lib/python3.10/dist-packages/IPython/core/interactiveshell.py\", line 3046, in run_cell\n",
      "    result = self._run_cell(\n",
      "  File \"/usr/local/lib/python3.10/dist-packages/IPython/core/interactiveshell.py\", line 3101, in _run_cell\n",
      "    result = runner(coro)\n",
      "  File \"/usr/local/lib/python3.10/dist-packages/IPython/core/async_helpers.py\", line 129, in _pseudo_sync_runner\n",
      "    coro.send(None)\n",
      "  File \"/usr/local/lib/python3.10/dist-packages/IPython/core/interactiveshell.py\", line 3306, in run_cell_async\n",
      "    has_raised = await self.run_ast_nodes(code_ast.body, cell_name,\n",
      "  File \"/usr/local/lib/python3.10/dist-packages/IPython/core/interactiveshell.py\", line 3488, in run_ast_nodes\n",
      "    if await self.run_code(code, result, async_=asy):\n",
      "  File \"/usr/local/lib/python3.10/dist-packages/IPython/core/interactiveshell.py\", line 3548, in run_code\n",
      "    exec(code_obj, self.user_global_ns, self.user_ns)\n",
      "  File \"/tmp/ipykernel_4743/3898904707.py\", line 5, in <module>\n",
      "    from bert_score import score\n",
      "  File \"/usr/local/lib/python3.10/dist-packages/bert_score/__init__.py\", line 2, in <module>\n",
      "    from .score import *\n",
      "  File \"/usr/local/lib/python3.10/dist-packages/bert_score/score.py\", line 10, in <module>\n",
      "    import torch\n",
      "  File \"/usr/local/lib/python3.10/dist-packages/torch/__init__.py\", line 1382, in <module>\n",
      "    from .functional import *  # noqa: F403\n",
      "  File \"/usr/local/lib/python3.10/dist-packages/torch/functional.py\", line 7, in <module>\n",
      "    import torch.nn.functional as F\n",
      "  File \"/usr/local/lib/python3.10/dist-packages/torch/nn/__init__.py\", line 1, in <module>\n",
      "    from .modules import *  # noqa: F403\n",
      "  File \"/usr/local/lib/python3.10/dist-packages/torch/nn/modules/__init__.py\", line 35, in <module>\n",
      "    from .transformer import TransformerEncoder, TransformerDecoder, \\\n",
      "  File \"/usr/local/lib/python3.10/dist-packages/torch/nn/modules/transformer.py\", line 20, in <module>\n",
      "    device: torch.device = torch.device(torch._C._get_default_device()),  # torch.device('cpu'),\n",
      "/usr/local/lib/python3.10/dist-packages/torch/nn/modules/transformer.py:20: UserWarning: Failed to initialize NumPy: _ARRAY_API not found (Triggered internally at ../torch/csrc/utils/tensor_numpy.cpp:84.)\n",
      "  device: torch.device = torch.device(torch._C._get_default_device()),  # torch.device('cpu'),\n"
     ]
    }
   ],
   "source": [
    "import pandas as pd\n",
    "import openai\n",
    "from nltk.translate.bleu_score import sentence_bleu, SmoothingFunction\n",
    "from rouge import Rouge\n",
    "from bert_score import score\n",
    "import torch\n",
    "from torch.nn import CrossEntropyLoss\n",
    "import warnings\n",
    "import os\n",
    "\n",
    "# Suppress warnings\n",
    "warnings.filterwarnings('ignore')\n",
    "\n",
    "# ✅ DeepEval imports\n",
    "from deepeval.metrics import FaithfulnessMetric, AnswerRelevancyMetric, GEval\n",
    "from deepeval.test_case import LLMTestCase"
   ]
  },
  {
   "cell_type": "code",
   "execution_count": null,
   "id": "3798fa21-4c7b-442d-a050-c4b57c912898",
   "metadata": {},
   "outputs": [],
   "source": []
  },
  {
   "cell_type": "code",
   "execution_count": 2,
   "id": "d11feb82-6eb2-4fea-abc2-49f9b52b4b2a",
   "metadata": {},
   "outputs": [],
   "source": [
    "df = pd.read_csv(\"dolly.csv\")\n",
    "subset_df = df.sample(n=min(100, len(df)), random_state=42)"
   ]
  },
  {
   "cell_type": "code",
   "execution_count": 3,
   "id": "95f936f4-2330-4972-8456-a06fd5f52e5d",
   "metadata": {},
   "outputs": [
    {
     "data": {
      "text/plain": [
       "(30, 3)"
      ]
     },
     "execution_count": 3,
     "metadata": {},
     "output_type": "execute_result"
    }
   ],
   "source": [
    "df.shape"
   ]
  },
  {
   "cell_type": "code",
   "execution_count": 4,
   "id": "c2a181d7-fdd8-4ab8-864b-a69b66c79703",
   "metadata": {},
   "outputs": [],
   "source": [
    "df= df.tail(3)"
   ]
  },
  {
   "cell_type": "code",
   "execution_count": 5,
   "id": "3d7caa93-3447-4abf-9863-ba25ffd8f2c9",
   "metadata": {},
   "outputs": [
    {
     "data": {
      "text/html": [
       "<div>\n",
       "<style scoped>\n",
       "    .dataframe tbody tr th:only-of-type {\n",
       "        vertical-align: middle;\n",
       "    }\n",
       "\n",
       "    .dataframe tbody tr th {\n",
       "        vertical-align: top;\n",
       "    }\n",
       "\n",
       "    .dataframe thead th {\n",
       "        text-align: right;\n",
       "    }\n",
       "</style>\n",
       "<table border=\"1\" class=\"dataframe\">\n",
       "  <thead>\n",
       "    <tr style=\"text-align: right;\">\n",
       "      <th></th>\n",
       "      <th>instruction</th>\n",
       "      <th>context</th>\n",
       "      <th>response</th>\n",
       "    </tr>\n",
       "  </thead>\n",
       "  <tbody>\n",
       "    <tr>\n",
       "      <th>15</th>\n",
       "      <td>Who coined the phrase \"Bike-shedding\" and when?</td>\n",
       "      <td>The law of triviality is C. Northcote Parkinso...</td>\n",
       "      <td>The phrase \"bike-shedding\" was introduced in 1...</td>\n",
       "    </tr>\n",
       "    <tr>\n",
       "      <th>16</th>\n",
       "      <td>Given a reference text about Run Towards the D...</td>\n",
       "      <td>Run Towards the Danger is a 2022 Canadian essa...</td>\n",
       "      <td>Six essays are part of the Run Towards the Dan...</td>\n",
       "    </tr>\n",
       "    <tr>\n",
       "      <th>17</th>\n",
       "      <td>Who tends to participates in hackathons?</td>\n",
       "      <td>A hackathon (also known as a hack day, hackfes...</td>\n",
       "      <td>Computer programmers and others involved in so...</td>\n",
       "    </tr>\n",
       "    <tr>\n",
       "      <th>18</th>\n",
       "      <td>What is Marketing Automation?</td>\n",
       "      <td>Marketing Automation is a subset of customer r...</td>\n",
       "      <td>Marketing Automation is software that helps ma...</td>\n",
       "    </tr>\n",
       "    <tr>\n",
       "      <th>19</th>\n",
       "      <td>Which American president spoke Dutch as their ...</td>\n",
       "      <td>Van Buren received a basic education at the vi...</td>\n",
       "      <td>President Van Buren spoke Dutch as his first l...</td>\n",
       "    </tr>\n",
       "    <tr>\n",
       "      <th>20</th>\n",
       "      <td>Given this reference text about the consumptio...</td>\n",
       "      <td>The United States is a leading exporter of pea...</td>\n",
       "      <td>National Peanut Butter Day takes place on Janu...</td>\n",
       "    </tr>\n",
       "    <tr>\n",
       "      <th>21</th>\n",
       "      <td>What does fasting mean?</td>\n",
       "      <td>Fasting is the abstention from eating and some...</td>\n",
       "      <td>Fasting is the abstention from eating and some...</td>\n",
       "    </tr>\n",
       "    <tr>\n",
       "      <th>22</th>\n",
       "      <td>Was Furze Hill an established community in the...</td>\n",
       "      <td>Furze Hill (or Furzehill) is a hamlet situated...</td>\n",
       "      <td>No, it was not an established community until ...</td>\n",
       "    </tr>\n",
       "    <tr>\n",
       "      <th>23</th>\n",
       "      <td>What is wine?</td>\n",
       "      <td>Wine is an alcoholic drink typically made from...</td>\n",
       "      <td>Wine is an alcoholic drink typically made from...</td>\n",
       "    </tr>\n",
       "    <tr>\n",
       "      <th>24</th>\n",
       "      <td>What is the last festival celebrated in Tihar ...</td>\n",
       "      <td>Lakshmi Puja is celebrated as a part of Tihar,...</td>\n",
       "      <td>The festival lasts for 5 days and Bhai Tika is...</td>\n",
       "    </tr>\n",
       "    <tr>\n",
       "      <th>25</th>\n",
       "      <td>What event John Johnstone won as a rider?</td>\n",
       "      <td>John Johnstone (1881-1935) was a British busin...</td>\n",
       "      <td>John Johnstone won the Jockey Cup on a horse n...</td>\n",
       "    </tr>\n",
       "    <tr>\n",
       "      <th>26</th>\n",
       "      <td>Based on this paragraph, how many younger sibl...</td>\n",
       "      <td>Kennedy was born on February 22, 1932, at St. ...</td>\n",
       "      <td>Based on this paragraph, Kennedy had no younge...</td>\n",
       "    </tr>\n",
       "    <tr>\n",
       "      <th>27</th>\n",
       "      <td>Can you tell me something about Stanley J. Gol...</td>\n",
       "      <td>Stanley J. Goldberg (born Maryland, 1939) is a...</td>\n",
       "      <td>Stanley J. Goldberg (born Maryland, 1939) is a...</td>\n",
       "    </tr>\n",
       "    <tr>\n",
       "      <th>28</th>\n",
       "      <td>Given a reference text about Jen Shah, what is...</td>\n",
       "      <td>Shah starred on the reality television series ...</td>\n",
       "      <td>Jen Shah came into the spotlight in November 2...</td>\n",
       "    </tr>\n",
       "    <tr>\n",
       "      <th>29</th>\n",
       "      <td>What types of problems in government could AI ...</td>\n",
       "      <td>The potential uses of AI in government are wid...</td>\n",
       "      <td>The potential uses of AI in government are wid...</td>\n",
       "    </tr>\n",
       "  </tbody>\n",
       "</table>\n",
       "</div>"
      ],
      "text/plain": [
       "                                          instruction  \\\n",
       "15    Who coined the phrase \"Bike-shedding\" and when?   \n",
       "16  Given a reference text about Run Towards the D...   \n",
       "17           Who tends to participates in hackathons?   \n",
       "18                      What is Marketing Automation?   \n",
       "19  Which American president spoke Dutch as their ...   \n",
       "20  Given this reference text about the consumptio...   \n",
       "21                            What does fasting mean?   \n",
       "22  Was Furze Hill an established community in the...   \n",
       "23                                      What is wine?   \n",
       "24  What is the last festival celebrated in Tihar ...   \n",
       "25          What event John Johnstone won as a rider?   \n",
       "26  Based on this paragraph, how many younger sibl...   \n",
       "27  Can you tell me something about Stanley J. Gol...   \n",
       "28  Given a reference text about Jen Shah, what is...   \n",
       "29  What types of problems in government could AI ...   \n",
       "\n",
       "                                              context  \\\n",
       "15  The law of triviality is C. Northcote Parkinso...   \n",
       "16  Run Towards the Danger is a 2022 Canadian essa...   \n",
       "17  A hackathon (also known as a hack day, hackfes...   \n",
       "18  Marketing Automation is a subset of customer r...   \n",
       "19  Van Buren received a basic education at the vi...   \n",
       "20  The United States is a leading exporter of pea...   \n",
       "21  Fasting is the abstention from eating and some...   \n",
       "22  Furze Hill (or Furzehill) is a hamlet situated...   \n",
       "23  Wine is an alcoholic drink typically made from...   \n",
       "24  Lakshmi Puja is celebrated as a part of Tihar,...   \n",
       "25  John Johnstone (1881-1935) was a British busin...   \n",
       "26  Kennedy was born on February 22, 1932, at St. ...   \n",
       "27  Stanley J. Goldberg (born Maryland, 1939) is a...   \n",
       "28  Shah starred on the reality television series ...   \n",
       "29  The potential uses of AI in government are wid...   \n",
       "\n",
       "                                             response  \n",
       "15  The phrase \"bike-shedding\" was introduced in 1...  \n",
       "16  Six essays are part of the Run Towards the Dan...  \n",
       "17  Computer programmers and others involved in so...  \n",
       "18  Marketing Automation is software that helps ma...  \n",
       "19  President Van Buren spoke Dutch as his first l...  \n",
       "20  National Peanut Butter Day takes place on Janu...  \n",
       "21  Fasting is the abstention from eating and some...  \n",
       "22  No, it was not an established community until ...  \n",
       "23  Wine is an alcoholic drink typically made from...  \n",
       "24  The festival lasts for 5 days and Bhai Tika is...  \n",
       "25  John Johnstone won the Jockey Cup on a horse n...  \n",
       "26  Based on this paragraph, Kennedy had no younge...  \n",
       "27  Stanley J. Goldberg (born Maryland, 1939) is a...  \n",
       "28  Jen Shah came into the spotlight in November 2...  \n",
       "29  The potential uses of AI in government are wid...  "
      ]
     },
     "execution_count": 5,
     "metadata": {},
     "output_type": "execute_result"
    }
   ],
   "source": [
    "df"
   ]
  },
  {
   "cell_type": "code",
   "execution_count": null,
   "id": "c9ebeb38-29fd-4a59-968d-9c5b8663135d",
   "metadata": {},
   "outputs": [],
   "source": []
  },
  {
   "cell_type": "code",
   "execution_count": 6,
   "id": "44818c86-513c-4b40-bf8a-bf1925b2fe10",
   "metadata": {},
   "outputs": [],
   "source": []
  },
  {
   "cell_type": "code",
   "execution_count": 7,
   "id": "178de8ac-15a2-493f-acb3-2ed09e56bb5c",
   "metadata": {},
   "outputs": [],
   "source": [
    "##computing deepeval metrics"
   ]
  },
  {
   "cell_type": "code",
   "execution_count": 8,
   "id": "b222c0c2-0f19-461c-8d18-9a60904095a5",
   "metadata": {},
   "outputs": [
    {
     "data": {
      "application/vnd.jupyter.widget-view+json": {
       "model_id": "",
       "version_major": 2,
       "version_minor": 0
      },
      "text/plain": [
       "Output()"
      ]
     },
     "metadata": {},
     "output_type": "display_data"
    },
    {
     "data": {
      "text/html": [
       "<pre style=\"white-space:pre;overflow-x:auto;line-height:normal;font-family:Menlo,'DejaVu Sans Mono',consolas,'Courier New',monospace\"></pre>\n"
      ],
      "text/plain": []
     },
     "metadata": {},
     "output_type": "display_data"
    },
    {
     "data": {
      "application/vnd.jupyter.widget-view+json": {
       "model_id": "",
       "version_major": 2,
       "version_minor": 0
      },
      "text/plain": [
       "Output()"
      ]
     },
     "metadata": {},
     "output_type": "display_data"
    },
    {
     "data": {
      "text/html": [
       "<pre style=\"white-space:pre;overflow-x:auto;line-height:normal;font-family:Menlo,'DejaVu Sans Mono',consolas,'Courier New',monospace\"></pre>\n"
      ],
      "text/plain": []
     },
     "metadata": {},
     "output_type": "display_data"
    },
    {
     "data": {
      "application/vnd.jupyter.widget-view+json": {
       "model_id": "",
       "version_major": 2,
       "version_minor": 0
      },
      "text/plain": [
       "Output()"
      ]
     },
     "metadata": {},
     "output_type": "display_data"
    },
    {
     "data": {
      "text/html": [
       "<pre style=\"white-space:pre;overflow-x:auto;line-height:normal;font-family:Menlo,'DejaVu Sans Mono',consolas,'Courier New',monospace\"></pre>\n"
      ],
      "text/plain": []
     },
     "metadata": {},
     "output_type": "display_data"
    },
    {
     "data": {
      "application/vnd.jupyter.widget-view+json": {
       "model_id": "",
       "version_major": 2,
       "version_minor": 0
      },
      "text/plain": [
       "Output()"
      ]
     },
     "metadata": {},
     "output_type": "display_data"
    },
    {
     "data": {
      "text/html": [
       "<pre style=\"white-space:pre;overflow-x:auto;line-height:normal;font-family:Menlo,'DejaVu Sans Mono',consolas,'Courier New',monospace\"></pre>\n"
      ],
      "text/plain": []
     },
     "metadata": {},
     "output_type": "display_data"
    },
    {
     "data": {
      "application/vnd.jupyter.widget-view+json": {
       "model_id": "",
       "version_major": 2,
       "version_minor": 0
      },
      "text/plain": [
       "Output()"
      ]
     },
     "metadata": {},
     "output_type": "display_data"
    },
    {
     "data": {
      "text/html": [
       "<pre style=\"white-space:pre;overflow-x:auto;line-height:normal;font-family:Menlo,'DejaVu Sans Mono',consolas,'Courier New',monospace\"></pre>\n"
      ],
      "text/plain": []
     },
     "metadata": {},
     "output_type": "display_data"
    },
    {
     "data": {
      "application/vnd.jupyter.widget-view+json": {
       "model_id": "",
       "version_major": 2,
       "version_minor": 0
      },
      "text/plain": [
       "Output()"
      ]
     },
     "metadata": {},
     "output_type": "display_data"
    },
    {
     "data": {
      "text/html": [
       "<pre style=\"white-space:pre;overflow-x:auto;line-height:normal;font-family:Menlo,'DejaVu Sans Mono',consolas,'Courier New',monospace\"></pre>\n"
      ],
      "text/plain": []
     },
     "metadata": {},
     "output_type": "display_data"
    },
    {
     "data": {
      "application/vnd.jupyter.widget-view+json": {
       "model_id": "",
       "version_major": 2,
       "version_minor": 0
      },
      "text/plain": [
       "Output()"
      ]
     },
     "metadata": {},
     "output_type": "display_data"
    },
    {
     "data": {
      "text/html": [
       "<pre style=\"white-space:pre;overflow-x:auto;line-height:normal;font-family:Menlo,'DejaVu Sans Mono',consolas,'Courier New',monospace\"></pre>\n"
      ],
      "text/plain": []
     },
     "metadata": {},
     "output_type": "display_data"
    },
    {
     "data": {
      "application/vnd.jupyter.widget-view+json": {
       "model_id": "",
       "version_major": 2,
       "version_minor": 0
      },
      "text/plain": [
       "Output()"
      ]
     },
     "metadata": {},
     "output_type": "display_data"
    },
    {
     "data": {
      "text/html": [
       "<pre style=\"white-space:pre;overflow-x:auto;line-height:normal;font-family:Menlo,'DejaVu Sans Mono',consolas,'Courier New',monospace\"></pre>\n"
      ],
      "text/plain": []
     },
     "metadata": {},
     "output_type": "display_data"
    },
    {
     "data": {
      "application/vnd.jupyter.widget-view+json": {
       "model_id": "",
       "version_major": 2,
       "version_minor": 0
      },
      "text/plain": [
       "Output()"
      ]
     },
     "metadata": {},
     "output_type": "display_data"
    },
    {
     "data": {
      "text/html": [
       "<pre style=\"white-space:pre;overflow-x:auto;line-height:normal;font-family:Menlo,'DejaVu Sans Mono',consolas,'Courier New',monospace\"></pre>\n"
      ],
      "text/plain": []
     },
     "metadata": {},
     "output_type": "display_data"
    },
    {
     "data": {
      "application/vnd.jupyter.widget-view+json": {
       "model_id": "",
       "version_major": 2,
       "version_minor": 0
      },
      "text/plain": [
       "Output()"
      ]
     },
     "metadata": {},
     "output_type": "display_data"
    },
    {
     "data": {
      "text/html": [
       "<pre style=\"white-space:pre;overflow-x:auto;line-height:normal;font-family:Menlo,'DejaVu Sans Mono',consolas,'Courier New',monospace\"></pre>\n"
      ],
      "text/plain": []
     },
     "metadata": {},
     "output_type": "display_data"
    },
    {
     "data": {
      "application/vnd.jupyter.widget-view+json": {
       "model_id": "",
       "version_major": 2,
       "version_minor": 0
      },
      "text/plain": [
       "Output()"
      ]
     },
     "metadata": {},
     "output_type": "display_data"
    },
    {
     "data": {
      "text/html": [
       "<pre style=\"white-space:pre;overflow-x:auto;line-height:normal;font-family:Menlo,'DejaVu Sans Mono',consolas,'Courier New',monospace\"></pre>\n"
      ],
      "text/plain": []
     },
     "metadata": {},
     "output_type": "display_data"
    },
    {
     "data": {
      "application/vnd.jupyter.widget-view+json": {
       "model_id": "",
       "version_major": 2,
       "version_minor": 0
      },
      "text/plain": [
       "Output()"
      ]
     },
     "metadata": {},
     "output_type": "display_data"
    },
    {
     "data": {
      "text/html": [
       "<pre style=\"white-space:pre;overflow-x:auto;line-height:normal;font-family:Menlo,'DejaVu Sans Mono',consolas,'Courier New',monospace\"></pre>\n"
      ],
      "text/plain": []
     },
     "metadata": {},
     "output_type": "display_data"
    },
    {
     "data": {
      "application/vnd.jupyter.widget-view+json": {
       "model_id": "",
       "version_major": 2,
       "version_minor": 0
      },
      "text/plain": [
       "Output()"
      ]
     },
     "metadata": {},
     "output_type": "display_data"
    },
    {
     "data": {
      "text/html": [
       "<pre style=\"white-space:pre;overflow-x:auto;line-height:normal;font-family:Menlo,'DejaVu Sans Mono',consolas,'Courier New',monospace\"></pre>\n"
      ],
      "text/plain": []
     },
     "metadata": {},
     "output_type": "display_data"
    },
    {
     "data": {
      "application/vnd.jupyter.widget-view+json": {
       "model_id": "",
       "version_major": 2,
       "version_minor": 0
      },
      "text/plain": [
       "Output()"
      ]
     },
     "metadata": {},
     "output_type": "display_data"
    },
    {
     "data": {
      "text/html": [
       "<pre style=\"white-space:pre;overflow-x:auto;line-height:normal;font-family:Menlo,'DejaVu Sans Mono',consolas,'Courier New',monospace\"></pre>\n"
      ],
      "text/plain": []
     },
     "metadata": {},
     "output_type": "display_data"
    },
    {
     "data": {
      "application/vnd.jupyter.widget-view+json": {
       "model_id": "",
       "version_major": 2,
       "version_minor": 0
      },
      "text/plain": [
       "Output()"
      ]
     },
     "metadata": {},
     "output_type": "display_data"
    },
    {
     "data": {
      "text/html": [
       "<pre style=\"white-space:pre;overflow-x:auto;line-height:normal;font-family:Menlo,'DejaVu Sans Mono',consolas,'Courier New',monospace\"></pre>\n"
      ],
      "text/plain": []
     },
     "metadata": {},
     "output_type": "display_data"
    },
    {
     "data": {
      "application/vnd.jupyter.widget-view+json": {
       "model_id": "",
       "version_major": 2,
       "version_minor": 0
      },
      "text/plain": [
       "Output()"
      ]
     },
     "metadata": {},
     "output_type": "display_data"
    },
    {
     "data": {
      "text/html": [
       "<pre style=\"white-space:pre;overflow-x:auto;line-height:normal;font-family:Menlo,'DejaVu Sans Mono',consolas,'Courier New',monospace\"></pre>\n"
      ],
      "text/plain": []
     },
     "metadata": {},
     "output_type": "display_data"
    },
    {
     "data": {
      "application/vnd.jupyter.widget-view+json": {
       "model_id": "",
       "version_major": 2,
       "version_minor": 0
      },
      "text/plain": [
       "Output()"
      ]
     },
     "metadata": {},
     "output_type": "display_data"
    },
    {
     "data": {
      "text/html": [
       "<pre style=\"white-space:pre;overflow-x:auto;line-height:normal;font-family:Menlo,'DejaVu Sans Mono',consolas,'Courier New',monospace\"></pre>\n"
      ],
      "text/plain": []
     },
     "metadata": {},
     "output_type": "display_data"
    },
    {
     "data": {
      "application/vnd.jupyter.widget-view+json": {
       "model_id": "",
       "version_major": 2,
       "version_minor": 0
      },
      "text/plain": [
       "Output()"
      ]
     },
     "metadata": {},
     "output_type": "display_data"
    },
    {
     "data": {
      "text/html": [
       "<pre style=\"white-space:pre;overflow-x:auto;line-height:normal;font-family:Menlo,'DejaVu Sans Mono',consolas,'Courier New',monospace\"></pre>\n"
      ],
      "text/plain": []
     },
     "metadata": {},
     "output_type": "display_data"
    },
    {
     "data": {
      "application/vnd.jupyter.widget-view+json": {
       "model_id": "",
       "version_major": 2,
       "version_minor": 0
      },
      "text/plain": [
       "Output()"
      ]
     },
     "metadata": {},
     "output_type": "display_data"
    },
    {
     "data": {
      "text/html": [
       "<pre style=\"white-space:pre;overflow-x:auto;line-height:normal;font-family:Menlo,'DejaVu Sans Mono',consolas,'Courier New',monospace\"></pre>\n"
      ],
      "text/plain": []
     },
     "metadata": {},
     "output_type": "display_data"
    },
    {
     "data": {
      "application/vnd.jupyter.widget-view+json": {
       "model_id": "",
       "version_major": 2,
       "version_minor": 0
      },
      "text/plain": [
       "Output()"
      ]
     },
     "metadata": {},
     "output_type": "display_data"
    },
    {
     "data": {
      "text/html": [
       "<pre style=\"white-space:pre;overflow-x:auto;line-height:normal;font-family:Menlo,'DejaVu Sans Mono',consolas,'Courier New',monospace\"></pre>\n"
      ],
      "text/plain": []
     },
     "metadata": {},
     "output_type": "display_data"
    },
    {
     "data": {
      "application/vnd.jupyter.widget-view+json": {
       "model_id": "",
       "version_major": 2,
       "version_minor": 0
      },
      "text/plain": [
       "Output()"
      ]
     },
     "metadata": {},
     "output_type": "display_data"
    },
    {
     "data": {
      "text/html": [
       "<pre style=\"white-space:pre;overflow-x:auto;line-height:normal;font-family:Menlo,'DejaVu Sans Mono',consolas,'Courier New',monospace\"></pre>\n"
      ],
      "text/plain": []
     },
     "metadata": {},
     "output_type": "display_data"
    },
    {
     "data": {
      "application/vnd.jupyter.widget-view+json": {
       "model_id": "",
       "version_major": 2,
       "version_minor": 0
      },
      "text/plain": [
       "Output()"
      ]
     },
     "metadata": {},
     "output_type": "display_data"
    },
    {
     "data": {
      "text/html": [
       "<pre style=\"white-space:pre;overflow-x:auto;line-height:normal;font-family:Menlo,'DejaVu Sans Mono',consolas,'Courier New',monospace\"></pre>\n"
      ],
      "text/plain": []
     },
     "metadata": {},
     "output_type": "display_data"
    },
    {
     "data": {
      "application/vnd.jupyter.widget-view+json": {
       "model_id": "",
       "version_major": 2,
       "version_minor": 0
      },
      "text/plain": [
       "Output()"
      ]
     },
     "metadata": {},
     "output_type": "display_data"
    },
    {
     "data": {
      "text/html": [
       "<pre style=\"white-space:pre;overflow-x:auto;line-height:normal;font-family:Menlo,'DejaVu Sans Mono',consolas,'Courier New',monospace\"></pre>\n"
      ],
      "text/plain": []
     },
     "metadata": {},
     "output_type": "display_data"
    },
    {
     "data": {
      "application/vnd.jupyter.widget-view+json": {
       "model_id": "",
       "version_major": 2,
       "version_minor": 0
      },
      "text/plain": [
       "Output()"
      ]
     },
     "metadata": {},
     "output_type": "display_data"
    },
    {
     "data": {
      "text/html": [
       "<pre style=\"white-space:pre;overflow-x:auto;line-height:normal;font-family:Menlo,'DejaVu Sans Mono',consolas,'Courier New',monospace\"></pre>\n"
      ],
      "text/plain": []
     },
     "metadata": {},
     "output_type": "display_data"
    },
    {
     "data": {
      "application/vnd.jupyter.widget-view+json": {
       "model_id": "",
       "version_major": 2,
       "version_minor": 0
      },
      "text/plain": [
       "Output()"
      ]
     },
     "metadata": {},
     "output_type": "display_data"
    },
    {
     "data": {
      "text/html": [
       "<pre style=\"white-space:pre;overflow-x:auto;line-height:normal;font-family:Menlo,'DejaVu Sans Mono',consolas,'Courier New',monospace\"></pre>\n"
      ],
      "text/plain": []
     },
     "metadata": {},
     "output_type": "display_data"
    },
    {
     "data": {
      "application/vnd.jupyter.widget-view+json": {
       "model_id": "",
       "version_major": 2,
       "version_minor": 0
      },
      "text/plain": [
       "Output()"
      ]
     },
     "metadata": {},
     "output_type": "display_data"
    },
    {
     "data": {
      "text/html": [
       "<pre style=\"white-space:pre;overflow-x:auto;line-height:normal;font-family:Menlo,'DejaVu Sans Mono',consolas,'Courier New',monospace\"></pre>\n"
      ],
      "text/plain": []
     },
     "metadata": {},
     "output_type": "display_data"
    },
    {
     "data": {
      "application/vnd.jupyter.widget-view+json": {
       "model_id": "",
       "version_major": 2,
       "version_minor": 0
      },
      "text/plain": [
       "Output()"
      ]
     },
     "metadata": {},
     "output_type": "display_data"
    },
    {
     "data": {
      "text/html": [
       "<pre style=\"white-space:pre;overflow-x:auto;line-height:normal;font-family:Menlo,'DejaVu Sans Mono',consolas,'Courier New',monospace\"></pre>\n"
      ],
      "text/plain": []
     },
     "metadata": {},
     "output_type": "display_data"
    },
    {
     "data": {
      "application/vnd.jupyter.widget-view+json": {
       "model_id": "",
       "version_major": 2,
       "version_minor": 0
      },
      "text/plain": [
       "Output()"
      ]
     },
     "metadata": {},
     "output_type": "display_data"
    },
    {
     "data": {
      "text/html": [
       "<pre style=\"white-space:pre;overflow-x:auto;line-height:normal;font-family:Menlo,'DejaVu Sans Mono',consolas,'Courier New',monospace\"></pre>\n"
      ],
      "text/plain": []
     },
     "metadata": {},
     "output_type": "display_data"
    },
    {
     "data": {
      "application/vnd.jupyter.widget-view+json": {
       "model_id": "",
       "version_major": 2,
       "version_minor": 0
      },
      "text/plain": [
       "Output()"
      ]
     },
     "metadata": {},
     "output_type": "display_data"
    },
    {
     "data": {
      "text/html": [
       "<pre style=\"white-space:pre;overflow-x:auto;line-height:normal;font-family:Menlo,'DejaVu Sans Mono',consolas,'Courier New',monospace\"></pre>\n"
      ],
      "text/plain": []
     },
     "metadata": {},
     "output_type": "display_data"
    },
    {
     "data": {
      "application/vnd.jupyter.widget-view+json": {
       "model_id": "",
       "version_major": 2,
       "version_minor": 0
      },
      "text/plain": [
       "Output()"
      ]
     },
     "metadata": {},
     "output_type": "display_data"
    },
    {
     "data": {
      "text/html": [
       "<pre style=\"white-space:pre;overflow-x:auto;line-height:normal;font-family:Menlo,'DejaVu Sans Mono',consolas,'Courier New',monospace\"></pre>\n"
      ],
      "text/plain": []
     },
     "metadata": {},
     "output_type": "display_data"
    },
    {
     "name": "stdout",
     "output_type": "stream",
     "text": [
      "Average Faithfulness Score: 94.11%\n",
      "Average Answer Relevancy Score: 53.10%\n"
     ]
    }
   ],
   "source": [
    "import pandas as pd\n",
    "import openai\n",
    "from deepeval.metrics import FaithfulnessMetric, AnswerRelevancyMetric\n",
    "from deepeval.test_case import LLMTestCase\n",
    "\n",
    "# Set OpenAI API Key\n",
    "\n",
    "# Load Dataset\n",
    "#df = pd.read_csv(\"dolly.csv\")\n",
    "subset_df = df.sample(n=min(100, len(df)), random_state=42)\n",
    "\n",
    "\n",
    "\n",
    "\n",
    "\n",
    "# ✅ Define GPT-4o QA Function\n",
    "def answer_with_gpt4o(context):\n",
    "    prompt_text = f\"\"\"\n",
    "    Based on the context below, generate a concise and accurate response that answers the implied question.\n",
    "\n",
    "    Context: \"{context}\"\n",
    "\n",
    "    Answer:\n",
    "    \"\"\"\n",
    "    try:\n",
    "        response = openai.chat.completions.create(\n",
    "            model=\"gpt-4o\",\n",
    "            messages=[{\"role\": \"user\", \"content\": prompt_text}],\n",
    "            temperature=0.2,\n",
    "            max_tokens=200\n",
    "        )\n",
    "        return response.choices[0].message.content.strip()\n",
    "    except Exception as e:\n",
    "        print(f\"Error during QA generation: {e}\")\n",
    "        return None  # Make sure this is aligned with the try-block\n",
    "\n",
    "# ✅ Generate Predictions (now properly unindented)\n",
    "subset_df['predicted_response'] = subset_df['context'].apply(answer_with_gpt4o)\n",
    "\n",
    "\n",
    "\n",
    "\n",
    "\n",
    "\n",
    "\n",
    "\n",
    "# Corrected Test Case Creation\n",
    "test_cases = []\n",
    "for _, row in subset_df.iterrows():\n",
    "    test_cases.append(LLMTestCase(\n",
    "        input=row['instruction'],  # Use the INSTRUCTION as input\n",
    "        actual_output=row['predicted_response'],\n",
    "        expected_output=row['response'],\n",
    "        retrieval_context=[row['context']]  # Provide context for faithfulness\n",
    "    ))\n",
    "\n",
    "# Initialize Metrics\n",
    "faithfulness_metric = FaithfulnessMetric(threshold=0.5)\n",
    "relevancy_metric = AnswerRelevancyMetric(threshold=0.5)\n",
    "\n",
    "# Evaluate Metrics\n",
    "faithfulness_scores = []\n",
    "relevancy_scores = []\n",
    "\n",
    "for test_case in test_cases:\n",
    "    # Measure Faithfulness\n",
    "    faithfulness_metric.measure(test_case)\n",
    "    faithfulness_scores.append(faithfulness_metric.score)\n",
    "    \n",
    "    # Measure Relevancy\n",
    "    relevancy_metric.measure(test_case)\n",
    "    relevancy_scores.append(relevancy_metric.score)\n",
    "\n",
    "# Calculate averages\n",
    "avg_faithfulness = sum(faithfulness_scores) / len(faithfulness_scores)\n",
    "avg_relevancy = sum(relevancy_scores) / len(relevancy_scores)\n",
    "\n",
    "print(f\"Average Faithfulness Score: {avg_faithfulness:.2%}\")\n",
    "print(f\"Average Answer Relevancy Score: {avg_relevancy:.2%}\")"
   ]
  },
  {
   "cell_type": "code",
   "execution_count": 9,
   "id": "d1ba2e1f-8a46-4567-ac0d-3b44dd2c61a3",
   "metadata": {},
   "outputs": [
    {
     "data": {
      "application/vnd.jupyter.widget-view+json": {
       "model_id": "",
       "version_major": 2,
       "version_minor": 0
      },
      "text/plain": [
       "Output()"
      ]
     },
     "metadata": {},
     "output_type": "display_data"
    },
    {
     "data": {
      "text/html": [
       "<pre style=\"white-space:pre;overflow-x:auto;line-height:normal;font-family:Menlo,'DejaVu Sans Mono',consolas,'Courier New',monospace\"></pre>\n"
      ],
      "text/plain": []
     },
     "metadata": {},
     "output_type": "display_data"
    },
    {
     "data": {
      "application/vnd.jupyter.widget-view+json": {
       "model_id": "",
       "version_major": 2,
       "version_minor": 0
      },
      "text/plain": [
       "Output()"
      ]
     },
     "metadata": {},
     "output_type": "display_data"
    },
    {
     "data": {
      "text/html": [
       "<pre style=\"white-space:pre;overflow-x:auto;line-height:normal;font-family:Menlo,'DejaVu Sans Mono',consolas,'Courier New',monospace\"></pre>\n"
      ],
      "text/plain": []
     },
     "metadata": {},
     "output_type": "display_data"
    },
    {
     "data": {
      "application/vnd.jupyter.widget-view+json": {
       "model_id": "",
       "version_major": 2,
       "version_minor": 0
      },
      "text/plain": [
       "Output()"
      ]
     },
     "metadata": {},
     "output_type": "display_data"
    },
    {
     "data": {
      "text/html": [
       "<pre style=\"white-space:pre;overflow-x:auto;line-height:normal;font-family:Menlo,'DejaVu Sans Mono',consolas,'Courier New',monospace\"></pre>\n"
      ],
      "text/plain": []
     },
     "metadata": {},
     "output_type": "display_data"
    },
    {
     "data": {
      "application/vnd.jupyter.widget-view+json": {
       "model_id": "",
       "version_major": 2,
       "version_minor": 0
      },
      "text/plain": [
       "Output()"
      ]
     },
     "metadata": {},
     "output_type": "display_data"
    },
    {
     "data": {
      "text/html": [
       "<pre style=\"white-space:pre;overflow-x:auto;line-height:normal;font-family:Menlo,'DejaVu Sans Mono',consolas,'Courier New',monospace\"></pre>\n"
      ],
      "text/plain": []
     },
     "metadata": {},
     "output_type": "display_data"
    },
    {
     "data": {
      "application/vnd.jupyter.widget-view+json": {
       "model_id": "",
       "version_major": 2,
       "version_minor": 0
      },
      "text/plain": [
       "Output()"
      ]
     },
     "metadata": {},
     "output_type": "display_data"
    },
    {
     "data": {
      "text/html": [
       "<pre style=\"white-space:pre;overflow-x:auto;line-height:normal;font-family:Menlo,'DejaVu Sans Mono',consolas,'Courier New',monospace\"></pre>\n"
      ],
      "text/plain": []
     },
     "metadata": {},
     "output_type": "display_data"
    },
    {
     "data": {
      "application/vnd.jupyter.widget-view+json": {
       "model_id": "",
       "version_major": 2,
       "version_minor": 0
      },
      "text/plain": [
       "Output()"
      ]
     },
     "metadata": {},
     "output_type": "display_data"
    },
    {
     "data": {
      "text/html": [
       "<pre style=\"white-space:pre;overflow-x:auto;line-height:normal;font-family:Menlo,'DejaVu Sans Mono',consolas,'Courier New',monospace\"></pre>\n"
      ],
      "text/plain": []
     },
     "metadata": {},
     "output_type": "display_data"
    },
    {
     "data": {
      "application/vnd.jupyter.widget-view+json": {
       "model_id": "",
       "version_major": 2,
       "version_minor": 0
      },
      "text/plain": [
       "Output()"
      ]
     },
     "metadata": {},
     "output_type": "display_data"
    },
    {
     "data": {
      "text/html": [
       "<pre style=\"white-space:pre;overflow-x:auto;line-height:normal;font-family:Menlo,'DejaVu Sans Mono',consolas,'Courier New',monospace\"></pre>\n"
      ],
      "text/plain": []
     },
     "metadata": {},
     "output_type": "display_data"
    },
    {
     "data": {
      "application/vnd.jupyter.widget-view+json": {
       "model_id": "",
       "version_major": 2,
       "version_minor": 0
      },
      "text/plain": [
       "Output()"
      ]
     },
     "metadata": {},
     "output_type": "display_data"
    },
    {
     "data": {
      "text/html": [
       "<pre style=\"white-space:pre;overflow-x:auto;line-height:normal;font-family:Menlo,'DejaVu Sans Mono',consolas,'Courier New',monospace\"></pre>\n"
      ],
      "text/plain": []
     },
     "metadata": {},
     "output_type": "display_data"
    },
    {
     "data": {
      "application/vnd.jupyter.widget-view+json": {
       "model_id": "",
       "version_major": 2,
       "version_minor": 0
      },
      "text/plain": [
       "Output()"
      ]
     },
     "metadata": {},
     "output_type": "display_data"
    },
    {
     "data": {
      "text/html": [
       "<pre style=\"white-space:pre;overflow-x:auto;line-height:normal;font-family:Menlo,'DejaVu Sans Mono',consolas,'Courier New',monospace\"></pre>\n"
      ],
      "text/plain": []
     },
     "metadata": {},
     "output_type": "display_data"
    },
    {
     "data": {
      "application/vnd.jupyter.widget-view+json": {
       "model_id": "",
       "version_major": 2,
       "version_minor": 0
      },
      "text/plain": [
       "Output()"
      ]
     },
     "metadata": {},
     "output_type": "display_data"
    },
    {
     "data": {
      "text/html": [
       "<pre style=\"white-space:pre;overflow-x:auto;line-height:normal;font-family:Menlo,'DejaVu Sans Mono',consolas,'Courier New',monospace\"></pre>\n"
      ],
      "text/plain": []
     },
     "metadata": {},
     "output_type": "display_data"
    },
    {
     "data": {
      "application/vnd.jupyter.widget-view+json": {
       "model_id": "",
       "version_major": 2,
       "version_minor": 0
      },
      "text/plain": [
       "Output()"
      ]
     },
     "metadata": {},
     "output_type": "display_data"
    },
    {
     "data": {
      "text/html": [
       "<pre style=\"white-space:pre;overflow-x:auto;line-height:normal;font-family:Menlo,'DejaVu Sans Mono',consolas,'Courier New',monospace\"></pre>\n"
      ],
      "text/plain": []
     },
     "metadata": {},
     "output_type": "display_data"
    },
    {
     "data": {
      "application/vnd.jupyter.widget-view+json": {
       "model_id": "",
       "version_major": 2,
       "version_minor": 0
      },
      "text/plain": [
       "Output()"
      ]
     },
     "metadata": {},
     "output_type": "display_data"
    },
    {
     "data": {
      "text/html": [
       "<pre style=\"white-space:pre;overflow-x:auto;line-height:normal;font-family:Menlo,'DejaVu Sans Mono',consolas,'Courier New',monospace\"></pre>\n"
      ],
      "text/plain": []
     },
     "metadata": {},
     "output_type": "display_data"
    },
    {
     "data": {
      "application/vnd.jupyter.widget-view+json": {
       "model_id": "",
       "version_major": 2,
       "version_minor": 0
      },
      "text/plain": [
       "Output()"
      ]
     },
     "metadata": {},
     "output_type": "display_data"
    },
    {
     "data": {
      "text/html": [
       "<pre style=\"white-space:pre;overflow-x:auto;line-height:normal;font-family:Menlo,'DejaVu Sans Mono',consolas,'Courier New',monospace\"></pre>\n"
      ],
      "text/plain": []
     },
     "metadata": {},
     "output_type": "display_data"
    },
    {
     "data": {
      "application/vnd.jupyter.widget-view+json": {
       "model_id": "",
       "version_major": 2,
       "version_minor": 0
      },
      "text/plain": [
       "Output()"
      ]
     },
     "metadata": {},
     "output_type": "display_data"
    },
    {
     "data": {
      "text/html": [
       "<pre style=\"white-space:pre;overflow-x:auto;line-height:normal;font-family:Menlo,'DejaVu Sans Mono',consolas,'Courier New',monospace\"></pre>\n"
      ],
      "text/plain": []
     },
     "metadata": {},
     "output_type": "display_data"
    },
    {
     "data": {
      "application/vnd.jupyter.widget-view+json": {
       "model_id": "",
       "version_major": 2,
       "version_minor": 0
      },
      "text/plain": [
       "Output()"
      ]
     },
     "metadata": {},
     "output_type": "display_data"
    },
    {
     "data": {
      "text/html": [
       "<pre style=\"white-space:pre;overflow-x:auto;line-height:normal;font-family:Menlo,'DejaVu Sans Mono',consolas,'Courier New',monospace\"></pre>\n"
      ],
      "text/plain": []
     },
     "metadata": {},
     "output_type": "display_data"
    },
    {
     "data": {
      "application/vnd.jupyter.widget-view+json": {
       "model_id": "",
       "version_major": 2,
       "version_minor": 0
      },
      "text/plain": [
       "Output()"
      ]
     },
     "metadata": {},
     "output_type": "display_data"
    },
    {
     "data": {
      "text/html": [
       "<pre style=\"white-space:pre;overflow-x:auto;line-height:normal;font-family:Menlo,'DejaVu Sans Mono',consolas,'Courier New',monospace\"></pre>\n"
      ],
      "text/plain": []
     },
     "metadata": {},
     "output_type": "display_data"
    },
    {
     "data": {
      "application/vnd.jupyter.widget-view+json": {
       "model_id": "",
       "version_major": 2,
       "version_minor": 0
      },
      "text/plain": [
       "Output()"
      ]
     },
     "metadata": {},
     "output_type": "display_data"
    },
    {
     "data": {
      "text/html": [
       "<pre style=\"white-space:pre;overflow-x:auto;line-height:normal;font-family:Menlo,'DejaVu Sans Mono',consolas,'Courier New',monospace\"></pre>\n"
      ],
      "text/plain": []
     },
     "metadata": {},
     "output_type": "display_data"
    },
    {
     "data": {
      "application/vnd.jupyter.widget-view+json": {
       "model_id": "",
       "version_major": 2,
       "version_minor": 0
      },
      "text/plain": [
       "Output()"
      ]
     },
     "metadata": {},
     "output_type": "display_data"
    },
    {
     "data": {
      "text/html": [
       "<pre style=\"white-space:pre;overflow-x:auto;line-height:normal;font-family:Menlo,'DejaVu Sans Mono',consolas,'Courier New',monospace\"></pre>\n"
      ],
      "text/plain": []
     },
     "metadata": {},
     "output_type": "display_data"
    },
    {
     "data": {
      "application/vnd.jupyter.widget-view+json": {
       "model_id": "",
       "version_major": 2,
       "version_minor": 0
      },
      "text/plain": [
       "Output()"
      ]
     },
     "metadata": {},
     "output_type": "display_data"
    },
    {
     "data": {
      "text/html": [
       "<pre style=\"white-space:pre;overflow-x:auto;line-height:normal;font-family:Menlo,'DejaVu Sans Mono',consolas,'Courier New',monospace\"></pre>\n"
      ],
      "text/plain": []
     },
     "metadata": {},
     "output_type": "display_data"
    },
    {
     "data": {
      "application/vnd.jupyter.widget-view+json": {
       "model_id": "",
       "version_major": 2,
       "version_minor": 0
      },
      "text/plain": [
       "Output()"
      ]
     },
     "metadata": {},
     "output_type": "display_data"
    },
    {
     "data": {
      "text/html": [
       "<pre style=\"white-space:pre;overflow-x:auto;line-height:normal;font-family:Menlo,'DejaVu Sans Mono',consolas,'Courier New',monospace\"></pre>\n"
      ],
      "text/plain": []
     },
     "metadata": {},
     "output_type": "display_data"
    },
    {
     "data": {
      "application/vnd.jupyter.widget-view+json": {
       "model_id": "",
       "version_major": 2,
       "version_minor": 0
      },
      "text/plain": [
       "Output()"
      ]
     },
     "metadata": {},
     "output_type": "display_data"
    },
    {
     "data": {
      "text/html": [
       "<pre style=\"white-space:pre;overflow-x:auto;line-height:normal;font-family:Menlo,'DejaVu Sans Mono',consolas,'Courier New',monospace\"></pre>\n"
      ],
      "text/plain": []
     },
     "metadata": {},
     "output_type": "display_data"
    },
    {
     "data": {
      "application/vnd.jupyter.widget-view+json": {
       "model_id": "",
       "version_major": 2,
       "version_minor": 0
      },
      "text/plain": [
       "Output()"
      ]
     },
     "metadata": {},
     "output_type": "display_data"
    },
    {
     "data": {
      "text/html": [
       "<pre style=\"white-space:pre;overflow-x:auto;line-height:normal;font-family:Menlo,'DejaVu Sans Mono',consolas,'Courier New',monospace\"></pre>\n"
      ],
      "text/plain": []
     },
     "metadata": {},
     "output_type": "display_data"
    },
    {
     "data": {
      "application/vnd.jupyter.widget-view+json": {
       "model_id": "",
       "version_major": 2,
       "version_minor": 0
      },
      "text/plain": [
       "Output()"
      ]
     },
     "metadata": {},
     "output_type": "display_data"
    },
    {
     "data": {
      "text/html": [
       "<pre style=\"white-space:pre;overflow-x:auto;line-height:normal;font-family:Menlo,'DejaVu Sans Mono',consolas,'Courier New',monospace\"></pre>\n"
      ],
      "text/plain": []
     },
     "metadata": {},
     "output_type": "display_data"
    },
    {
     "data": {
      "application/vnd.jupyter.widget-view+json": {
       "model_id": "",
       "version_major": 2,
       "version_minor": 0
      },
      "text/plain": [
       "Output()"
      ]
     },
     "metadata": {},
     "output_type": "display_data"
    },
    {
     "data": {
      "text/html": [
       "<pre style=\"white-space:pre;overflow-x:auto;line-height:normal;font-family:Menlo,'DejaVu Sans Mono',consolas,'Courier New',monospace\"></pre>\n"
      ],
      "text/plain": []
     },
     "metadata": {},
     "output_type": "display_data"
    },
    {
     "data": {
      "application/vnd.jupyter.widget-view+json": {
       "model_id": "",
       "version_major": 2,
       "version_minor": 0
      },
      "text/plain": [
       "Output()"
      ]
     },
     "metadata": {},
     "output_type": "display_data"
    },
    {
     "data": {
      "text/html": [
       "<pre style=\"white-space:pre;overflow-x:auto;line-height:normal;font-family:Menlo,'DejaVu Sans Mono',consolas,'Courier New',monospace\"></pre>\n"
      ],
      "text/plain": []
     },
     "metadata": {},
     "output_type": "display_data"
    },
    {
     "data": {
      "application/vnd.jupyter.widget-view+json": {
       "model_id": "e8a86ef7f5234f798a5bac7fa5d8db24",
       "version_major": 2,
       "version_minor": 0
      },
      "text/plain": [
       "Output()"
      ]
     },
     "metadata": {},
     "output_type": "display_data"
    },
    {
     "data": {
      "text/html": [
       "<pre style=\"white-space:pre;overflow-x:auto;line-height:normal;font-family:Menlo,'DejaVu Sans Mono',consolas,'Courier New',monospace\"></pre>\n"
      ],
      "text/plain": []
     },
     "metadata": {},
     "output_type": "display_data"
    },
    {
     "data": {
      "application/vnd.jupyter.widget-view+json": {
       "model_id": "aebd435d0e234f099e90549cd6aa6d66",
       "version_major": 2,
       "version_minor": 0
      },
      "text/plain": [
       "Output()"
      ]
     },
     "metadata": {},
     "output_type": "display_data"
    },
    {
     "data": {
      "text/html": [
       "<pre style=\"white-space:pre;overflow-x:auto;line-height:normal;font-family:Menlo,'DejaVu Sans Mono',consolas,'Courier New',monospace\"></pre>\n"
      ],
      "text/plain": []
     },
     "metadata": {},
     "output_type": "display_data"
    },
    {
     "data": {
      "application/vnd.jupyter.widget-view+json": {
       "model_id": "0ee6a4c018f641f6afee90f707fd50f8",
       "version_major": 2,
       "version_minor": 0
      },
      "text/plain": [
       "Output()"
      ]
     },
     "metadata": {},
     "output_type": "display_data"
    },
    {
     "data": {
      "text/html": [
       "<pre style=\"white-space:pre;overflow-x:auto;line-height:normal;font-family:Menlo,'DejaVu Sans Mono',consolas,'Courier New',monospace\"></pre>\n"
      ],
      "text/plain": []
     },
     "metadata": {},
     "output_type": "display_data"
    },
    {
     "data": {
      "application/vnd.jupyter.widget-view+json": {
       "model_id": "29e8a0ff669b4d518d81f5f26b50bbf8",
       "version_major": 2,
       "version_minor": 0
      },
      "text/plain": [
       "Output()"
      ]
     },
     "metadata": {},
     "output_type": "display_data"
    },
    {
     "data": {
      "text/html": [
       "<pre style=\"white-space:pre;overflow-x:auto;line-height:normal;font-family:Menlo,'DejaVu Sans Mono',consolas,'Courier New',monospace\"></pre>\n"
      ],
      "text/plain": []
     },
     "metadata": {},
     "output_type": "display_data"
    },
    {
     "data": {
      "application/vnd.jupyter.widget-view+json": {
       "model_id": "81dd1937ba274797bbcb2ae951567c43",
       "version_major": 2,
       "version_minor": 0
      },
      "text/plain": [
       "Output()"
      ]
     },
     "metadata": {},
     "output_type": "display_data"
    },
    {
     "data": {
      "text/html": [
       "<pre style=\"white-space:pre;overflow-x:auto;line-height:normal;font-family:Menlo,'DejaVu Sans Mono',consolas,'Courier New',monospace\"></pre>\n"
      ],
      "text/plain": []
     },
     "metadata": {},
     "output_type": "display_data"
    }
   ],
   "source": [
    "# ... individusual scoring..\n",
    "\n",
    "# Evaluate Metrics and store in lists\n",
    "faithfulness_scores = []\n",
    "relevancy_scores = []\n",
    "\n",
    "for test_case in test_cases:\n",
    "    # Measure Faithfulness\n",
    "    faithfulness_metric.measure(test_case)\n",
    "    faithfulness_scores.append(faithfulness_metric.score)\n",
    "    \n",
    "    # Measure Relevancy\n",
    "    relevancy_metric.measure(test_case)\n",
    "    relevancy_scores.append(relevancy_metric.score)\n",
    "\n",
    "# Add scores directly to the DataFrame\n",
    "subset_df['faithfulness_score'] = faithfulness_scores\n",
    "subset_df['relevancy_score'] = relevancy_scores\n",
    "\n",
    "# Create new DataFrame with all required columns (this is already done in-place)\n",
    "# If you need to save it:\n",
    "final_deepeval_df = subset_df[['instruction', 'context', 'response', \n",
    "                     'predicted_response', 'faithfulness_score', \n",
    "                     'relevancy_score']].copy()\n",
    "\n",
    "# Optional: Save to CSV\n",
    "final_deepeval_df.to_csv('Deep_Eval_evaluated_responses.csv', index=False)\n",
    "\n"
   ]
  },
  {
   "cell_type": "code",
   "execution_count": 10,
   "id": "92f91e15-e2ab-4d72-8370-f3fe7626ac6e",
   "metadata": {},
   "outputs": [
    {
     "data": {
      "text/html": [
       "<div>\n",
       "<style scoped>\n",
       "    .dataframe tbody tr th:only-of-type {\n",
       "        vertical-align: middle;\n",
       "    }\n",
       "\n",
       "    .dataframe tbody tr th {\n",
       "        vertical-align: top;\n",
       "    }\n",
       "\n",
       "    .dataframe thead th {\n",
       "        text-align: right;\n",
       "    }\n",
       "</style>\n",
       "<table border=\"1\" class=\"dataframe\">\n",
       "  <thead>\n",
       "    <tr style=\"text-align: right;\">\n",
       "      <th></th>\n",
       "      <th>instruction</th>\n",
       "      <th>context</th>\n",
       "      <th>response</th>\n",
       "      <th>predicted_response</th>\n",
       "      <th>faithfulness_score</th>\n",
       "      <th>relevancy_score</th>\n",
       "    </tr>\n",
       "  </thead>\n",
       "  <tbody>\n",
       "    <tr>\n",
       "      <th>24</th>\n",
       "      <td>What is the last festival celebrated in Tihar ...</td>\n",
       "      <td>Lakshmi Puja is celebrated as a part of Tihar,...</td>\n",
       "      <td>The festival lasts for 5 days and Bhai Tika is...</td>\n",
       "      <td>Lakshmi Puja is celebrated on the third day of...</td>\n",
       "      <td>0.5</td>\n",
       "      <td>0.222222</td>\n",
       "    </tr>\n",
       "    <tr>\n",
       "      <th>26</th>\n",
       "      <td>Based on this paragraph, how many younger sibl...</td>\n",
       "      <td>Kennedy was born on February 22, 1932, at St. ...</td>\n",
       "      <td>Based on this paragraph, Kennedy had no younge...</td>\n",
       "      <td>The youngest Kennedy child, born on February 2...</td>\n",
       "      <td>1.0</td>\n",
       "      <td>0.333333</td>\n",
       "    </tr>\n",
       "    <tr>\n",
       "      <th>15</th>\n",
       "      <td>Who coined the phrase \"Bike-shedding\" and when?</td>\n",
       "      <td>The law of triviality is C. Northcote Parkinso...</td>\n",
       "      <td>The phrase \"bike-shedding\" was introduced in 1...</td>\n",
       "      <td>The law of triviality, also known as the bike-...</td>\n",
       "      <td>1.0</td>\n",
       "      <td>0.000000</td>\n",
       "    </tr>\n",
       "    <tr>\n",
       "      <th>28</th>\n",
       "      <td>Given a reference text about Jen Shah, what is...</td>\n",
       "      <td>Shah starred on the reality television series ...</td>\n",
       "      <td>Jen Shah came into the spotlight in November 2...</td>\n",
       "      <td>Jen Shah, a star of The Real Housewives of Sal...</td>\n",
       "      <td>1.0</td>\n",
       "      <td>0.857143</td>\n",
       "    </tr>\n",
       "    <tr>\n",
       "      <th>20</th>\n",
       "      <td>Given this reference text about the consumptio...</td>\n",
       "      <td>The United States is a leading exporter of pea...</td>\n",
       "      <td>National Peanut Butter Day takes place on Janu...</td>\n",
       "      <td>The United States is a major exporter and cons...</td>\n",
       "      <td>1.0</td>\n",
       "      <td>0.000000</td>\n",
       "    </tr>\n",
       "    <tr>\n",
       "      <th>23</th>\n",
       "      <td>What is wine?</td>\n",
       "      <td>Wine is an alcoholic drink typically made from...</td>\n",
       "      <td>Wine is an alcoholic drink typically made from...</td>\n",
       "      <td>Wine is primarily made from fermented grapes, ...</td>\n",
       "      <td>1.0</td>\n",
       "      <td>1.000000</td>\n",
       "    </tr>\n",
       "    <tr>\n",
       "      <th>17</th>\n",
       "      <td>Who tends to participates in hackathons?</td>\n",
       "      <td>A hackathon (also known as a hack day, hackfes...</td>\n",
       "      <td>Computer programmers and others involved in so...</td>\n",
       "      <td>A hackathon is an event where participants eng...</td>\n",
       "      <td>1.0</td>\n",
       "      <td>0.428571</td>\n",
       "    </tr>\n",
       "    <tr>\n",
       "      <th>16</th>\n",
       "      <td>Given a reference text about Run Towards the D...</td>\n",
       "      <td>Run Towards the Danger is a 2022 Canadian essa...</td>\n",
       "      <td>Six essays are part of the Run Towards the Dan...</td>\n",
       "      <td>\"Run Towards the Danger\" is a 2022 essay colle...</td>\n",
       "      <td>1.0</td>\n",
       "      <td>0.000000</td>\n",
       "    </tr>\n",
       "    <tr>\n",
       "      <th>29</th>\n",
       "      <td>What types of problems in government could AI ...</td>\n",
       "      <td>The potential uses of AI in government are wid...</td>\n",
       "      <td>The potential uses of AI in government are wid...</td>\n",
       "      <td>AI can be effectively utilized in government o...</td>\n",
       "      <td>1.0</td>\n",
       "      <td>1.000000</td>\n",
       "    </tr>\n",
       "    <tr>\n",
       "      <th>19</th>\n",
       "      <td>Which American president spoke Dutch as their ...</td>\n",
       "      <td>Van Buren received a basic education at the vi...</td>\n",
       "      <td>President Van Buren spoke Dutch as his first l...</td>\n",
       "      <td>Martin Van Buren, the only U.S. president whos...</td>\n",
       "      <td>1.0</td>\n",
       "      <td>0.375000</td>\n",
       "    </tr>\n",
       "    <tr>\n",
       "      <th>22</th>\n",
       "      <td>Was Furze Hill an established community in the...</td>\n",
       "      <td>Furze Hill (or Furzehill) is a hamlet situated...</td>\n",
       "      <td>No, it was not an established community until ...</td>\n",
       "      <td>Furze Hill is a hamlet located in the New Fore...</td>\n",
       "      <td>1.0</td>\n",
       "      <td>0.800000</td>\n",
       "    </tr>\n",
       "    <tr>\n",
       "      <th>25</th>\n",
       "      <td>What event John Johnstone won as a rider?</td>\n",
       "      <td>John Johnstone (1881-1935) was a British busin...</td>\n",
       "      <td>John Johnstone won the Jockey Cup on a horse n...</td>\n",
       "      <td>John Johnstone was a prominent British busines...</td>\n",
       "      <td>0.9</td>\n",
       "      <td>0.500000</td>\n",
       "    </tr>\n",
       "    <tr>\n",
       "      <th>27</th>\n",
       "      <td>Can you tell me something about Stanley J. Gol...</td>\n",
       "      <td>Stanley J. Goldberg (born Maryland, 1939) is a...</td>\n",
       "      <td>Stanley J. Goldberg (born Maryland, 1939) is a...</td>\n",
       "      <td>Stanley J. Goldberg is a Special Trial Judge o...</td>\n",
       "      <td>0.8</td>\n",
       "      <td>1.000000</td>\n",
       "    </tr>\n",
       "    <tr>\n",
       "      <th>18</th>\n",
       "      <td>What is Marketing Automation?</td>\n",
       "      <td>Marketing Automation is a subset of customer r...</td>\n",
       "      <td>Marketing Automation is software that helps ma...</td>\n",
       "      <td>Marketing Automation is a technology-driven pr...</td>\n",
       "      <td>1.0</td>\n",
       "      <td>1.000000</td>\n",
       "    </tr>\n",
       "    <tr>\n",
       "      <th>21</th>\n",
       "      <td>What does fasting mean?</td>\n",
       "      <td>Fasting is the abstention from eating and some...</td>\n",
       "      <td>Fasting is the abstention from eating and some...</td>\n",
       "      <td>Fasting refers to the period when the body is ...</td>\n",
       "      <td>1.0</td>\n",
       "      <td>1.000000</td>\n",
       "    </tr>\n",
       "  </tbody>\n",
       "</table>\n",
       "</div>"
      ],
      "text/plain": [
       "                                          instruction  \\\n",
       "24  What is the last festival celebrated in Tihar ...   \n",
       "26  Based on this paragraph, how many younger sibl...   \n",
       "15    Who coined the phrase \"Bike-shedding\" and when?   \n",
       "28  Given a reference text about Jen Shah, what is...   \n",
       "20  Given this reference text about the consumptio...   \n",
       "23                                      What is wine?   \n",
       "17           Who tends to participates in hackathons?   \n",
       "16  Given a reference text about Run Towards the D...   \n",
       "29  What types of problems in government could AI ...   \n",
       "19  Which American president spoke Dutch as their ...   \n",
       "22  Was Furze Hill an established community in the...   \n",
       "25          What event John Johnstone won as a rider?   \n",
       "27  Can you tell me something about Stanley J. Gol...   \n",
       "18                      What is Marketing Automation?   \n",
       "21                            What does fasting mean?   \n",
       "\n",
       "                                              context  \\\n",
       "24  Lakshmi Puja is celebrated as a part of Tihar,...   \n",
       "26  Kennedy was born on February 22, 1932, at St. ...   \n",
       "15  The law of triviality is C. Northcote Parkinso...   \n",
       "28  Shah starred on the reality television series ...   \n",
       "20  The United States is a leading exporter of pea...   \n",
       "23  Wine is an alcoholic drink typically made from...   \n",
       "17  A hackathon (also known as a hack day, hackfes...   \n",
       "16  Run Towards the Danger is a 2022 Canadian essa...   \n",
       "29  The potential uses of AI in government are wid...   \n",
       "19  Van Buren received a basic education at the vi...   \n",
       "22  Furze Hill (or Furzehill) is a hamlet situated...   \n",
       "25  John Johnstone (1881-1935) was a British busin...   \n",
       "27  Stanley J. Goldberg (born Maryland, 1939) is a...   \n",
       "18  Marketing Automation is a subset of customer r...   \n",
       "21  Fasting is the abstention from eating and some...   \n",
       "\n",
       "                                             response  \\\n",
       "24  The festival lasts for 5 days and Bhai Tika is...   \n",
       "26  Based on this paragraph, Kennedy had no younge...   \n",
       "15  The phrase \"bike-shedding\" was introduced in 1...   \n",
       "28  Jen Shah came into the spotlight in November 2...   \n",
       "20  National Peanut Butter Day takes place on Janu...   \n",
       "23  Wine is an alcoholic drink typically made from...   \n",
       "17  Computer programmers and others involved in so...   \n",
       "16  Six essays are part of the Run Towards the Dan...   \n",
       "29  The potential uses of AI in government are wid...   \n",
       "19  President Van Buren spoke Dutch as his first l...   \n",
       "22  No, it was not an established community until ...   \n",
       "25  John Johnstone won the Jockey Cup on a horse n...   \n",
       "27  Stanley J. Goldberg (born Maryland, 1939) is a...   \n",
       "18  Marketing Automation is software that helps ma...   \n",
       "21  Fasting is the abstention from eating and some...   \n",
       "\n",
       "                                   predicted_response  faithfulness_score  \\\n",
       "24  Lakshmi Puja is celebrated on the third day of...                 0.5   \n",
       "26  The youngest Kennedy child, born on February 2...                 1.0   \n",
       "15  The law of triviality, also known as the bike-...                 1.0   \n",
       "28  Jen Shah, a star of The Real Housewives of Sal...                 1.0   \n",
       "20  The United States is a major exporter and cons...                 1.0   \n",
       "23  Wine is primarily made from fermented grapes, ...                 1.0   \n",
       "17  A hackathon is an event where participants eng...                 1.0   \n",
       "16  \"Run Towards the Danger\" is a 2022 essay colle...                 1.0   \n",
       "29  AI can be effectively utilized in government o...                 1.0   \n",
       "19  Martin Van Buren, the only U.S. president whos...                 1.0   \n",
       "22  Furze Hill is a hamlet located in the New Fore...                 1.0   \n",
       "25  John Johnstone was a prominent British busines...                 0.9   \n",
       "27  Stanley J. Goldberg is a Special Trial Judge o...                 0.8   \n",
       "18  Marketing Automation is a technology-driven pr...                 1.0   \n",
       "21  Fasting refers to the period when the body is ...                 1.0   \n",
       "\n",
       "    relevancy_score  \n",
       "24         0.222222  \n",
       "26         0.333333  \n",
       "15         0.000000  \n",
       "28         0.857143  \n",
       "20         0.000000  \n",
       "23         1.000000  \n",
       "17         0.428571  \n",
       "16         0.000000  \n",
       "29         1.000000  \n",
       "19         0.375000  \n",
       "22         0.800000  \n",
       "25         0.500000  \n",
       "27         1.000000  \n",
       "18         1.000000  \n",
       "21         1.000000  "
      ]
     },
     "execution_count": 10,
     "metadata": {},
     "output_type": "execute_result"
    }
   ],
   "source": [
    "final_deepeval_df"
   ]
  },
  {
   "cell_type": "code",
   "execution_count": 11,
   "id": "59d01d54-70da-408a-90ae-8d8b5a5f0ddc",
   "metadata": {},
   "outputs": [
    {
     "data": {
      "application/vnd.jupyter.widget-view+json": {
       "model_id": "",
       "version_major": 2,
       "version_minor": 0
      },
      "text/plain": [
       "Output()"
      ]
     },
     "metadata": {},
     "output_type": "display_data"
    },
    {
     "data": {
      "text/html": [
       "<pre style=\"white-space:pre;overflow-x:auto;line-height:normal;font-family:Menlo,'DejaVu Sans Mono',consolas,'Courier New',monospace\"></pre>\n"
      ],
      "text/plain": []
     },
     "metadata": {},
     "output_type": "display_data"
    },
    {
     "data": {
      "application/vnd.jupyter.widget-view+json": {
       "model_id": "",
       "version_major": 2,
       "version_minor": 0
      },
      "text/plain": [
       "Output()"
      ]
     },
     "metadata": {},
     "output_type": "display_data"
    },
    {
     "data": {
      "text/html": [
       "<pre style=\"white-space:pre;overflow-x:auto;line-height:normal;font-family:Menlo,'DejaVu Sans Mono',consolas,'Courier New',monospace\"></pre>\n"
      ],
      "text/plain": []
     },
     "metadata": {},
     "output_type": "display_data"
    },
    {
     "data": {
      "application/vnd.jupyter.widget-view+json": {
       "model_id": "",
       "version_major": 2,
       "version_minor": 0
      },
      "text/plain": [
       "Output()"
      ]
     },
     "metadata": {},
     "output_type": "display_data"
    },
    {
     "data": {
      "text/html": [
       "<pre style=\"white-space:pre;overflow-x:auto;line-height:normal;font-family:Menlo,'DejaVu Sans Mono',consolas,'Courier New',monospace\"></pre>\n"
      ],
      "text/plain": []
     },
     "metadata": {},
     "output_type": "display_data"
    },
    {
     "data": {
      "application/vnd.jupyter.widget-view+json": {
       "model_id": "",
       "version_major": 2,
       "version_minor": 0
      },
      "text/plain": [
       "Output()"
      ]
     },
     "metadata": {},
     "output_type": "display_data"
    },
    {
     "data": {
      "text/html": [
       "<pre style=\"white-space:pre;overflow-x:auto;line-height:normal;font-family:Menlo,'DejaVu Sans Mono',consolas,'Courier New',monospace\"></pre>\n"
      ],
      "text/plain": []
     },
     "metadata": {},
     "output_type": "display_data"
    },
    {
     "data": {
      "application/vnd.jupyter.widget-view+json": {
       "model_id": "",
       "version_major": 2,
       "version_minor": 0
      },
      "text/plain": [
       "Output()"
      ]
     },
     "metadata": {},
     "output_type": "display_data"
    },
    {
     "data": {
      "text/html": [
       "<pre style=\"white-space:pre;overflow-x:auto;line-height:normal;font-family:Menlo,'DejaVu Sans Mono',consolas,'Courier New',monospace\"></pre>\n"
      ],
      "text/plain": []
     },
     "metadata": {},
     "output_type": "display_data"
    },
    {
     "data": {
      "application/vnd.jupyter.widget-view+json": {
       "model_id": "",
       "version_major": 2,
       "version_minor": 0
      },
      "text/plain": [
       "Output()"
      ]
     },
     "metadata": {},
     "output_type": "display_data"
    },
    {
     "data": {
      "text/html": [
       "<pre style=\"white-space:pre;overflow-x:auto;line-height:normal;font-family:Menlo,'DejaVu Sans Mono',consolas,'Courier New',monospace\"></pre>\n"
      ],
      "text/plain": []
     },
     "metadata": {},
     "output_type": "display_data"
    },
    {
     "data": {
      "application/vnd.jupyter.widget-view+json": {
       "model_id": "",
       "version_major": 2,
       "version_minor": 0
      },
      "text/plain": [
       "Output()"
      ]
     },
     "metadata": {},
     "output_type": "display_data"
    },
    {
     "data": {
      "text/html": [
       "<pre style=\"white-space:pre;overflow-x:auto;line-height:normal;font-family:Menlo,'DejaVu Sans Mono',consolas,'Courier New',monospace\"></pre>\n"
      ],
      "text/plain": []
     },
     "metadata": {},
     "output_type": "display_data"
    },
    {
     "data": {
      "application/vnd.jupyter.widget-view+json": {
       "model_id": "",
       "version_major": 2,
       "version_minor": 0
      },
      "text/plain": [
       "Output()"
      ]
     },
     "metadata": {},
     "output_type": "display_data"
    },
    {
     "data": {
      "text/html": [
       "<pre style=\"white-space:pre;overflow-x:auto;line-height:normal;font-family:Menlo,'DejaVu Sans Mono',consolas,'Courier New',monospace\"></pre>\n"
      ],
      "text/plain": []
     },
     "metadata": {},
     "output_type": "display_data"
    },
    {
     "data": {
      "application/vnd.jupyter.widget-view+json": {
       "model_id": "",
       "version_major": 2,
       "version_minor": 0
      },
      "text/plain": [
       "Output()"
      ]
     },
     "metadata": {},
     "output_type": "display_data"
    },
    {
     "data": {
      "text/html": [
       "<pre style=\"white-space:pre;overflow-x:auto;line-height:normal;font-family:Menlo,'DejaVu Sans Mono',consolas,'Courier New',monospace\"></pre>\n"
      ],
      "text/plain": []
     },
     "metadata": {},
     "output_type": "display_data"
    },
    {
     "data": {
      "application/vnd.jupyter.widget-view+json": {
       "model_id": "",
       "version_major": 2,
       "version_minor": 0
      },
      "text/plain": [
       "Output()"
      ]
     },
     "metadata": {},
     "output_type": "display_data"
    },
    {
     "data": {
      "text/html": [
       "<pre style=\"white-space:pre;overflow-x:auto;line-height:normal;font-family:Menlo,'DejaVu Sans Mono',consolas,'Courier New',monospace\"></pre>\n"
      ],
      "text/plain": []
     },
     "metadata": {},
     "output_type": "display_data"
    },
    {
     "data": {
      "application/vnd.jupyter.widget-view+json": {
       "model_id": "",
       "version_major": 2,
       "version_minor": 0
      },
      "text/plain": [
       "Output()"
      ]
     },
     "metadata": {},
     "output_type": "display_data"
    },
    {
     "data": {
      "text/html": [
       "<pre style=\"white-space:pre;overflow-x:auto;line-height:normal;font-family:Menlo,'DejaVu Sans Mono',consolas,'Courier New',monospace\"></pre>\n"
      ],
      "text/plain": []
     },
     "metadata": {},
     "output_type": "display_data"
    },
    {
     "data": {
      "application/vnd.jupyter.widget-view+json": {
       "model_id": "",
       "version_major": 2,
       "version_minor": 0
      },
      "text/plain": [
       "Output()"
      ]
     },
     "metadata": {},
     "output_type": "display_data"
    },
    {
     "data": {
      "text/html": [
       "<pre style=\"white-space:pre;overflow-x:auto;line-height:normal;font-family:Menlo,'DejaVu Sans Mono',consolas,'Courier New',monospace\"></pre>\n"
      ],
      "text/plain": []
     },
     "metadata": {},
     "output_type": "display_data"
    },
    {
     "data": {
      "application/vnd.jupyter.widget-view+json": {
       "model_id": "",
       "version_major": 2,
       "version_minor": 0
      },
      "text/plain": [
       "Output()"
      ]
     },
     "metadata": {},
     "output_type": "display_data"
    },
    {
     "data": {
      "text/html": [
       "<pre style=\"white-space:pre;overflow-x:auto;line-height:normal;font-family:Menlo,'DejaVu Sans Mono',consolas,'Courier New',monospace\"></pre>\n"
      ],
      "text/plain": []
     },
     "metadata": {},
     "output_type": "display_data"
    },
    {
     "data": {
      "application/vnd.jupyter.widget-view+json": {
       "model_id": "",
       "version_major": 2,
       "version_minor": 0
      },
      "text/plain": [
       "Output()"
      ]
     },
     "metadata": {},
     "output_type": "display_data"
    },
    {
     "data": {
      "text/html": [
       "<pre style=\"white-space:pre;overflow-x:auto;line-height:normal;font-family:Menlo,'DejaVu Sans Mono',consolas,'Courier New',monospace\"></pre>\n"
      ],
      "text/plain": []
     },
     "metadata": {},
     "output_type": "display_data"
    },
    {
     "data": {
      "application/vnd.jupyter.widget-view+json": {
       "model_id": "",
       "version_major": 2,
       "version_minor": 0
      },
      "text/plain": [
       "Output()"
      ]
     },
     "metadata": {},
     "output_type": "display_data"
    },
    {
     "data": {
      "text/html": [
       "<pre style=\"white-space:pre;overflow-x:auto;line-height:normal;font-family:Menlo,'DejaVu Sans Mono',consolas,'Courier New',monospace\"></pre>\n"
      ],
      "text/plain": []
     },
     "metadata": {},
     "output_type": "display_data"
    },
    {
     "data": {
      "application/vnd.jupyter.widget-view+json": {
       "model_id": "",
       "version_major": 2,
       "version_minor": 0
      },
      "text/plain": [
       "Output()"
      ]
     },
     "metadata": {},
     "output_type": "display_data"
    },
    {
     "data": {
      "text/html": [
       "<pre style=\"white-space:pre;overflow-x:auto;line-height:normal;font-family:Menlo,'DejaVu Sans Mono',consolas,'Courier New',monospace\"></pre>\n"
      ],
      "text/plain": []
     },
     "metadata": {},
     "output_type": "display_data"
    },
    {
     "data": {
      "application/vnd.jupyter.widget-view+json": {
       "model_id": "",
       "version_major": 2,
       "version_minor": 0
      },
      "text/plain": [
       "Output()"
      ]
     },
     "metadata": {},
     "output_type": "display_data"
    },
    {
     "data": {
      "text/html": [
       "<pre style=\"white-space:pre;overflow-x:auto;line-height:normal;font-family:Menlo,'DejaVu Sans Mono',consolas,'Courier New',monospace\"></pre>\n"
      ],
      "text/plain": []
     },
     "metadata": {},
     "output_type": "display_data"
    },
    {
     "data": {
      "application/vnd.jupyter.widget-view+json": {
       "model_id": "",
       "version_major": 2,
       "version_minor": 0
      },
      "text/plain": [
       "Output()"
      ]
     },
     "metadata": {},
     "output_type": "display_data"
    },
    {
     "data": {
      "text/html": [
       "<pre style=\"white-space:pre;overflow-x:auto;line-height:normal;font-family:Menlo,'DejaVu Sans Mono',consolas,'Courier New',monospace\"></pre>\n"
      ],
      "text/plain": []
     },
     "metadata": {},
     "output_type": "display_data"
    },
    {
     "data": {
      "application/vnd.jupyter.widget-view+json": {
       "model_id": "",
       "version_major": 2,
       "version_minor": 0
      },
      "text/plain": [
       "Output()"
      ]
     },
     "metadata": {},
     "output_type": "display_data"
    },
    {
     "data": {
      "text/html": [
       "<pre style=\"white-space:pre;overflow-x:auto;line-height:normal;font-family:Menlo,'DejaVu Sans Mono',consolas,'Courier New',monospace\"></pre>\n"
      ],
      "text/plain": []
     },
     "metadata": {},
     "output_type": "display_data"
    },
    {
     "data": {
      "application/vnd.jupyter.widget-view+json": {
       "model_id": "",
       "version_major": 2,
       "version_minor": 0
      },
      "text/plain": [
       "Output()"
      ]
     },
     "metadata": {},
     "output_type": "display_data"
    },
    {
     "data": {
      "text/html": [
       "<pre style=\"white-space:pre;overflow-x:auto;line-height:normal;font-family:Menlo,'DejaVu Sans Mono',consolas,'Courier New',monospace\"></pre>\n"
      ],
      "text/plain": []
     },
     "metadata": {},
     "output_type": "display_data"
    },
    {
     "data": {
      "application/vnd.jupyter.widget-view+json": {
       "model_id": "",
       "version_major": 2,
       "version_minor": 0
      },
      "text/plain": [
       "Output()"
      ]
     },
     "metadata": {},
     "output_type": "display_data"
    },
    {
     "data": {
      "text/html": [
       "<pre style=\"white-space:pre;overflow-x:auto;line-height:normal;font-family:Menlo,'DejaVu Sans Mono',consolas,'Courier New',monospace\"></pre>\n"
      ],
      "text/plain": []
     },
     "metadata": {},
     "output_type": "display_data"
    },
    {
     "data": {
      "application/vnd.jupyter.widget-view+json": {
       "model_id": "",
       "version_major": 2,
       "version_minor": 0
      },
      "text/plain": [
       "Output()"
      ]
     },
     "metadata": {},
     "output_type": "display_data"
    },
    {
     "data": {
      "text/html": [
       "<pre style=\"white-space:pre;overflow-x:auto;line-height:normal;font-family:Menlo,'DejaVu Sans Mono',consolas,'Courier New',monospace\"></pre>\n"
      ],
      "text/plain": []
     },
     "metadata": {},
     "output_type": "display_data"
    },
    {
     "data": {
      "application/vnd.jupyter.widget-view+json": {
       "model_id": "",
       "version_major": 2,
       "version_minor": 0
      },
      "text/plain": [
       "Output()"
      ]
     },
     "metadata": {},
     "output_type": "display_data"
    },
    {
     "data": {
      "text/html": [
       "<pre style=\"white-space:pre;overflow-x:auto;line-height:normal;font-family:Menlo,'DejaVu Sans Mono',consolas,'Courier New',monospace\"></pre>\n"
      ],
      "text/plain": []
     },
     "metadata": {},
     "output_type": "display_data"
    },
    {
     "data": {
      "application/vnd.jupyter.widget-view+json": {
       "model_id": "",
       "version_major": 2,
       "version_minor": 0
      },
      "text/plain": [
       "Output()"
      ]
     },
     "metadata": {},
     "output_type": "display_data"
    },
    {
     "data": {
      "text/html": [
       "<pre style=\"white-space:pre;overflow-x:auto;line-height:normal;font-family:Menlo,'DejaVu Sans Mono',consolas,'Courier New',monospace\"></pre>\n"
      ],
      "text/plain": []
     },
     "metadata": {},
     "output_type": "display_data"
    },
    {
     "data": {
      "application/vnd.jupyter.widget-view+json": {
       "model_id": "",
       "version_major": 2,
       "version_minor": 0
      },
      "text/plain": [
       "Output()"
      ]
     },
     "metadata": {},
     "output_type": "display_data"
    },
    {
     "data": {
      "text/html": [
       "<pre style=\"white-space:pre;overflow-x:auto;line-height:normal;font-family:Menlo,'DejaVu Sans Mono',consolas,'Courier New',monospace\"></pre>\n"
      ],
      "text/plain": []
     },
     "metadata": {},
     "output_type": "display_data"
    },
    {
     "data": {
      "application/vnd.jupyter.widget-view+json": {
       "model_id": "25cba57406b0444bad74b224171b3396",
       "version_major": 2,
       "version_minor": 0
      },
      "text/plain": [
       "Output()"
      ]
     },
     "metadata": {},
     "output_type": "display_data"
    },
    {
     "data": {
      "text/html": [
       "<pre style=\"white-space:pre;overflow-x:auto;line-height:normal;font-family:Menlo,'DejaVu Sans Mono',consolas,'Courier New',monospace\"></pre>\n"
      ],
      "text/plain": []
     },
     "metadata": {},
     "output_type": "display_data"
    },
    {
     "data": {
      "application/vnd.jupyter.widget-view+json": {
       "model_id": "8d5b3897490c4759925edd38b665ed78",
       "version_major": 2,
       "version_minor": 0
      },
      "text/plain": [
       "Output()"
      ]
     },
     "metadata": {},
     "output_type": "display_data"
    },
    {
     "data": {
      "text/html": [
       "<pre style=\"white-space:pre;overflow-x:auto;line-height:normal;font-family:Menlo,'DejaVu Sans Mono',consolas,'Courier New',monospace\"></pre>\n"
      ],
      "text/plain": []
     },
     "metadata": {},
     "output_type": "display_data"
    },
    {
     "data": {
      "application/vnd.jupyter.widget-view+json": {
       "model_id": "7c609d381077424b870f9ca93858367c",
       "version_major": 2,
       "version_minor": 0
      },
      "text/plain": [
       "Output()"
      ]
     },
     "metadata": {},
     "output_type": "display_data"
    },
    {
     "data": {
      "text/html": [
       "<pre style=\"white-space:pre;overflow-x:auto;line-height:normal;font-family:Menlo,'DejaVu Sans Mono',consolas,'Courier New',monospace\"></pre>\n"
      ],
      "text/plain": []
     },
     "metadata": {},
     "output_type": "display_data"
    },
    {
     "data": {
      "application/vnd.jupyter.widget-view+json": {
       "model_id": "320910474f124788bb1f43611e586b28",
       "version_major": 2,
       "version_minor": 0
      },
      "text/plain": [
       "Output()"
      ]
     },
     "metadata": {},
     "output_type": "display_data"
    },
    {
     "data": {
      "text/html": [
       "<pre style=\"white-space:pre;overflow-x:auto;line-height:normal;font-family:Menlo,'DejaVu Sans Mono',consolas,'Courier New',monospace\"></pre>\n"
      ],
      "text/plain": []
     },
     "metadata": {},
     "output_type": "display_data"
    },
    {
     "data": {
      "application/vnd.jupyter.widget-view+json": {
       "model_id": "2de9c07880e44ad3b3dbaf00f82836ed",
       "version_major": 2,
       "version_minor": 0
      },
      "text/plain": [
       "Output()"
      ]
     },
     "metadata": {},
     "output_type": "display_data"
    },
    {
     "data": {
      "text/html": [
       "<pre style=\"white-space:pre;overflow-x:auto;line-height:normal;font-family:Menlo,'DejaVu Sans Mono',consolas,'Courier New',monospace\"></pre>\n"
      ],
      "text/plain": []
     },
     "metadata": {},
     "output_type": "display_data"
    },
    {
     "name": "stdout",
     "output_type": "stream",
     "text": [
      "                                         instruction  \\\n",
      "0  What is the last festival celebrated in Tihar ...   \n",
      "1  Based on this paragraph, how many younger sibl...   \n",
      "2    Who coined the phrase \"Bike-shedding\" and when?   \n",
      "3  Given a reference text about Jen Shah, what is...   \n",
      "4  Given this reference text about the consumptio...   \n",
      "\n",
      "                                             context  \\\n",
      "0  Lakshmi Puja is celebrated as a part of Tihar,...   \n",
      "1  Kennedy was born on February 22, 1932, at St. ...   \n",
      "2  The law of triviality is C. Northcote Parkinso...   \n",
      "3  Shah starred on the reality television series ...   \n",
      "4  The United States is a leading exporter of pea...   \n",
      "\n",
      "                                            response  \\\n",
      "0  The festival lasts for 5 days and Bhai Tika is...   \n",
      "1  Based on this paragraph, Kennedy had no younge...   \n",
      "2  The phrase \"bike-shedding\" was introduced in 1...   \n",
      "3  Jen Shah came into the spotlight in November 2...   \n",
      "4  National Peanut Butter Day takes place on Janu...   \n",
      "\n",
      "                                  predicted_response  faithfulness_score  \\\n",
      "0  Lakshmi Puja is celebrated on the third day of...                 1.0   \n",
      "1  Kennedy was named after his father's assistant...                 1.0   \n",
      "2  The law of triviality, also known as the bike-...                 1.0   \n",
      "3  Jen Shah, a star of The Real Housewives of Sal...                 1.0   \n",
      "4  The United States is a major exporter and cons...                 1.0   \n",
      "\n",
      "   relevancy_score  \n",
      "0              0.2  \n",
      "1              0.0  \n",
      "2              0.0  \n",
      "3              1.0  \n",
      "4              0.0  \n",
      "Average Faithfulness Score: 97.94%\n",
      "Average Answer Relevancy Score: 49.09%\n"
     ]
    }
   ],
   "source": [
    "###combined  individual and average\n",
    "import pandas as pd\n",
    "import openai\n",
    "from deepeval.metrics import FaithfulnessMetric, AnswerRelevancyMetric\n",
    "from deepeval.test_case import LLMTestCase\n",
    "\n",
    "# Set OpenAI API Key\n",
    "# openai.api_key = 'your-api-key'\n",
    "\n",
    "# Load Dataset\n",
    "# df = pd.read_csv(\"dolly.csv\")\n",
    "subset_df = df.sample(n=min(100, len(df)), random_state=42)\n",
    "\n",
    "# ✅ Define GPT-4o QA Function\n",
    "def answer_with_gpt4o(context):\n",
    "    prompt_text = f\"\"\"\n",
    "    Based on the context below, generate a concise and accurate response that answers the implied question.\n",
    "\n",
    "    Context: \"{context}\"\n",
    "\n",
    "    Answer:\n",
    "    \"\"\"\n",
    "    try:\n",
    "        response = openai.chat.completions.create(\n",
    "            model=\"gpt-4o\",\n",
    "            messages=[{\"role\": \"user\", \"content\": prompt_text}],\n",
    "            temperature=0.2,\n",
    "            max_tokens=200\n",
    "        )\n",
    "        return response.choices[0].message.content.strip()\n",
    "    except Exception as e:\n",
    "        print(f\"Error during QA generation: {e}\")\n",
    "        return None\n",
    "\n",
    "# Generate Predictions\n",
    "subset_df['predicted_response'] = subset_df['context'].apply(answer_with_gpt4o)\n",
    "\n",
    "# Initialize empty lists to store scores for each row\n",
    "faithfulness_scores = []\n",
    "relevancy_scores = []\n",
    "\n",
    "# Create a list to hold the hallu_deepeval data\n",
    "hallu_deepeval_rows = []\n",
    "\n",
    "for _, row in subset_df.iterrows():\n",
    "    # Create test case\n",
    "    test_case = LLMTestCase(\n",
    "        input=row['instruction'],\n",
    "        actual_output=row['predicted_response'],\n",
    "        expected_output=row['response'],\n",
    "        retrieval_context=[row['context']]\n",
    "    )\n",
    "    # Measure metrics\n",
    "    faithfulness_metric = FaithfulnessMetric(threshold=0.5)\n",
    "    relevancy_metric = AnswerRelevancyMetric(threshold=0.5)\n",
    "    \n",
    "    faithfulness_metric.measure(test_case)\n",
    "    relevancy_metric.measure(test_case)\n",
    "    \n",
    "    # Append scores\n",
    "    faithfulness_scores.append(faithfulness_metric.score)\n",
    "    relevancy_scores.append(relevancy_metric.score)\n",
    "    \n",
    "    # Append the row with additional scores\n",
    "    hallu_deepeval_rows.append({\n",
    "        **row,\n",
    "        'faithfulness_score': faithfulness_metric.score,\n",
    "        'relevancy_score': relevancy_metric.score\n",
    "    })\n",
    "\n",
    "# Create a new DataFrame from hallu_deepeval_rows\n",
    "hallu_deepeval_df = pd.DataFrame(hallu_deepeval_rows)\n",
    "\n",
    "# Now, hallu_deepeval_df contains all original data plus the predicted_response and scores\n",
    "# You can save or print this DataFrame\n",
    "print(hallu_deepeval_df.head())\n",
    "\n",
    "# If you want, you can also compute overall averages\n",
    "avg_faithfulness = sum(faithfulness_scores) / len(faithfulness_scores)\n",
    "avg_relevancy = sum(relevancy_scores) / len(relevancy_scores)\n",
    "\n",
    "print(f\"Average Faithfulness Score: {avg_faithfulness:.2%}\")\n",
    "print(f\"Average Answer Relevancy Score: {avg_relevancy:.2%}\")"
   ]
  },
  {
   "cell_type": "code",
   "execution_count": 12,
   "id": "f913722d-c4ab-491c-b932-a6f2e6bd3ba6",
   "metadata": {},
   "outputs": [],
   "source": [
    "hallu_deepeval_df.to_csv('Hallu_deepeval_df_responses.csv', index=False)\n"
   ]
  },
  {
   "cell_type": "code",
   "execution_count": 13,
   "id": "66db6eed-208a-4956-9a9d-7aca2e00899a",
   "metadata": {},
   "outputs": [],
   "source": [
    "import os\n",
    "os.environ[\"OPENAI_API_KEY\"] = \"\""
   ]
  },
  {
   "cell_type": "code",
   "execution_count": 14,
   "id": "364fbb39-c204-4aba-a442-e165515cc817",
   "metadata": {},
   "outputs": [
    {
     "data": {
      "text/html": [
       "<div>\n",
       "<style scoped>\n",
       "    .dataframe tbody tr th:only-of-type {\n",
       "        vertical-align: middle;\n",
       "    }\n",
       "\n",
       "    .dataframe tbody tr th {\n",
       "        vertical-align: top;\n",
       "    }\n",
       "\n",
       "    .dataframe thead th {\n",
       "        text-align: right;\n",
       "    }\n",
       "</style>\n",
       "<table border=\"1\" class=\"dataframe\">\n",
       "  <thead>\n",
       "    <tr style=\"text-align: right;\">\n",
       "      <th></th>\n",
       "      <th>instruction</th>\n",
       "      <th>context</th>\n",
       "      <th>response</th>\n",
       "      <th>predicted_response</th>\n",
       "      <th>faithfulness_score</th>\n",
       "      <th>relevancy_score</th>\n",
       "    </tr>\n",
       "  </thead>\n",
       "  <tbody>\n",
       "    <tr>\n",
       "      <th>0</th>\n",
       "      <td>What is the last festival celebrated in Tihar ...</td>\n",
       "      <td>Lakshmi Puja is celebrated as a part of Tihar,...</td>\n",
       "      <td>The festival lasts for 5 days and Bhai Tika is...</td>\n",
       "      <td>Lakshmi Puja is celebrated on the third day of...</td>\n",
       "      <td>1.000000</td>\n",
       "      <td>0.200000</td>\n",
       "    </tr>\n",
       "    <tr>\n",
       "      <th>1</th>\n",
       "      <td>Based on this paragraph, how many younger sibl...</td>\n",
       "      <td>Kennedy was born on February 22, 1932, at St. ...</td>\n",
       "      <td>Based on this paragraph, Kennedy had no younge...</td>\n",
       "      <td>Kennedy was named after his father's assistant...</td>\n",
       "      <td>1.000000</td>\n",
       "      <td>0.000000</td>\n",
       "    </tr>\n",
       "    <tr>\n",
       "      <th>2</th>\n",
       "      <td>Who coined the phrase \"Bike-shedding\" and when?</td>\n",
       "      <td>The law of triviality is C. Northcote Parkinso...</td>\n",
       "      <td>The phrase \"bike-shedding\" was introduced in 1...</td>\n",
       "      <td>The law of triviality, also known as the bike-...</td>\n",
       "      <td>1.000000</td>\n",
       "      <td>0.000000</td>\n",
       "    </tr>\n",
       "    <tr>\n",
       "      <th>3</th>\n",
       "      <td>Given a reference text about Jen Shah, what is...</td>\n",
       "      <td>Shah starred on the reality television series ...</td>\n",
       "      <td>Jen Shah came into the spotlight in November 2...</td>\n",
       "      <td>Jen Shah, a star of The Real Housewives of Sal...</td>\n",
       "      <td>1.000000</td>\n",
       "      <td>1.000000</td>\n",
       "    </tr>\n",
       "    <tr>\n",
       "      <th>4</th>\n",
       "      <td>Given this reference text about the consumptio...</td>\n",
       "      <td>The United States is a leading exporter of pea...</td>\n",
       "      <td>National Peanut Butter Day takes place on Janu...</td>\n",
       "      <td>The United States is a major exporter and cons...</td>\n",
       "      <td>1.000000</td>\n",
       "      <td>0.000000</td>\n",
       "    </tr>\n",
       "    <tr>\n",
       "      <th>5</th>\n",
       "      <td>What is wine?</td>\n",
       "      <td>Wine is an alcoholic drink typically made from...</td>\n",
       "      <td>Wine is an alcoholic drink typically made from...</td>\n",
       "      <td>Wine is primarily made from fermented grapes, ...</td>\n",
       "      <td>1.000000</td>\n",
       "      <td>0.545455</td>\n",
       "    </tr>\n",
       "    <tr>\n",
       "      <th>6</th>\n",
       "      <td>Who tends to participates in hackathons?</td>\n",
       "      <td>A hackathon (also known as a hack day, hackfes...</td>\n",
       "      <td>Computer programmers and others involved in so...</td>\n",
       "      <td>A hackathon is an event where participants eng...</td>\n",
       "      <td>1.000000</td>\n",
       "      <td>0.428571</td>\n",
       "    </tr>\n",
       "    <tr>\n",
       "      <th>7</th>\n",
       "      <td>Given a reference text about Run Towards the D...</td>\n",
       "      <td>Run Towards the Danger is a 2022 Canadian essa...</td>\n",
       "      <td>Six essays are part of the Run Towards the Dan...</td>\n",
       "      <td>\"Run Towards the Danger\" is a 2022 essay colle...</td>\n",
       "      <td>1.000000</td>\n",
       "      <td>0.000000</td>\n",
       "    </tr>\n",
       "    <tr>\n",
       "      <th>8</th>\n",
       "      <td>What types of problems in government could AI ...</td>\n",
       "      <td>The potential uses of AI in government are wid...</td>\n",
       "      <td>The potential uses of AI in government are wid...</td>\n",
       "      <td>AI can be effectively applied in government op...</td>\n",
       "      <td>1.000000</td>\n",
       "      <td>1.000000</td>\n",
       "    </tr>\n",
       "    <tr>\n",
       "      <th>9</th>\n",
       "      <td>Which American president spoke Dutch as their ...</td>\n",
       "      <td>Van Buren received a basic education at the vi...</td>\n",
       "      <td>President Van Buren spoke Dutch as his first l...</td>\n",
       "      <td>Martin Van Buren, the only U.S. president whos...</td>\n",
       "      <td>1.000000</td>\n",
       "      <td>0.428571</td>\n",
       "    </tr>\n",
       "    <tr>\n",
       "      <th>10</th>\n",
       "      <td>Was Furze Hill an established community in the...</td>\n",
       "      <td>Furze Hill (or Furzehill) is a hamlet situated...</td>\n",
       "      <td>No, it was not an established community until ...</td>\n",
       "      <td>Furze Hill is a hamlet located in the New Fore...</td>\n",
       "      <td>0.833333</td>\n",
       "      <td>0.222222</td>\n",
       "    </tr>\n",
       "    <tr>\n",
       "      <th>11</th>\n",
       "      <td>What event John Johnstone won as a rider?</td>\n",
       "      <td>John Johnstone (1881-1935) was a British busin...</td>\n",
       "      <td>John Johnstone won the Jockey Cup on a horse n...</td>\n",
       "      <td>John Johnstone was a prominent British busines...</td>\n",
       "      <td>1.000000</td>\n",
       "      <td>0.538462</td>\n",
       "    </tr>\n",
       "    <tr>\n",
       "      <th>12</th>\n",
       "      <td>Can you tell me something about Stanley J. Gol...</td>\n",
       "      <td>Stanley J. Goldberg (born Maryland, 1939) is a...</td>\n",
       "      <td>Stanley J. Goldberg (born Maryland, 1939) is a...</td>\n",
       "      <td>Stanley J. Goldberg is a Special Trial Judge o...</td>\n",
       "      <td>0.857143</td>\n",
       "      <td>1.000000</td>\n",
       "    </tr>\n",
       "    <tr>\n",
       "      <th>13</th>\n",
       "      <td>What is Marketing Automation?</td>\n",
       "      <td>Marketing Automation is a subset of customer r...</td>\n",
       "      <td>Marketing Automation is software that helps ma...</td>\n",
       "      <td>Marketing Automation is a technology-driven pr...</td>\n",
       "      <td>1.000000</td>\n",
       "      <td>1.000000</td>\n",
       "    </tr>\n",
       "    <tr>\n",
       "      <th>14</th>\n",
       "      <td>What does fasting mean?</td>\n",
       "      <td>Fasting is the abstention from eating and some...</td>\n",
       "      <td>Fasting is the abstention from eating and some...</td>\n",
       "      <td>Fasting refers to the period after complete di...</td>\n",
       "      <td>1.000000</td>\n",
       "      <td>1.000000</td>\n",
       "    </tr>\n",
       "  </tbody>\n",
       "</table>\n",
       "</div>"
      ],
      "text/plain": [
       "                                          instruction  \\\n",
       "0   What is the last festival celebrated in Tihar ...   \n",
       "1   Based on this paragraph, how many younger sibl...   \n",
       "2     Who coined the phrase \"Bike-shedding\" and when?   \n",
       "3   Given a reference text about Jen Shah, what is...   \n",
       "4   Given this reference text about the consumptio...   \n",
       "5                                       What is wine?   \n",
       "6            Who tends to participates in hackathons?   \n",
       "7   Given a reference text about Run Towards the D...   \n",
       "8   What types of problems in government could AI ...   \n",
       "9   Which American president spoke Dutch as their ...   \n",
       "10  Was Furze Hill an established community in the...   \n",
       "11          What event John Johnstone won as a rider?   \n",
       "12  Can you tell me something about Stanley J. Gol...   \n",
       "13                      What is Marketing Automation?   \n",
       "14                            What does fasting mean?   \n",
       "\n",
       "                                              context  \\\n",
       "0   Lakshmi Puja is celebrated as a part of Tihar,...   \n",
       "1   Kennedy was born on February 22, 1932, at St. ...   \n",
       "2   The law of triviality is C. Northcote Parkinso...   \n",
       "3   Shah starred on the reality television series ...   \n",
       "4   The United States is a leading exporter of pea...   \n",
       "5   Wine is an alcoholic drink typically made from...   \n",
       "6   A hackathon (also known as a hack day, hackfes...   \n",
       "7   Run Towards the Danger is a 2022 Canadian essa...   \n",
       "8   The potential uses of AI in government are wid...   \n",
       "9   Van Buren received a basic education at the vi...   \n",
       "10  Furze Hill (or Furzehill) is a hamlet situated...   \n",
       "11  John Johnstone (1881-1935) was a British busin...   \n",
       "12  Stanley J. Goldberg (born Maryland, 1939) is a...   \n",
       "13  Marketing Automation is a subset of customer r...   \n",
       "14  Fasting is the abstention from eating and some...   \n",
       "\n",
       "                                             response  \\\n",
       "0   The festival lasts for 5 days and Bhai Tika is...   \n",
       "1   Based on this paragraph, Kennedy had no younge...   \n",
       "2   The phrase \"bike-shedding\" was introduced in 1...   \n",
       "3   Jen Shah came into the spotlight in November 2...   \n",
       "4   National Peanut Butter Day takes place on Janu...   \n",
       "5   Wine is an alcoholic drink typically made from...   \n",
       "6   Computer programmers and others involved in so...   \n",
       "7   Six essays are part of the Run Towards the Dan...   \n",
       "8   The potential uses of AI in government are wid...   \n",
       "9   President Van Buren spoke Dutch as his first l...   \n",
       "10  No, it was not an established community until ...   \n",
       "11  John Johnstone won the Jockey Cup on a horse n...   \n",
       "12  Stanley J. Goldberg (born Maryland, 1939) is a...   \n",
       "13  Marketing Automation is software that helps ma...   \n",
       "14  Fasting is the abstention from eating and some...   \n",
       "\n",
       "                                   predicted_response  faithfulness_score  \\\n",
       "0   Lakshmi Puja is celebrated on the third day of...            1.000000   \n",
       "1   Kennedy was named after his father's assistant...            1.000000   \n",
       "2   The law of triviality, also known as the bike-...            1.000000   \n",
       "3   Jen Shah, a star of The Real Housewives of Sal...            1.000000   \n",
       "4   The United States is a major exporter and cons...            1.000000   \n",
       "5   Wine is primarily made from fermented grapes, ...            1.000000   \n",
       "6   A hackathon is an event where participants eng...            1.000000   \n",
       "7   \"Run Towards the Danger\" is a 2022 essay colle...            1.000000   \n",
       "8   AI can be effectively applied in government op...            1.000000   \n",
       "9   Martin Van Buren, the only U.S. president whos...            1.000000   \n",
       "10  Furze Hill is a hamlet located in the New Fore...            0.833333   \n",
       "11  John Johnstone was a prominent British busines...            1.000000   \n",
       "12  Stanley J. Goldberg is a Special Trial Judge o...            0.857143   \n",
       "13  Marketing Automation is a technology-driven pr...            1.000000   \n",
       "14  Fasting refers to the period after complete di...            1.000000   \n",
       "\n",
       "    relevancy_score  \n",
       "0          0.200000  \n",
       "1          0.000000  \n",
       "2          0.000000  \n",
       "3          1.000000  \n",
       "4          0.000000  \n",
       "5          0.545455  \n",
       "6          0.428571  \n",
       "7          0.000000  \n",
       "8          1.000000  \n",
       "9          0.428571  \n",
       "10         0.222222  \n",
       "11         0.538462  \n",
       "12         1.000000  \n",
       "13         1.000000  \n",
       "14         1.000000  "
      ]
     },
     "execution_count": 14,
     "metadata": {},
     "output_type": "execute_result"
    }
   ],
   "source": [
    "hallu_deepeval_df"
   ]
  },
  {
   "cell_type": "code",
   "execution_count": null,
   "id": "fbec4904-6a95-4262-9bec-713176bddc2e",
   "metadata": {},
   "outputs": [],
   "source": []
  },
  {
   "cell_type": "code",
   "execution_count": 15,
   "id": "073969e7-ed65-4692-96b3-ed51cdbc9ad2",
   "metadata": {},
   "outputs": [
    {
     "name": "stdout",
     "output_type": "stream",
     "text": [
      "Empty DataFrame\n",
      "Columns: [instruction, context, response, predicted_response]\n",
      "Index: []\n"
     ]
    }
   ],
   "source": [
    "print(subset_df[subset_df['context'].isnull()])"
   ]
  },
  {
   "cell_type": "code",
   "execution_count": 16,
   "id": "b4312515-74ac-485f-a23e-d8b7c6213fa2",
   "metadata": {},
   "outputs": [
    {
     "data": {
      "text/html": [
       "<div>\n",
       "<style scoped>\n",
       "    .dataframe tbody tr th:only-of-type {\n",
       "        vertical-align: middle;\n",
       "    }\n",
       "\n",
       "    .dataframe tbody tr th {\n",
       "        vertical-align: top;\n",
       "    }\n",
       "\n",
       "    .dataframe thead th {\n",
       "        text-align: right;\n",
       "    }\n",
       "</style>\n",
       "<table border=\"1\" class=\"dataframe\">\n",
       "  <thead>\n",
       "    <tr style=\"text-align: right;\">\n",
       "      <th></th>\n",
       "      <th>instruction</th>\n",
       "      <th>context</th>\n",
       "      <th>response</th>\n",
       "      <th>predicted_response</th>\n",
       "    </tr>\n",
       "  </thead>\n",
       "  <tbody>\n",
       "    <tr>\n",
       "      <th>24</th>\n",
       "      <td>What is the last festival celebrated in Tihar ...</td>\n",
       "      <td>Lakshmi Puja is celebrated as a part of Tihar,...</td>\n",
       "      <td>The festival lasts for 5 days and Bhai Tika is...</td>\n",
       "      <td>Lakshmi Puja is celebrated on the third day of...</td>\n",
       "    </tr>\n",
       "    <tr>\n",
       "      <th>26</th>\n",
       "      <td>Based on this paragraph, how many younger sibl...</td>\n",
       "      <td>Kennedy was born on February 22, 1932, at St. ...</td>\n",
       "      <td>Based on this paragraph, Kennedy had no younge...</td>\n",
       "      <td>Kennedy was named after his father's assistant...</td>\n",
       "    </tr>\n",
       "    <tr>\n",
       "      <th>15</th>\n",
       "      <td>Who coined the phrase \"Bike-shedding\" and when?</td>\n",
       "      <td>The law of triviality is C. Northcote Parkinso...</td>\n",
       "      <td>The phrase \"bike-shedding\" was introduced in 1...</td>\n",
       "      <td>The law of triviality, also known as the bike-...</td>\n",
       "    </tr>\n",
       "    <tr>\n",
       "      <th>28</th>\n",
       "      <td>Given a reference text about Jen Shah, what is...</td>\n",
       "      <td>Shah starred on the reality television series ...</td>\n",
       "      <td>Jen Shah came into the spotlight in November 2...</td>\n",
       "      <td>Jen Shah, a star of The Real Housewives of Sal...</td>\n",
       "    </tr>\n",
       "    <tr>\n",
       "      <th>20</th>\n",
       "      <td>Given this reference text about the consumptio...</td>\n",
       "      <td>The United States is a leading exporter of pea...</td>\n",
       "      <td>National Peanut Butter Day takes place on Janu...</td>\n",
       "      <td>The United States is a major exporter and cons...</td>\n",
       "    </tr>\n",
       "    <tr>\n",
       "      <th>23</th>\n",
       "      <td>What is wine?</td>\n",
       "      <td>Wine is an alcoholic drink typically made from...</td>\n",
       "      <td>Wine is an alcoholic drink typically made from...</td>\n",
       "      <td>Wine is primarily made from fermented grapes, ...</td>\n",
       "    </tr>\n",
       "    <tr>\n",
       "      <th>17</th>\n",
       "      <td>Who tends to participates in hackathons?</td>\n",
       "      <td>A hackathon (also known as a hack day, hackfes...</td>\n",
       "      <td>Computer programmers and others involved in so...</td>\n",
       "      <td>A hackathon is an event where participants eng...</td>\n",
       "    </tr>\n",
       "    <tr>\n",
       "      <th>16</th>\n",
       "      <td>Given a reference text about Run Towards the D...</td>\n",
       "      <td>Run Towards the Danger is a 2022 Canadian essa...</td>\n",
       "      <td>Six essays are part of the Run Towards the Dan...</td>\n",
       "      <td>\"Run Towards the Danger\" is a 2022 essay colle...</td>\n",
       "    </tr>\n",
       "    <tr>\n",
       "      <th>29</th>\n",
       "      <td>What types of problems in government could AI ...</td>\n",
       "      <td>The potential uses of AI in government are wid...</td>\n",
       "      <td>The potential uses of AI in government are wid...</td>\n",
       "      <td>AI can be effectively applied in government op...</td>\n",
       "    </tr>\n",
       "    <tr>\n",
       "      <th>19</th>\n",
       "      <td>Which American president spoke Dutch as their ...</td>\n",
       "      <td>Van Buren received a basic education at the vi...</td>\n",
       "      <td>President Van Buren spoke Dutch as his first l...</td>\n",
       "      <td>Martin Van Buren, the only U.S. president whos...</td>\n",
       "    </tr>\n",
       "    <tr>\n",
       "      <th>22</th>\n",
       "      <td>Was Furze Hill an established community in the...</td>\n",
       "      <td>Furze Hill (or Furzehill) is a hamlet situated...</td>\n",
       "      <td>No, it was not an established community until ...</td>\n",
       "      <td>Furze Hill is a hamlet located in the New Fore...</td>\n",
       "    </tr>\n",
       "    <tr>\n",
       "      <th>25</th>\n",
       "      <td>What event John Johnstone won as a rider?</td>\n",
       "      <td>John Johnstone (1881-1935) was a British busin...</td>\n",
       "      <td>John Johnstone won the Jockey Cup on a horse n...</td>\n",
       "      <td>John Johnstone was a prominent British busines...</td>\n",
       "    </tr>\n",
       "    <tr>\n",
       "      <th>27</th>\n",
       "      <td>Can you tell me something about Stanley J. Gol...</td>\n",
       "      <td>Stanley J. Goldberg (born Maryland, 1939) is a...</td>\n",
       "      <td>Stanley J. Goldberg (born Maryland, 1939) is a...</td>\n",
       "      <td>Stanley J. Goldberg is a Special Trial Judge o...</td>\n",
       "    </tr>\n",
       "    <tr>\n",
       "      <th>18</th>\n",
       "      <td>What is Marketing Automation?</td>\n",
       "      <td>Marketing Automation is a subset of customer r...</td>\n",
       "      <td>Marketing Automation is software that helps ma...</td>\n",
       "      <td>Marketing Automation is a technology-driven pr...</td>\n",
       "    </tr>\n",
       "    <tr>\n",
       "      <th>21</th>\n",
       "      <td>What does fasting mean?</td>\n",
       "      <td>Fasting is the abstention from eating and some...</td>\n",
       "      <td>Fasting is the abstention from eating and some...</td>\n",
       "      <td>Fasting refers to the period after complete di...</td>\n",
       "    </tr>\n",
       "  </tbody>\n",
       "</table>\n",
       "</div>"
      ],
      "text/plain": [
       "                                          instruction  \\\n",
       "24  What is the last festival celebrated in Tihar ...   \n",
       "26  Based on this paragraph, how many younger sibl...   \n",
       "15    Who coined the phrase \"Bike-shedding\" and when?   \n",
       "28  Given a reference text about Jen Shah, what is...   \n",
       "20  Given this reference text about the consumptio...   \n",
       "23                                      What is wine?   \n",
       "17           Who tends to participates in hackathons?   \n",
       "16  Given a reference text about Run Towards the D...   \n",
       "29  What types of problems in government could AI ...   \n",
       "19  Which American president spoke Dutch as their ...   \n",
       "22  Was Furze Hill an established community in the...   \n",
       "25          What event John Johnstone won as a rider?   \n",
       "27  Can you tell me something about Stanley J. Gol...   \n",
       "18                      What is Marketing Automation?   \n",
       "21                            What does fasting mean?   \n",
       "\n",
       "                                              context  \\\n",
       "24  Lakshmi Puja is celebrated as a part of Tihar,...   \n",
       "26  Kennedy was born on February 22, 1932, at St. ...   \n",
       "15  The law of triviality is C. Northcote Parkinso...   \n",
       "28  Shah starred on the reality television series ...   \n",
       "20  The United States is a leading exporter of pea...   \n",
       "23  Wine is an alcoholic drink typically made from...   \n",
       "17  A hackathon (also known as a hack day, hackfes...   \n",
       "16  Run Towards the Danger is a 2022 Canadian essa...   \n",
       "29  The potential uses of AI in government are wid...   \n",
       "19  Van Buren received a basic education at the vi...   \n",
       "22  Furze Hill (or Furzehill) is a hamlet situated...   \n",
       "25  John Johnstone (1881-1935) was a British busin...   \n",
       "27  Stanley J. Goldberg (born Maryland, 1939) is a...   \n",
       "18  Marketing Automation is a subset of customer r...   \n",
       "21  Fasting is the abstention from eating and some...   \n",
       "\n",
       "                                             response  \\\n",
       "24  The festival lasts for 5 days and Bhai Tika is...   \n",
       "26  Based on this paragraph, Kennedy had no younge...   \n",
       "15  The phrase \"bike-shedding\" was introduced in 1...   \n",
       "28  Jen Shah came into the spotlight in November 2...   \n",
       "20  National Peanut Butter Day takes place on Janu...   \n",
       "23  Wine is an alcoholic drink typically made from...   \n",
       "17  Computer programmers and others involved in so...   \n",
       "16  Six essays are part of the Run Towards the Dan...   \n",
       "29  The potential uses of AI in government are wid...   \n",
       "19  President Van Buren spoke Dutch as his first l...   \n",
       "22  No, it was not an established community until ...   \n",
       "25  John Johnstone won the Jockey Cup on a horse n...   \n",
       "27  Stanley J. Goldberg (born Maryland, 1939) is a...   \n",
       "18  Marketing Automation is software that helps ma...   \n",
       "21  Fasting is the abstention from eating and some...   \n",
       "\n",
       "                                   predicted_response  \n",
       "24  Lakshmi Puja is celebrated on the third day of...  \n",
       "26  Kennedy was named after his father's assistant...  \n",
       "15  The law of triviality, also known as the bike-...  \n",
       "28  Jen Shah, a star of The Real Housewives of Sal...  \n",
       "20  The United States is a major exporter and cons...  \n",
       "23  Wine is primarily made from fermented grapes, ...  \n",
       "17  A hackathon is an event where participants eng...  \n",
       "16  \"Run Towards the Danger\" is a 2022 essay colle...  \n",
       "29  AI can be effectively applied in government op...  \n",
       "19  Martin Van Buren, the only U.S. president whos...  \n",
       "22  Furze Hill is a hamlet located in the New Fore...  \n",
       "25  John Johnstone was a prominent British busines...  \n",
       "27  Stanley J. Goldberg is a Special Trial Judge o...  \n",
       "18  Marketing Automation is a technology-driven pr...  \n",
       "21  Fasting refers to the period after complete di...  "
      ]
     },
     "execution_count": 16,
     "metadata": {},
     "output_type": "execute_result"
    }
   ],
   "source": [
    "subset_df"
   ]
  },
  {
   "cell_type": "code",
   "execution_count": 17,
   "id": "b1f20da7-00e2-4bf6-81ec-47f4a5c37889",
   "metadata": {},
   "outputs": [],
   "source": [
    "## convert context to a list of string\n",
    "test_cases = []\n",
    "for _, row in subset_df.iterrows():\n",
    "    test_cases.append(LLMTestCase(\n",
    "        input=row['instruction'],\n",
    "        actual_output=row['predicted_response'],\n",
    "        expected_output=row['response'],\n",
    "        context=[row['context']],            # <-- list of strings here!\n",
    "        retrieval_context=[row['context']]   # as before\n",
    "    ))"
   ]
  },
  {
   "cell_type": "code",
   "execution_count": 18,
   "id": "8f478c38-4faf-47f2-bf9b-22196a1e70da",
   "metadata": {},
   "outputs": [
    {
     "data": {
      "application/vnd.jupyter.widget-view+json": {
       "model_id": "",
       "version_major": 2,
       "version_minor": 0
      },
      "text/plain": [
       "Output()"
      ]
     },
     "metadata": {},
     "output_type": "display_data"
    },
    {
     "data": {
      "text/html": [
       "<pre style=\"white-space:pre;overflow-x:auto;line-height:normal;font-family:Menlo,'DejaVu Sans Mono',consolas,'Courier New',monospace\"></pre>\n"
      ],
      "text/plain": []
     },
     "metadata": {},
     "output_type": "display_data"
    },
    {
     "data": {
      "application/vnd.jupyter.widget-view+json": {
       "model_id": "",
       "version_major": 2,
       "version_minor": 0
      },
      "text/plain": [
       "Output()"
      ]
     },
     "metadata": {},
     "output_type": "display_data"
    },
    {
     "data": {
      "text/html": [
       "<pre style=\"white-space:pre;overflow-x:auto;line-height:normal;font-family:Menlo,'DejaVu Sans Mono',consolas,'Courier New',monospace\"></pre>\n"
      ],
      "text/plain": []
     },
     "metadata": {},
     "output_type": "display_data"
    },
    {
     "data": {
      "application/vnd.jupyter.widget-view+json": {
       "model_id": "",
       "version_major": 2,
       "version_minor": 0
      },
      "text/plain": [
       "Output()"
      ]
     },
     "metadata": {},
     "output_type": "display_data"
    },
    {
     "data": {
      "text/html": [
       "<pre style=\"white-space:pre;overflow-x:auto;line-height:normal;font-family:Menlo,'DejaVu Sans Mono',consolas,'Courier New',monospace\"></pre>\n"
      ],
      "text/plain": []
     },
     "metadata": {},
     "output_type": "display_data"
    },
    {
     "data": {
      "application/vnd.jupyter.widget-view+json": {
       "model_id": "",
       "version_major": 2,
       "version_minor": 0
      },
      "text/plain": [
       "Output()"
      ]
     },
     "metadata": {},
     "output_type": "display_data"
    },
    {
     "data": {
      "text/html": [
       "<pre style=\"white-space:pre;overflow-x:auto;line-height:normal;font-family:Menlo,'DejaVu Sans Mono',consolas,'Courier New',monospace\"></pre>\n"
      ],
      "text/plain": []
     },
     "metadata": {},
     "output_type": "display_data"
    },
    {
     "data": {
      "application/vnd.jupyter.widget-view+json": {
       "model_id": "",
       "version_major": 2,
       "version_minor": 0
      },
      "text/plain": [
       "Output()"
      ]
     },
     "metadata": {},
     "output_type": "display_data"
    },
    {
     "data": {
      "text/html": [
       "<pre style=\"white-space:pre;overflow-x:auto;line-height:normal;font-family:Menlo,'DejaVu Sans Mono',consolas,'Courier New',monospace\"></pre>\n"
      ],
      "text/plain": []
     },
     "metadata": {},
     "output_type": "display_data"
    },
    {
     "data": {
      "application/vnd.jupyter.widget-view+json": {
       "model_id": "",
       "version_major": 2,
       "version_minor": 0
      },
      "text/plain": [
       "Output()"
      ]
     },
     "metadata": {},
     "output_type": "display_data"
    },
    {
     "data": {
      "text/html": [
       "<pre style=\"white-space:pre;overflow-x:auto;line-height:normal;font-family:Menlo,'DejaVu Sans Mono',consolas,'Courier New',monospace\"></pre>\n"
      ],
      "text/plain": []
     },
     "metadata": {},
     "output_type": "display_data"
    },
    {
     "data": {
      "application/vnd.jupyter.widget-view+json": {
       "model_id": "",
       "version_major": 2,
       "version_minor": 0
      },
      "text/plain": [
       "Output()"
      ]
     },
     "metadata": {},
     "output_type": "display_data"
    },
    {
     "data": {
      "text/html": [
       "<pre style=\"white-space:pre;overflow-x:auto;line-height:normal;font-family:Menlo,'DejaVu Sans Mono',consolas,'Courier New',monospace\"></pre>\n"
      ],
      "text/plain": []
     },
     "metadata": {},
     "output_type": "display_data"
    },
    {
     "data": {
      "application/vnd.jupyter.widget-view+json": {
       "model_id": "",
       "version_major": 2,
       "version_minor": 0
      },
      "text/plain": [
       "Output()"
      ]
     },
     "metadata": {},
     "output_type": "display_data"
    },
    {
     "data": {
      "text/html": [
       "<pre style=\"white-space:pre;overflow-x:auto;line-height:normal;font-family:Menlo,'DejaVu Sans Mono',consolas,'Courier New',monospace\"></pre>\n"
      ],
      "text/plain": []
     },
     "metadata": {},
     "output_type": "display_data"
    },
    {
     "data": {
      "application/vnd.jupyter.widget-view+json": {
       "model_id": "",
       "version_major": 2,
       "version_minor": 0
      },
      "text/plain": [
       "Output()"
      ]
     },
     "metadata": {},
     "output_type": "display_data"
    },
    {
     "data": {
      "text/html": [
       "<pre style=\"white-space:pre;overflow-x:auto;line-height:normal;font-family:Menlo,'DejaVu Sans Mono',consolas,'Courier New',monospace\"></pre>\n"
      ],
      "text/plain": []
     },
     "metadata": {},
     "output_type": "display_data"
    },
    {
     "data": {
      "application/vnd.jupyter.widget-view+json": {
       "model_id": "",
       "version_major": 2,
       "version_minor": 0
      },
      "text/plain": [
       "Output()"
      ]
     },
     "metadata": {},
     "output_type": "display_data"
    },
    {
     "data": {
      "text/html": [
       "<pre style=\"white-space:pre;overflow-x:auto;line-height:normal;font-family:Menlo,'DejaVu Sans Mono',consolas,'Courier New',monospace\"></pre>\n"
      ],
      "text/plain": []
     },
     "metadata": {},
     "output_type": "display_data"
    },
    {
     "data": {
      "application/vnd.jupyter.widget-view+json": {
       "model_id": "",
       "version_major": 2,
       "version_minor": 0
      },
      "text/plain": [
       "Output()"
      ]
     },
     "metadata": {},
     "output_type": "display_data"
    },
    {
     "data": {
      "text/html": [
       "<pre style=\"white-space:pre;overflow-x:auto;line-height:normal;font-family:Menlo,'DejaVu Sans Mono',consolas,'Courier New',monospace\"></pre>\n"
      ],
      "text/plain": []
     },
     "metadata": {},
     "output_type": "display_data"
    },
    {
     "data": {
      "application/vnd.jupyter.widget-view+json": {
       "model_id": "",
       "version_major": 2,
       "version_minor": 0
      },
      "text/plain": [
       "Output()"
      ]
     },
     "metadata": {},
     "output_type": "display_data"
    },
    {
     "data": {
      "text/html": [
       "<pre style=\"white-space:pre;overflow-x:auto;line-height:normal;font-family:Menlo,'DejaVu Sans Mono',consolas,'Courier New',monospace\"></pre>\n"
      ],
      "text/plain": []
     },
     "metadata": {},
     "output_type": "display_data"
    },
    {
     "data": {
      "application/vnd.jupyter.widget-view+json": {
       "model_id": "",
       "version_major": 2,
       "version_minor": 0
      },
      "text/plain": [
       "Output()"
      ]
     },
     "metadata": {},
     "output_type": "display_data"
    },
    {
     "data": {
      "text/html": [
       "<pre style=\"white-space:pre;overflow-x:auto;line-height:normal;font-family:Menlo,'DejaVu Sans Mono',consolas,'Courier New',monospace\"></pre>\n"
      ],
      "text/plain": []
     },
     "metadata": {},
     "output_type": "display_data"
    },
    {
     "data": {
      "application/vnd.jupyter.widget-view+json": {
       "model_id": "",
       "version_major": 2,
       "version_minor": 0
      },
      "text/plain": [
       "Output()"
      ]
     },
     "metadata": {},
     "output_type": "display_data"
    },
    {
     "data": {
      "text/html": [
       "<pre style=\"white-space:pre;overflow-x:auto;line-height:normal;font-family:Menlo,'DejaVu Sans Mono',consolas,'Courier New',monospace\"></pre>\n"
      ],
      "text/plain": []
     },
     "metadata": {},
     "output_type": "display_data"
    },
    {
     "data": {
      "application/vnd.jupyter.widget-view+json": {
       "model_id": "",
       "version_major": 2,
       "version_minor": 0
      },
      "text/plain": [
       "Output()"
      ]
     },
     "metadata": {},
     "output_type": "display_data"
    },
    {
     "data": {
      "text/html": [
       "<pre style=\"white-space:pre;overflow-x:auto;line-height:normal;font-family:Menlo,'DejaVu Sans Mono',consolas,'Courier New',monospace\"></pre>\n"
      ],
      "text/plain": []
     },
     "metadata": {},
     "output_type": "display_data"
    },
    {
     "name": "stdout",
     "output_type": "stream",
     "text": [
      "Average Hallucination Score: 0.00%\n"
     ]
    }
   ],
   "source": [
    "## average score\n",
    "from deepeval.metrics import HallucinationMetric\n",
    "\n",
    "hallucination_metric = HallucinationMetric(threshold=0.5)\n",
    "\n",
    "hallucination_scores = []\n",
    "\n",
    "for test_case in test_cases:\n",
    "    try:\n",
    "        hallucination_metric.measure(test_case)\n",
    "        hallucination_scores.append(hallucination_metric.score)\n",
    "    except Exception as e:\n",
    "        print(f\"Error measuring hallucination for test case: {e}\")\n",
    "        hallucination_scores.append(0.0)\n",
    "\n",
    "if hallucination_scores:\n",
    "    avg_hallucination = sum(hallucination_scores) / len(hallucination_scores)\n",
    "    print(f\"Average Hallucination Score: {avg_hallucination:.2%}\")\n",
    "else:\n",
    "    print(\"No hallucination scores computed.\")"
   ]
  },
  {
   "cell_type": "code",
   "execution_count": null,
   "id": "6fa075de-f0ac-4245-b0ab-4ee8cb2996e0",
   "metadata": {},
   "outputs": [],
   "source": []
  },
  {
   "cell_type": "code",
   "execution_count": 19,
   "id": "61fa651d-c778-4b88-b53e-1772cf0ce175",
   "metadata": {},
   "outputs": [
    {
     "data": {
      "application/vnd.jupyter.widget-view+json": {
       "model_id": "",
       "version_major": 2,
       "version_minor": 0
      },
      "text/plain": [
       "Output()"
      ]
     },
     "metadata": {},
     "output_type": "display_data"
    },
    {
     "data": {
      "text/html": [
       "<pre style=\"white-space:pre;overflow-x:auto;line-height:normal;font-family:Menlo,'DejaVu Sans Mono',consolas,'Courier New',monospace\"></pre>\n"
      ],
      "text/plain": []
     },
     "metadata": {},
     "output_type": "display_data"
    },
    {
     "data": {
      "application/vnd.jupyter.widget-view+json": {
       "model_id": "",
       "version_major": 2,
       "version_minor": 0
      },
      "text/plain": [
       "Output()"
      ]
     },
     "metadata": {},
     "output_type": "display_data"
    },
    {
     "data": {
      "text/html": [
       "<pre style=\"white-space:pre;overflow-x:auto;line-height:normal;font-family:Menlo,'DejaVu Sans Mono',consolas,'Courier New',monospace\"></pre>\n"
      ],
      "text/plain": []
     },
     "metadata": {},
     "output_type": "display_data"
    },
    {
     "data": {
      "application/vnd.jupyter.widget-view+json": {
       "model_id": "",
       "version_major": 2,
       "version_minor": 0
      },
      "text/plain": [
       "Output()"
      ]
     },
     "metadata": {},
     "output_type": "display_data"
    },
    {
     "name": "stdout",
     "output_type": "stream",
     "text": [
      "Error measuring hallucination for row: 'context' cannot be None for the 'Hallucination' metric\n"
     ]
    },
    {
     "data": {
      "text/html": [
       "<pre style=\"white-space:pre;overflow-x:auto;line-height:normal;font-family:Menlo,'DejaVu Sans Mono',consolas,'Courier New',monospace\"></pre>\n"
      ],
      "text/plain": []
     },
     "metadata": {},
     "output_type": "display_data"
    },
    {
     "data": {
      "application/vnd.jupyter.widget-view+json": {
       "model_id": "",
       "version_major": 2,
       "version_minor": 0
      },
      "text/plain": [
       "Output()"
      ]
     },
     "metadata": {},
     "output_type": "display_data"
    },
    {
     "data": {
      "text/html": [
       "<pre style=\"white-space:pre;overflow-x:auto;line-height:normal;font-family:Menlo,'DejaVu Sans Mono',consolas,'Courier New',monospace\"></pre>\n"
      ],
      "text/plain": []
     },
     "metadata": {},
     "output_type": "display_data"
    },
    {
     "name": "stdout",
     "output_type": "stream",
     "text": [
      "Error measuring hallucination for row: 'context' cannot be None for the 'Hallucination' metric\n"
     ]
    },
    {
     "data": {
      "application/vnd.jupyter.widget-view+json": {
       "model_id": "",
       "version_major": 2,
       "version_minor": 0
      },
      "text/plain": [
       "Output()"
      ]
     },
     "metadata": {},
     "output_type": "display_data"
    },
    {
     "data": {
      "text/html": [
       "<pre style=\"white-space:pre;overflow-x:auto;line-height:normal;font-family:Menlo,'DejaVu Sans Mono',consolas,'Courier New',monospace\"></pre>\n"
      ],
      "text/plain": []
     },
     "metadata": {},
     "output_type": "display_data"
    },
    {
     "data": {
      "application/vnd.jupyter.widget-view+json": {
       "model_id": "",
       "version_major": 2,
       "version_minor": 0
      },
      "text/plain": [
       "Output()"
      ]
     },
     "metadata": {},
     "output_type": "display_data"
    },
    {
     "data": {
      "text/html": [
       "<pre style=\"white-space:pre;overflow-x:auto;line-height:normal;font-family:Menlo,'DejaVu Sans Mono',consolas,'Courier New',monospace\"></pre>\n"
      ],
      "text/plain": []
     },
     "metadata": {},
     "output_type": "display_data"
    },
    {
     "data": {
      "application/vnd.jupyter.widget-view+json": {
       "model_id": "",
       "version_major": 2,
       "version_minor": 0
      },
      "text/plain": [
       "Output()"
      ]
     },
     "metadata": {},
     "output_type": "display_data"
    },
    {
     "name": "stdout",
     "output_type": "stream",
     "text": [
      "Error measuring hallucination for row: 'context' cannot be None for the 'Hallucination' metric\n"
     ]
    },
    {
     "data": {
      "text/html": [
       "<pre style=\"white-space:pre;overflow-x:auto;line-height:normal;font-family:Menlo,'DejaVu Sans Mono',consolas,'Courier New',monospace\"></pre>\n"
      ],
      "text/plain": []
     },
     "metadata": {},
     "output_type": "display_data"
    },
    {
     "data": {
      "application/vnd.jupyter.widget-view+json": {
       "model_id": "",
       "version_major": 2,
       "version_minor": 0
      },
      "text/plain": [
       "Output()"
      ]
     },
     "metadata": {},
     "output_type": "display_data"
    },
    {
     "data": {
      "text/html": [
       "<pre style=\"white-space:pre;overflow-x:auto;line-height:normal;font-family:Menlo,'DejaVu Sans Mono',consolas,'Courier New',monospace\"></pre>\n"
      ],
      "text/plain": []
     },
     "metadata": {},
     "output_type": "display_data"
    },
    {
     "data": {
      "application/vnd.jupyter.widget-view+json": {
       "model_id": "",
       "version_major": 2,
       "version_minor": 0
      },
      "text/plain": [
       "Output()"
      ]
     },
     "metadata": {},
     "output_type": "display_data"
    },
    {
     "name": "stdout",
     "output_type": "stream",
     "text": [
      "Error measuring hallucination for row: 'context' cannot be None for the 'Hallucination' metric\n"
     ]
    },
    {
     "data": {
      "text/html": [
       "<pre style=\"white-space:pre;overflow-x:auto;line-height:normal;font-family:Menlo,'DejaVu Sans Mono',consolas,'Courier New',monospace\"></pre>\n"
      ],
      "text/plain": []
     },
     "metadata": {},
     "output_type": "display_data"
    },
    {
     "data": {
      "application/vnd.jupyter.widget-view+json": {
       "model_id": "",
       "version_major": 2,
       "version_minor": 0
      },
      "text/plain": [
       "Output()"
      ]
     },
     "metadata": {},
     "output_type": "display_data"
    },
    {
     "data": {
      "text/html": [
       "<pre style=\"white-space:pre;overflow-x:auto;line-height:normal;font-family:Menlo,'DejaVu Sans Mono',consolas,'Courier New',monospace\"></pre>\n"
      ],
      "text/plain": []
     },
     "metadata": {},
     "output_type": "display_data"
    },
    {
     "data": {
      "application/vnd.jupyter.widget-view+json": {
       "model_id": "",
       "version_major": 2,
       "version_minor": 0
      },
      "text/plain": [
       "Output()"
      ]
     },
     "metadata": {},
     "output_type": "display_data"
    },
    {
     "name": "stdout",
     "output_type": "stream",
     "text": [
      "Error measuring hallucination for row: 'context' cannot be None for the 'Hallucination' metric\n"
     ]
    },
    {
     "data": {
      "text/html": [
       "<pre style=\"white-space:pre;overflow-x:auto;line-height:normal;font-family:Menlo,'DejaVu Sans Mono',consolas,'Courier New',monospace\"></pre>\n"
      ],
      "text/plain": []
     },
     "metadata": {},
     "output_type": "display_data"
    },
    {
     "data": {
      "application/vnd.jupyter.widget-view+json": {
       "model_id": "",
       "version_major": 2,
       "version_minor": 0
      },
      "text/plain": [
       "Output()"
      ]
     },
     "metadata": {},
     "output_type": "display_data"
    },
    {
     "data": {
      "text/html": [
       "<pre style=\"white-space:pre;overflow-x:auto;line-height:normal;font-family:Menlo,'DejaVu Sans Mono',consolas,'Courier New',monospace\"></pre>\n"
      ],
      "text/plain": []
     },
     "metadata": {},
     "output_type": "display_data"
    },
    {
     "data": {
      "application/vnd.jupyter.widget-view+json": {
       "model_id": "",
       "version_major": 2,
       "version_minor": 0
      },
      "text/plain": [
       "Output()"
      ]
     },
     "metadata": {},
     "output_type": "display_data"
    },
    {
     "name": "stdout",
     "output_type": "stream",
     "text": [
      "Error measuring hallucination for row: 'context' cannot be None for the 'Hallucination' metric\n"
     ]
    },
    {
     "data": {
      "text/html": [
       "<pre style=\"white-space:pre;overflow-x:auto;line-height:normal;font-family:Menlo,'DejaVu Sans Mono',consolas,'Courier New',monospace\"></pre>\n"
      ],
      "text/plain": []
     },
     "metadata": {},
     "output_type": "display_data"
    },
    {
     "data": {
      "application/vnd.jupyter.widget-view+json": {
       "model_id": "",
       "version_major": 2,
       "version_minor": 0
      },
      "text/plain": [
       "Output()"
      ]
     },
     "metadata": {},
     "output_type": "display_data"
    },
    {
     "data": {
      "text/html": [
       "<pre style=\"white-space:pre;overflow-x:auto;line-height:normal;font-family:Menlo,'DejaVu Sans Mono',consolas,'Courier New',monospace\"></pre>\n"
      ],
      "text/plain": []
     },
     "metadata": {},
     "output_type": "display_data"
    },
    {
     "data": {
      "application/vnd.jupyter.widget-view+json": {
       "model_id": "",
       "version_major": 2,
       "version_minor": 0
      },
      "text/plain": [
       "Output()"
      ]
     },
     "metadata": {},
     "output_type": "display_data"
    },
    {
     "name": "stdout",
     "output_type": "stream",
     "text": [
      "Error measuring hallucination for row: 'context' cannot be None for the 'Hallucination' metric\n"
     ]
    },
    {
     "data": {
      "text/html": [
       "<pre style=\"white-space:pre;overflow-x:auto;line-height:normal;font-family:Menlo,'DejaVu Sans Mono',consolas,'Courier New',monospace\"></pre>\n"
      ],
      "text/plain": []
     },
     "metadata": {},
     "output_type": "display_data"
    },
    {
     "data": {
      "application/vnd.jupyter.widget-view+json": {
       "model_id": "",
       "version_major": 2,
       "version_minor": 0
      },
      "text/plain": [
       "Output()"
      ]
     },
     "metadata": {},
     "output_type": "display_data"
    },
    {
     "data": {
      "text/html": [
       "<pre style=\"white-space:pre;overflow-x:auto;line-height:normal;font-family:Menlo,'DejaVu Sans Mono',consolas,'Courier New',monospace\"></pre>\n"
      ],
      "text/plain": []
     },
     "metadata": {},
     "output_type": "display_data"
    },
    {
     "data": {
      "application/vnd.jupyter.widget-view+json": {
       "model_id": "",
       "version_major": 2,
       "version_minor": 0
      },
      "text/plain": [
       "Output()"
      ]
     },
     "metadata": {},
     "output_type": "display_data"
    },
    {
     "name": "stdout",
     "output_type": "stream",
     "text": [
      "Error measuring hallucination for row: 'context' cannot be None for the 'Hallucination' metric\n"
     ]
    },
    {
     "data": {
      "text/html": [
       "<pre style=\"white-space:pre;overflow-x:auto;line-height:normal;font-family:Menlo,'DejaVu Sans Mono',consolas,'Courier New',monospace\"></pre>\n"
      ],
      "text/plain": []
     },
     "metadata": {},
     "output_type": "display_data"
    },
    {
     "data": {
      "application/vnd.jupyter.widget-view+json": {
       "model_id": "",
       "version_major": 2,
       "version_minor": 0
      },
      "text/plain": [
       "Output()"
      ]
     },
     "metadata": {},
     "output_type": "display_data"
    },
    {
     "data": {
      "text/html": [
       "<pre style=\"white-space:pre;overflow-x:auto;line-height:normal;font-family:Menlo,'DejaVu Sans Mono',consolas,'Courier New',monospace\"></pre>\n"
      ],
      "text/plain": []
     },
     "metadata": {},
     "output_type": "display_data"
    },
    {
     "data": {
      "application/vnd.jupyter.widget-view+json": {
       "model_id": "",
       "version_major": 2,
       "version_minor": 0
      },
      "text/plain": [
       "Output()"
      ]
     },
     "metadata": {},
     "output_type": "display_data"
    },
    {
     "name": "stdout",
     "output_type": "stream",
     "text": [
      "Error measuring hallucination for row: 'context' cannot be None for the 'Hallucination' metric\n"
     ]
    },
    {
     "data": {
      "text/html": [
       "<pre style=\"white-space:pre;overflow-x:auto;line-height:normal;font-family:Menlo,'DejaVu Sans Mono',consolas,'Courier New',monospace\"></pre>\n"
      ],
      "text/plain": []
     },
     "metadata": {},
     "output_type": "display_data"
    },
    {
     "data": {
      "application/vnd.jupyter.widget-view+json": {
       "model_id": "",
       "version_major": 2,
       "version_minor": 0
      },
      "text/plain": [
       "Output()"
      ]
     },
     "metadata": {},
     "output_type": "display_data"
    },
    {
     "data": {
      "text/html": [
       "<pre style=\"white-space:pre;overflow-x:auto;line-height:normal;font-family:Menlo,'DejaVu Sans Mono',consolas,'Courier New',monospace\"></pre>\n"
      ],
      "text/plain": []
     },
     "metadata": {},
     "output_type": "display_data"
    },
    {
     "data": {
      "application/vnd.jupyter.widget-view+json": {
       "model_id": "",
       "version_major": 2,
       "version_minor": 0
      },
      "text/plain": [
       "Output()"
      ]
     },
     "metadata": {},
     "output_type": "display_data"
    },
    {
     "name": "stdout",
     "output_type": "stream",
     "text": [
      "Error measuring hallucination for row: 'context' cannot be None for the 'Hallucination' metric\n"
     ]
    },
    {
     "data": {
      "text/html": [
       "<pre style=\"white-space:pre;overflow-x:auto;line-height:normal;font-family:Menlo,'DejaVu Sans Mono',consolas,'Courier New',monospace\"></pre>\n"
      ],
      "text/plain": []
     },
     "metadata": {},
     "output_type": "display_data"
    },
    {
     "data": {
      "application/vnd.jupyter.widget-view+json": {
       "model_id": "52e0c7323077467f84295bc2f97f90a2",
       "version_major": 2,
       "version_minor": 0
      },
      "text/plain": [
       "Output()"
      ]
     },
     "metadata": {},
     "output_type": "display_data"
    },
    {
     "data": {
      "text/html": [
       "<pre style=\"white-space:pre;overflow-x:auto;line-height:normal;font-family:Menlo,'DejaVu Sans Mono',consolas,'Courier New',monospace\"></pre>\n"
      ],
      "text/plain": []
     },
     "metadata": {},
     "output_type": "display_data"
    },
    {
     "data": {
      "application/vnd.jupyter.widget-view+json": {
       "model_id": "28eb77373c17498980eab61d514fda3b",
       "version_major": 2,
       "version_minor": 0
      },
      "text/plain": [
       "Output()"
      ]
     },
     "metadata": {},
     "output_type": "display_data"
    },
    {
     "name": "stdout",
     "output_type": "stream",
     "text": [
      "Error measuring hallucination for row: 'context' cannot be None for the 'Hallucination' metric\n"
     ]
    },
    {
     "data": {
      "text/html": [
       "<pre style=\"white-space:pre;overflow-x:auto;line-height:normal;font-family:Menlo,'DejaVu Sans Mono',consolas,'Courier New',monospace\"></pre>\n"
      ],
      "text/plain": []
     },
     "metadata": {},
     "output_type": "display_data"
    },
    {
     "data": {
      "application/vnd.jupyter.widget-view+json": {
       "model_id": "614daf7f10fc4c0fb786873b7b7e6cf4",
       "version_major": 2,
       "version_minor": 0
      },
      "text/plain": [
       "Output()"
      ]
     },
     "metadata": {},
     "output_type": "display_data"
    },
    {
     "data": {
      "text/html": [
       "<pre style=\"white-space:pre;overflow-x:auto;line-height:normal;font-family:Menlo,'DejaVu Sans Mono',consolas,'Courier New',monospace\"></pre>\n"
      ],
      "text/plain": []
     },
     "metadata": {},
     "output_type": "display_data"
    },
    {
     "data": {
      "application/vnd.jupyter.widget-view+json": {
       "model_id": "b7da856a792744319f9c52b01205cab8",
       "version_major": 2,
       "version_minor": 0
      },
      "text/plain": [
       "Output()"
      ]
     },
     "metadata": {},
     "output_type": "display_data"
    },
    {
     "name": "stdout",
     "output_type": "stream",
     "text": [
      "Error measuring hallucination for row: 'context' cannot be None for the 'Hallucination' metric\n"
     ]
    },
    {
     "data": {
      "text/html": [
       "<pre style=\"white-space:pre;overflow-x:auto;line-height:normal;font-family:Menlo,'DejaVu Sans Mono',consolas,'Courier New',monospace\"></pre>\n"
      ],
      "text/plain": []
     },
     "metadata": {},
     "output_type": "display_data"
    },
    {
     "data": {
      "application/vnd.jupyter.widget-view+json": {
       "model_id": "48c63d73ee9147689387a92b217d6d26",
       "version_major": 2,
       "version_minor": 0
      },
      "text/plain": [
       "Output()"
      ]
     },
     "metadata": {},
     "output_type": "display_data"
    },
    {
     "data": {
      "text/html": [
       "<pre style=\"white-space:pre;overflow-x:auto;line-height:normal;font-family:Menlo,'DejaVu Sans Mono',consolas,'Courier New',monospace\"></pre>\n"
      ],
      "text/plain": []
     },
     "metadata": {},
     "output_type": "display_data"
    },
    {
     "data": {
      "application/vnd.jupyter.widget-view+json": {
       "model_id": "d776f3df07a04c92954320248341e64b",
       "version_major": 2,
       "version_minor": 0
      },
      "text/plain": [
       "Output()"
      ]
     },
     "metadata": {},
     "output_type": "display_data"
    },
    {
     "name": "stdout",
     "output_type": "stream",
     "text": [
      "Error measuring hallucination for row: 'context' cannot be None for the 'Hallucination' metric\n"
     ]
    },
    {
     "data": {
      "text/html": [
       "<pre style=\"white-space:pre;overflow-x:auto;line-height:normal;font-family:Menlo,'DejaVu Sans Mono',consolas,'Courier New',monospace\"></pre>\n"
      ],
      "text/plain": []
     },
     "metadata": {},
     "output_type": "display_data"
    },
    {
     "data": {
      "application/vnd.jupyter.widget-view+json": {
       "model_id": "9334c0842c0c410abd0436dfa4c523e5",
       "version_major": 2,
       "version_minor": 0
      },
      "text/plain": [
       "Output()"
      ]
     },
     "metadata": {},
     "output_type": "display_data"
    },
    {
     "data": {
      "text/html": [
       "<pre style=\"white-space:pre;overflow-x:auto;line-height:normal;font-family:Menlo,'DejaVu Sans Mono',consolas,'Courier New',monospace\"></pre>\n"
      ],
      "text/plain": []
     },
     "metadata": {},
     "output_type": "display_data"
    },
    {
     "data": {
      "application/vnd.jupyter.widget-view+json": {
       "model_id": "e3bb90a08b5740b596d1157d42b1bcbd",
       "version_major": 2,
       "version_minor": 0
      },
      "text/plain": [
       "Output()"
      ]
     },
     "metadata": {},
     "output_type": "display_data"
    },
    {
     "name": "stdout",
     "output_type": "stream",
     "text": [
      "Error measuring hallucination for row: 'context' cannot be None for the 'Hallucination' metric\n"
     ]
    },
    {
     "data": {
      "text/html": [
       "<pre style=\"white-space:pre;overflow-x:auto;line-height:normal;font-family:Menlo,'DejaVu Sans Mono',consolas,'Courier New',monospace\"></pre>\n"
      ],
      "text/plain": []
     },
     "metadata": {},
     "output_type": "display_data"
    },
    {
     "data": {
      "application/vnd.jupyter.widget-view+json": {
       "model_id": "c60f7d0196364eb18ccdd83147671da1",
       "version_major": 2,
       "version_minor": 0
      },
      "text/plain": [
       "Output()"
      ]
     },
     "metadata": {},
     "output_type": "display_data"
    },
    {
     "data": {
      "text/html": [
       "<pre style=\"white-space:pre;overflow-x:auto;line-height:normal;font-family:Menlo,'DejaVu Sans Mono',consolas,'Courier New',monospace\"></pre>\n"
      ],
      "text/plain": []
     },
     "metadata": {},
     "output_type": "display_data"
    },
    {
     "name": "stdout",
     "output_type": "stream",
     "text": [
      "Error measuring hallucination for row: 'context' cannot be None for the 'Hallucination' metric\n",
      "                                         instruction  \\\n",
      "0  What is the last festival celebrated in Tihar ...   \n",
      "1  Based on this paragraph, how many younger sibl...   \n",
      "2    Who coined the phrase \"Bike-shedding\" and when?   \n",
      "3  Given a reference text about Jen Shah, what is...   \n",
      "4  Given this reference text about the consumptio...   \n",
      "\n",
      "                                             context  \\\n",
      "0  Lakshmi Puja is celebrated as a part of Tihar,...   \n",
      "1  Kennedy was born on February 22, 1932, at St. ...   \n",
      "2  The law of triviality is C. Northcote Parkinso...   \n",
      "3  Shah starred on the reality television series ...   \n",
      "4  The United States is a leading exporter of pea...   \n",
      "\n",
      "                                            response  \\\n",
      "0  The festival lasts for 5 days and Bhai Tika is...   \n",
      "1  Based on this paragraph, Kennedy had no younge...   \n",
      "2  The phrase \"bike-shedding\" was introduced in 1...   \n",
      "3  Jen Shah came into the spotlight in November 2...   \n",
      "4  National Peanut Butter Day takes place on Janu...   \n",
      "\n",
      "                                  predicted_response  faithfulness_score  \\\n",
      "0  Lakshmi Puja is celebrated on the third day of...            0.666667   \n",
      "1  Kennedy was named after his father's assistant...            1.000000   \n",
      "2  The law of triviality, also known as the bike-...            1.000000   \n",
      "3  Jen Shah, a star of The Real Housewives of Sal...            1.000000   \n",
      "4  The United States is a major exporter and cons...            1.000000   \n",
      "\n",
      "   relevancy_score  hallucination_score  \n",
      "0              0.0                  0.0  \n",
      "1              0.0                  0.0  \n",
      "2              0.0                  0.0  \n",
      "3              0.8                  0.0  \n",
      "4              0.0                  0.0  \n",
      "Average Hallucination Score: 0.00%\n"
     ]
    }
   ],
   "source": [
    "##average and inidvuao scoes\n",
    "from deepeval.metrics import HallucinationMetric\n",
    "\n",
    "# Initialize hallucination metric\n",
    "hallucination_metric = HallucinationMetric(threshold=0.5)\n",
    "\n",
    "# Prepare list for hallucination scores\n",
    "hallucination_scores = []\n",
    "\n",
    "# Prepare list to hold hallu_deepeval rows\n",
    "hallu_deepeval_rows = []\n",
    "\n",
    "for _, row in subset_df.iterrows():\n",
    "    # Create test case\n",
    "    test_case = LLMTestCase(\n",
    "        input=row['instruction'],\n",
    "        actual_output=row['predicted_response'],\n",
    "        expected_output=row['response'],\n",
    "        retrieval_context=[row['context']]\n",
    "    )\n",
    "    # Measure existing metrics\n",
    "    faithfulness_metric = FaithfulnessMetric(threshold=0.5)\n",
    "    relevancy_metric = AnswerRelevancyMetric(threshold=0.5)\n",
    "\n",
    "    faithfulness_metric.measure(test_case)\n",
    "    relevancy_metric.measure(test_case)\n",
    "\n",
    "    # Measure hallucination\n",
    "    try:\n",
    "        hallucination_metric.measure(test_case)\n",
    "        hallucination_score = hallucination_metric.score\n",
    "    except Exception as e:\n",
    "        print(f\"Error measuring hallucination for row: {e}\")\n",
    "        hallucination_score = 0.0\n",
    "\n",
    "    # Append hallucination score\n",
    "    hallucination_scores.append(hallucination_score)\n",
    "\n",
    "    # Append all data + scores\n",
    "    hallu_deepeval_rows.append({\n",
    "        **row,\n",
    "        'faithfulness_score': faithfulness_metric.score,\n",
    "        'relevancy_score': relevancy_metric.score,\n",
    "        'hallucination_score': hallucination_score\n",
    "    })\n",
    "\n",
    "# Create a new DataFrame with all scores\n",
    "hallu_deepeval_df = pd.DataFrame(hallu_deepeval_rows)\n",
    "\n",
    "# Print or save the hallu_deepeval DataFrame\n",
    "print(hallu_deepeval_df.head())\n",
    "\n",
    "# Calculate overall average hallucination score\n",
    "if hallucination_scores:\n",
    "    avg_hallucination = sum(hallucination_scores) / len(hallucination_scores)\n",
    "    print(f\"Average Hallucination Score: {avg_hallucination:.2%}\")\n",
    "else:\n",
    "    print(\"No hallucination scores computed.\")"
   ]
  },
  {
   "cell_type": "code",
   "execution_count": 20,
   "id": "3c468551-5e8b-4c68-822c-e65738307f1b",
   "metadata": {},
   "outputs": [],
   "source": [
    "hallu_deepeval_df.to_csv('Withhallu_deepeval_df_responses.csv', index=False)\n"
   ]
  },
  {
   "cell_type": "code",
   "execution_count": null,
   "id": "28aaaaa7-1fd8-4290-aba7-31d479beb1a2",
   "metadata": {},
   "outputs": [],
   "source": []
  },
  {
   "cell_type": "code",
   "execution_count": null,
   "id": "d9d23783-15fe-47d1-9fba-6f60d4db3f63",
   "metadata": {},
   "outputs": [],
   "source": []
  },
  {
   "cell_type": "code",
   "execution_count": null,
   "id": "186aa2af-d3d4-4a78-9fae-837ec1fe53b5",
   "metadata": {},
   "outputs": [],
   "source": []
  },
  {
   "cell_type": "code",
   "execution_count": null,
   "id": "6ff2a6bd-595b-4d47-a7fb-6d24c0aa9eaf",
   "metadata": {},
   "outputs": [],
   "source": [
    "##genericmetrics"
   ]
  },
  {
   "cell_type": "code",
   "execution_count": 21,
   "id": "d4a01f93-9766-4629-8c42-80d5b3f1d58b",
   "metadata": {},
   "outputs": [
    {
     "name": "stdout",
     "output_type": "stream",
     "text": [
      "Requirement already satisfied: spacy in /usr/local/lib/python3.10/dist-packages (3.8.5)\n",
      "Requirement already satisfied: spacy-legacy<3.1.0,>=3.0.11 in /usr/local/lib/python3.10/dist-packages (from spacy) (3.0.12)\n",
      "Requirement already satisfied: spacy-loggers<2.0.0,>=1.0.0 in /usr/local/lib/python3.10/dist-packages (from spacy) (1.0.5)\n",
      "Requirement already satisfied: murmurhash<1.1.0,>=0.28.0 in /usr/local/lib/python3.10/dist-packages (from spacy) (1.0.12)\n",
      "Requirement already satisfied: cymem<2.1.0,>=2.0.2 in /usr/local/lib/python3.10/dist-packages (from spacy) (2.0.11)\n",
      "Requirement already satisfied: preshed<3.1.0,>=3.0.2 in /usr/local/lib/python3.10/dist-packages (from spacy) (3.0.9)\n",
      "Requirement already satisfied: thinc<8.4.0,>=8.3.4 in /usr/local/lib/python3.10/dist-packages (from spacy) (8.3.6)\n",
      "Requirement already satisfied: wasabi<1.2.0,>=0.9.1 in /usr/local/lib/python3.10/dist-packages (from spacy) (1.1.3)\n",
      "Requirement already satisfied: srsly<3.0.0,>=2.4.3 in /usr/local/lib/python3.10/dist-packages (from spacy) (2.5.1)\n",
      "Requirement already satisfied: catalogue<2.1.0,>=2.0.6 in /usr/local/lib/python3.10/dist-packages (from spacy) (2.0.10)\n",
      "Requirement already satisfied: weasel<0.5.0,>=0.1.0 in /usr/local/lib/python3.10/dist-packages (from spacy) (0.4.1)\n",
      "Requirement already satisfied: typer<1.0.0,>=0.3.0 in /usr/local/lib/python3.10/dist-packages (from spacy) (0.15.2)\n",
      "Requirement already satisfied: tqdm<5.0.0,>=4.38.0 in /usr/local/lib/python3.10/dist-packages (from spacy) (4.67.1)\n",
      "Requirement already satisfied: numpy>=1.19.0 in /usr/local/lib/python3.10/dist-packages (from spacy) (2.2.4)\n",
      "Requirement already satisfied: requests<3.0.0,>=2.13.0 in /usr/local/lib/python3.10/dist-packages (from spacy) (2.32.3)\n",
      "Requirement already satisfied: pydantic!=1.8,!=1.8.1,<3.0.0,>=1.7.4 in /usr/local/lib/python3.10/dist-packages (from spacy) (2.11.3)\n",
      "Requirement already satisfied: jinja2 in /usr/local/lib/python3.10/dist-packages (from spacy) (3.1.6)\n",
      "Requirement already satisfied: setuptools in /usr/local/lib/python3.10/dist-packages (from spacy) (68.2.2)\n",
      "Requirement already satisfied: packaging>=20.0 in /usr/local/lib/python3.10/dist-packages (from spacy) (23.2)\n",
      "Requirement already satisfied: langcodes<4.0.0,>=3.2.0 in /usr/local/lib/python3.10/dist-packages (from spacy) (3.5.0)\n",
      "Requirement already satisfied: language-data>=1.2 in /usr/local/lib/python3.10/dist-packages (from langcodes<4.0.0,>=3.2.0->spacy) (1.3.0)\n",
      "Requirement already satisfied: annotated-types>=0.6.0 in /usr/local/lib/python3.10/dist-packages (from pydantic!=1.8,!=1.8.1,<3.0.0,>=1.7.4->spacy) (0.7.0)\n",
      "Requirement already satisfied: pydantic-core==2.33.1 in /usr/local/lib/python3.10/dist-packages (from pydantic!=1.8,!=1.8.1,<3.0.0,>=1.7.4->spacy) (2.33.1)\n",
      "Requirement already satisfied: typing-extensions>=4.12.2 in /usr/local/lib/python3.10/dist-packages (from pydantic!=1.8,!=1.8.1,<3.0.0,>=1.7.4->spacy) (4.13.2)\n",
      "Requirement already satisfied: typing-inspection>=0.4.0 in /usr/local/lib/python3.10/dist-packages (from pydantic!=1.8,!=1.8.1,<3.0.0,>=1.7.4->spacy) (0.4.0)\n",
      "Requirement already satisfied: charset-normalizer<4,>=2 in /usr/local/lib/python3.10/dist-packages (from requests<3.0.0,>=2.13.0->spacy) (2.1.1)\n",
      "Requirement already satisfied: idna<4,>=2.5 in /usr/local/lib/python3.10/dist-packages (from requests<3.0.0,>=2.13.0->spacy) (3.4)\n",
      "Requirement already satisfied: urllib3<3,>=1.21.1 in /usr/local/lib/python3.10/dist-packages (from requests<3.0.0,>=2.13.0->spacy) (1.26.13)\n",
      "Requirement already satisfied: certifi>=2017.4.17 in /usr/local/lib/python3.10/dist-packages (from requests<3.0.0,>=2.13.0->spacy) (2025.1.31)\n",
      "Requirement already satisfied: blis<1.4.0,>=1.3.0 in /usr/local/lib/python3.10/dist-packages (from thinc<8.4.0,>=8.3.4->spacy) (1.3.0)\n",
      "Requirement already satisfied: confection<1.0.0,>=0.0.1 in /usr/local/lib/python3.10/dist-packages (from thinc<8.4.0,>=8.3.4->spacy) (0.1.5)\n",
      "Requirement already satisfied: click>=8.0.0 in /usr/local/lib/python3.10/dist-packages (from typer<1.0.0,>=0.3.0->spacy) (8.1.8)\n",
      "Requirement already satisfied: shellingham>=1.3.0 in /usr/local/lib/python3.10/dist-packages (from typer<1.0.0,>=0.3.0->spacy) (1.5.4)\n",
      "Requirement already satisfied: rich>=10.11.0 in /usr/local/lib/python3.10/dist-packages (from typer<1.0.0,>=0.3.0->spacy) (13.9.4)\n",
      "Requirement already satisfied: cloudpathlib<1.0.0,>=0.7.0 in /usr/local/lib/python3.10/dist-packages (from weasel<0.5.0,>=0.1.0->spacy) (0.21.0)\n",
      "Requirement already satisfied: smart-open<8.0.0,>=5.2.1 in /usr/local/lib/python3.10/dist-packages (from weasel<0.5.0,>=0.1.0->spacy) (7.1.0)\n",
      "Requirement already satisfied: MarkupSafe>=2.0 in /usr/local/lib/python3.10/dist-packages (from jinja2->spacy) (2.1.2)\n",
      "Requirement already satisfied: marisa-trie>=1.1.0 in /usr/local/lib/python3.10/dist-packages (from language-data>=1.2->langcodes<4.0.0,>=3.2.0->spacy) (1.2.1)\n",
      "Requirement already satisfied: markdown-it-py>=2.2.0 in /usr/local/lib/python3.10/dist-packages (from rich>=10.11.0->typer<1.0.0,>=0.3.0->spacy) (3.0.0)\n",
      "Requirement already satisfied: pygments<3.0.0,>=2.13.0 in /usr/local/lib/python3.10/dist-packages (from rich>=10.11.0->typer<1.0.0,>=0.3.0->spacy) (2.16.1)\n",
      "Requirement already satisfied: wrapt in /usr/local/lib/python3.10/dist-packages (from smart-open<8.0.0,>=5.2.1->weasel<0.5.0,>=0.1.0->spacy) (1.17.2)\n",
      "Requirement already satisfied: mdurl~=0.1 in /usr/local/lib/python3.10/dist-packages (from markdown-it-py>=2.2.0->rich>=10.11.0->typer<1.0.0,>=0.3.0->spacy) (0.1.2)\n",
      "\u001b[33mWARNING: Running pip as the 'root' user can result in broken permissions and conflicting behaviour with the system package manager. It is recommended to use a virtual environment instead: https://pip.pypa.io/warnings/venv\u001b[0m\u001b[33m\n",
      "\u001b[0m\n",
      "\u001b[1m[\u001b[0m\u001b[34;49mnotice\u001b[0m\u001b[1;39;49m]\u001b[0m\u001b[39;49m A new release of pip is available: \u001b[0m\u001b[31;49m23.3.1\u001b[0m\u001b[39;49m -> \u001b[0m\u001b[32;49m25.0.1\u001b[0m\n",
      "\u001b[1m[\u001b[0m\u001b[34;49mnotice\u001b[0m\u001b[1;39;49m]\u001b[0m\u001b[39;49m To update, run: \u001b[0m\u001b[32;49mpython -m pip install --upgrade pip\u001b[0m\n"
     ]
    }
   ],
   "source": [
    "!pip install spacy"
   ]
  },
  {
   "cell_type": "code",
   "execution_count": 22,
   "id": "d52aba4f-2acf-4cf3-97ac-93f4566bff07",
   "metadata": {},
   "outputs": [],
   "source": [
    "import pandas as pd\n",
    "import openai\n",
    "import spacy\n",
    "from deepeval.metrics import FaithfulnessMetric, AnswerRelevancyMetric, HallucinationMetric\n",
    "from deepeval.test_case import LLMTestCase\n",
    "from nltk.translate.bleu_score import sentence_bleu\n",
    "from rouge import Rouge\n",
    "from bert_score import score\n",
    "import numpy as np\n",
    "\n",
    "# Install required packages if missing (run once)\n",
    "# !pip install nltk rouge spacy bert-score python-Levenshtein\n",
    "# !python -m spacy download en_core_web_sm\n",
    "#import en_core_web_sm\n",
    "\n",
    "#nlp = en_core_web_sm.load()\n",
    "# Initialize NLP models\n",
    "nlp = spacy.load(\"en_core_web_sm\")\n",
    "rouge = Rouge()\n"
   ]
  },
  {
   "cell_type": "code",
   "execution_count": 23,
   "id": "117ca499-7d47-47d8-8fe9-bfdaf138fe95",
   "metadata": {},
   "outputs": [
    {
     "name": "stdout",
     "output_type": "stream",
     "text": [
      "\n",
      "A module that was compiled using NumPy 1.x cannot be run in\n",
      "NumPy 2.2.4 as it may crash. To support both 1.x and 2.x\n",
      "versions of NumPy, modules must be compiled with NumPy 2.0.\n",
      "Some module may need to rebuild instead e.g. with 'pybind11>=2.12'.\n",
      "\n",
      "If you are a user of the module, the easiest solution will be to\n",
      "downgrade to 'numpy<2' or try to upgrade the affected module.\n",
      "We expect that some modules will need time to support NumPy 2.\n",
      "\n",
      "Traceback (most recent call last):  File \"/usr/lib/python3.10/runpy.py\", line 187, in _run_module_as_main\n",
      "    mod_name, mod_spec, code = _get_module_details(mod_name, _Error)\n",
      "  File \"/usr/lib/python3.10/runpy.py\", line 146, in _get_module_details\n",
      "    return _get_module_details(pkg_main_name, error)\n",
      "  File \"/usr/lib/python3.10/runpy.py\", line 110, in _get_module_details\n",
      "    __import__(pkg_name)\n",
      "  File \"/usr/local/lib/python3.10/dist-packages/spacy/__init__.py\", line 6, in <module>\n",
      "    from .errors import setup_default_warnings\n",
      "  File \"/usr/local/lib/python3.10/dist-packages/spacy/errors.py\", line 3, in <module>\n",
      "    from .compat import Literal\n",
      "  File \"/usr/local/lib/python3.10/dist-packages/spacy/compat.py\", line 4, in <module>\n",
      "    from thinc.util import copy_array\n",
      "  File \"/usr/local/lib/python3.10/dist-packages/thinc/__init__.py\", line 5, in <module>\n",
      "    from .config import registry\n",
      "  File \"/usr/local/lib/python3.10/dist-packages/thinc/config.py\", line 5, in <module>\n",
      "    from .types import Decorator\n",
      "  File \"/usr/local/lib/python3.10/dist-packages/thinc/types.py\", line 27, in <module>\n",
      "    from .compat import cupy, has_cupy\n",
      "  File \"/usr/local/lib/python3.10/dist-packages/thinc/compat.py\", line 35, in <module>\n",
      "    import torch\n",
      "  File \"/usr/local/lib/python3.10/dist-packages/torch/__init__.py\", line 1382, in <module>\n",
      "    from .functional import *  # noqa: F403\n",
      "  File \"/usr/local/lib/python3.10/dist-packages/torch/functional.py\", line 7, in <module>\n",
      "    import torch.nn.functional as F\n",
      "  File \"/usr/local/lib/python3.10/dist-packages/torch/nn/__init__.py\", line 1, in <module>\n",
      "    from .modules import *  # noqa: F403\n",
      "  File \"/usr/local/lib/python3.10/dist-packages/torch/nn/modules/__init__.py\", line 35, in <module>\n",
      "    from .transformer import TransformerEncoder, TransformerDecoder, \\\n",
      "  File \"/usr/local/lib/python3.10/dist-packages/torch/nn/modules/transformer.py\", line 20, in <module>\n",
      "    device: torch.device = torch.device(torch._C._get_default_device()),  # torch.device('cpu'),\n",
      "/usr/local/lib/python3.10/dist-packages/torch/nn/modules/transformer.py:20: UserWarning: Failed to initialize NumPy: _ARRAY_API not found (Triggered internally at ../torch/csrc/utils/tensor_numpy.cpp:84.)\n",
      "  device: torch.device = torch.device(torch._C._get_default_device()),  # torch.device('cpu'),\n",
      "Collecting en-core-web-sm==3.8.0\n",
      "  Downloading https://github.com/explosion/spacy-models/releases/download/en_core_web_sm-3.8.0/en_core_web_sm-3.8.0-py3-none-any.whl (12.8 MB)\n",
      "\u001b[2K     \u001b[90m━━━━━━━━━━━━━━━━━━━━━━━━━━━━━━━━━━━━━━━━\u001b[0m \u001b[32m12.8/12.8 MB\u001b[0m \u001b[31m80.6 MB/s\u001b[0m eta \u001b[36m0:00:00\u001b[0m00:01\u001b[0m0:01\u001b[0m\n",
      "\u001b[?25h\u001b[33mWARNING: Running pip as the 'root' user can result in broken permissions and conflicting behaviour with the system package manager. It is recommended to use a virtual environment instead: https://pip.pypa.io/warnings/venv\u001b[0m\u001b[33m\n",
      "\u001b[0m\n",
      "\u001b[1m[\u001b[0m\u001b[34;49mnotice\u001b[0m\u001b[1;39;49m]\u001b[0m\u001b[39;49m A new release of pip is available: \u001b[0m\u001b[31;49m23.3.1\u001b[0m\u001b[39;49m -> \u001b[0m\u001b[32;49m25.0.1\u001b[0m\n",
      "\u001b[1m[\u001b[0m\u001b[34;49mnotice\u001b[0m\u001b[1;39;49m]\u001b[0m\u001b[39;49m To update, run: \u001b[0m\u001b[32;49mpython -m pip install --upgrade pip\u001b[0m\n",
      "\u001b[38;5;2m✔ Download and installation successful\u001b[0m\n",
      "You can now load the package via spacy.load('en_core_web_sm')\n"
     ]
    }
   ],
   "source": [
    "!python -m spacy download en_core_web_sm"
   ]
  },
  {
   "cell_type": "code",
   "execution_count": null,
   "id": "62e5a84f-7825-4396-b390-f8f5c46b0e12",
   "metadata": {},
   "outputs": [],
   "source": []
  },
  {
   "cell_type": "code",
   "execution_count": null,
   "id": "6dcdba27-482b-4daa-866d-36e9fa1c1162",
   "metadata": {},
   "outputs": [],
   "source": []
  },
  {
   "cell_type": "code",
   "execution_count": null,
   "id": "4431c812-b9ab-4bd2-b7db-0eada11d4120",
   "metadata": {},
   "outputs": [],
   "source": []
  },
  {
   "cell_type": "code",
   "execution_count": null,
   "id": "8eaff4c4-24f8-4805-b9b7-36142ba98f5b",
   "metadata": {},
   "outputs": [],
   "source": []
  },
  {
   "cell_type": "code",
   "execution_count": 24,
   "id": "34f635f7-ff0b-4ac5-a42a-e4e9f9f62bec",
   "metadata": {},
   "outputs": [
    {
     "name": "stdout",
     "output_type": "stream",
     "text": [
      "Initializing StandardMetricsCalculator...\n",
      "...Rouge object initialized.\n"
     ]
    }
   ],
   "source": [
    "import spacy\n",
    "from rouge import Rouge  # Make sure this import is correct\n",
    "import pandas as pd\n",
    "from nltk.translate.bleu_score import sentence_bleu\n",
    "from bert_score import score\n",
    "\n",
    "class StandardMetricsCalculator:\n",
    "    def __init__(self):\n",
    "        print(\"Initializing StandardMetricsCalculator...\")  # Add print statement for debugging\n",
    "        self.nlp = spacy.load(\"en_core_web_sm\")\n",
    "        # --- THIS IS THE CORRECTED PART for rouge library ---\n",
    "        # REMOVED max_n=3, ADDED 'rouge-3' to metrics\n",
    "        self.rouge = Rouge(metrics=['rouge-l', 'rouge-3'])\n",
    "        print(\"...Rouge object initialized.\")  # Add print statement\n",
    "\n",
    "    def _calculate_exact_match(self, row):\n",
    "        pred = str(row['predicted_response']).strip().lower()\n",
    "        truth = str(row['response']).strip().lower()\n",
    "        return 1 if pred == truth else 0\n",
    "\n",
    "    def _calculate_f1(self, row):\n",
    "        pred_tokens = set(str(row['predicted_response']).lower().split())\n",
    "        truth_tokens = set(str(row['response']).lower().split())\n",
    "        common = pred_tokens & truth_tokens\n",
    "        if not pred_tokens or not truth_tokens:\n",
    "            return 0.0\n",
    "        precision = len(common)/len(pred_tokens)\n",
    "        recall = len(common)/len(truth_tokens)\n",
    "        return 2*(precision*recall)/(precision+recall) if (precision+recall) else 0\n",
    "\n",
    "    def _calculate_bleu(self, row):\n",
    "        try:\n",
    "            return sentence_bleu(\n",
    "                [str(row['response']).split()],\n",
    "                str(row['predicted_response']).split(),\n",
    "                weights=(0.5, 0.5, 0, 0)\n",
    "            )\n",
    "        except:\n",
    "            return 0.0\n",
    "\n",
    "    # --- Make sure _calculate_rouge uses self.rouge ---\n",
    "    def _calculate_rouge(self, row):\n",
    "        try:\n",
    "            # Using the 'rouge' library's get_scores method\n",
    "            scores = self.rouge.get_scores(\n",
    "                hyps=str(row['predicted_response']),\n",
    "                refs=str(row['response'])\n",
    "            )\n",
    "            # Check if scores were returned (can be empty for empty strings)\n",
    "            if scores:\n",
    "                return {\n",
    "                    'rouge_l': scores[0]['rouge-l']['f'],\n",
    "                    'rouge_3': scores[0]['rouge-3']['f']\n",
    "                }\n",
    "            else:\n",
    "                return {'rouge_l': 0.0, 'rouge_3': 0.0}\n",
    "        except Exception as e:\n",
    "            # print(f\"Error calculating ROUGE for row: {e}\")  # Optional: print errors per row\n",
    "            return {'rouge_l': 0.0, 'rouge_3': 0.0}\n",
    "\n",
    "    def _calculate_keyword_overlap(self, row):\n",
    "        pred_doc = self.nlp(str(row['predicted_response']))\n",
    "        truth_doc = self.nlp(str(row['response']))\n",
    "        pred_keys = {t.lemma_ for t in pred_doc if t.pos_ in ['NOUN','PROPN','VERB']}\n",
    "        truth_keys = {t.lemma_ for t in truth_doc if t.pos_ in ['NOUN','PROPN','VERB']}\n",
    "        return len(pred_keys & truth_keys)/len(truth_keys) if truth_keys else 0.0\n",
    "\n",
    "    def compute_metrics(self, df):\n",
    "        metrics_df = df.apply(lambda row: pd.Series({\n",
    "            'accuracy': self._calculate_exact_match(row),\n",
    "            'f1_score': self._calculate_f1(row),\n",
    "            'bleu_score': self._calculate_bleu(row),\n",
    "            **self._calculate_rouge(row),\n",
    "            'keyword_overlap': self._calculate_keyword_overlap(row),\n",
    "            'length_ratio': len(str(row['predicted_response']).split()) / \n",
    "                           max(1, len(str(row['response']).split()))\n",
    "        }), axis=1)\n",
    "        \n",
    "        # Add BERTScore separately (batch computation)\n",
    "        _, _, bert_scores = score(\n",
    "            df['predicted_response'].astype(str).tolist(),\n",
    "            df['response'].astype(str).tolist(),\n",
    "            lang='en',\n",
    "            model_type='bert-base-uncased'\n",
    "        )\n",
    "        # Convert bert_scores to a list of floats\n",
    "        metrics_df['bert_score'] = [score.item() for score in bert_scores]\n",
    "        \n",
    "        return metrics_df\n",
    "\n",
    "# Initialize calculator\n",
    "metric_calculator = StandardMetricsCalculator()\n",
    "\n",
    "# Compute standard metrics (returns new DF with only metric columns)\n",
    "standard_metrics_df = metric_calculator.compute_metrics(subset_df)\n",
    "\n",
    "# Combine with original DF horizontally\n",
    "final_df = pd.concat([subset_df, standard_metrics_df], axis=1)\n",
    "\n",
    "# Keep original column order + new metrics\n",
    "final_columns = [\n",
    "    'instruction', 'context', 'response', 'predicted_response',\n",
    "    'accuracy', 'f1_score', 'bleu_score', 'rouge_l', 'rouge_3',\n",
    "    'bert_score', 'keyword_overlap', 'length_ratio'\n",
    "]\n",
    "\n",
    "final_df = final_df[final_columns].copy()"
   ]
  },
  {
   "cell_type": "code",
   "execution_count": 25,
   "id": "ac269796-5ab5-418c-bf3f-83e27542a192",
   "metadata": {},
   "outputs": [
    {
     "data": {
      "text/html": [
       "<div>\n",
       "<style scoped>\n",
       "    .dataframe tbody tr th:only-of-type {\n",
       "        vertical-align: middle;\n",
       "    }\n",
       "\n",
       "    .dataframe tbody tr th {\n",
       "        vertical-align: top;\n",
       "    }\n",
       "\n",
       "    .dataframe thead th {\n",
       "        text-align: right;\n",
       "    }\n",
       "</style>\n",
       "<table border=\"1\" class=\"dataframe\">\n",
       "  <thead>\n",
       "    <tr style=\"text-align: right;\">\n",
       "      <th></th>\n",
       "      <th>accuracy</th>\n",
       "      <th>f1_score</th>\n",
       "      <th>bleu_score</th>\n",
       "      <th>rouge_l</th>\n",
       "      <th>rouge_3</th>\n",
       "      <th>keyword_overlap</th>\n",
       "      <th>length_ratio</th>\n",
       "      <th>bert_score</th>\n",
       "    </tr>\n",
       "  </thead>\n",
       "  <tbody>\n",
       "    <tr>\n",
       "      <th>24</th>\n",
       "      <td>0.0</td>\n",
       "      <td>0.181818</td>\n",
       "      <td>5.273843e-155</td>\n",
       "      <td>0.121212</td>\n",
       "      <td>0.000000</td>\n",
       "      <td>0.200000</td>\n",
       "      <td>1.846154</td>\n",
       "      <td>0.567486</td>\n",
       "    </tr>\n",
       "    <tr>\n",
       "      <th>26</th>\n",
       "      <td>0.0</td>\n",
       "      <td>0.127660</td>\n",
       "      <td>4.430915e-155</td>\n",
       "      <td>0.085106</td>\n",
       "      <td>0.000000</td>\n",
       "      <td>0.166667</td>\n",
       "      <td>2.000000</td>\n",
       "      <td>0.502016</td>\n",
       "    </tr>\n",
       "    <tr>\n",
       "      <th>15</th>\n",
       "      <td>0.0</td>\n",
       "      <td>0.047619</td>\n",
       "      <td>2.274773e-155</td>\n",
       "      <td>0.047059</td>\n",
       "      <td>0.000000</td>\n",
       "      <td>0.142857</td>\n",
       "      <td>7.818182</td>\n",
       "      <td>0.432627</td>\n",
       "    </tr>\n",
       "    <tr>\n",
       "      <th>28</th>\n",
       "      <td>0.0</td>\n",
       "      <td>0.551724</td>\n",
       "      <td>2.660100e-01</td>\n",
       "      <td>0.511111</td>\n",
       "      <td>0.192308</td>\n",
       "      <td>0.653846</td>\n",
       "      <td>0.573529</td>\n",
       "      <td>0.730172</td>\n",
       "    </tr>\n",
       "    <tr>\n",
       "      <th>20</th>\n",
       "      <td>0.0</td>\n",
       "      <td>0.148148</td>\n",
       "      <td>3.515896e-155</td>\n",
       "      <td>0.140351</td>\n",
       "      <td>0.000000</td>\n",
       "      <td>0.200000</td>\n",
       "      <td>4.153846</td>\n",
       "      <td>0.451536</td>\n",
       "    </tr>\n",
       "    <tr>\n",
       "      <th>23</th>\n",
       "      <td>0.0</td>\n",
       "      <td>0.188679</td>\n",
       "      <td>7.239537e-02</td>\n",
       "      <td>0.185185</td>\n",
       "      <td>0.033333</td>\n",
       "      <td>0.800000</td>\n",
       "      <td>5.400000</td>\n",
       "      <td>0.603000</td>\n",
       "    </tr>\n",
       "    <tr>\n",
       "      <th>17</th>\n",
       "      <td>0.0</td>\n",
       "      <td>0.306122</td>\n",
       "      <td>1.259000e-01</td>\n",
       "      <td>0.323232</td>\n",
       "      <td>0.035398</td>\n",
       "      <td>0.461538</td>\n",
       "      <td>1.294118</td>\n",
       "      <td>0.650237</td>\n",
       "    </tr>\n",
       "    <tr>\n",
       "      <th>16</th>\n",
       "      <td>0.0</td>\n",
       "      <td>0.163265</td>\n",
       "      <td>5.025189e-02</td>\n",
       "      <td>0.163265</td>\n",
       "      <td>0.000000</td>\n",
       "      <td>0.400000</td>\n",
       "      <td>3.750000</td>\n",
       "      <td>0.505760</td>\n",
       "    </tr>\n",
       "    <tr>\n",
       "      <th>29</th>\n",
       "      <td>0.0</td>\n",
       "      <td>0.214286</td>\n",
       "      <td>5.690117e-02</td>\n",
       "      <td>0.144578</td>\n",
       "      <td>0.000000</td>\n",
       "      <td>0.473684</td>\n",
       "      <td>1.146341</td>\n",
       "      <td>0.634866</td>\n",
       "    </tr>\n",
       "    <tr>\n",
       "      <th>19</th>\n",
       "      <td>0.0</td>\n",
       "      <td>0.238806</td>\n",
       "      <td>7.476962e-02</td>\n",
       "      <td>0.257143</td>\n",
       "      <td>0.000000</td>\n",
       "      <td>0.454545</td>\n",
       "      <td>2.000000</td>\n",
       "      <td>0.566347</td>\n",
       "    </tr>\n",
       "    <tr>\n",
       "      <th>22</th>\n",
       "      <td>0.0</td>\n",
       "      <td>0.264151</td>\n",
       "      <td>9.513030e-02</td>\n",
       "      <td>0.218182</td>\n",
       "      <td>0.066667</td>\n",
       "      <td>1.000000</td>\n",
       "      <td>4.727273</td>\n",
       "      <td>0.475960</td>\n",
       "    </tr>\n",
       "    <tr>\n",
       "      <th>25</th>\n",
       "      <td>0.0</td>\n",
       "      <td>0.189189</td>\n",
       "      <td>5.178134e-02</td>\n",
       "      <td>0.155844</td>\n",
       "      <td>0.020619</td>\n",
       "      <td>0.545455</td>\n",
       "      <td>8.090909</td>\n",
       "      <td>0.447087</td>\n",
       "    </tr>\n",
       "    <tr>\n",
       "      <th>27</th>\n",
       "      <td>0.0</td>\n",
       "      <td>0.460526</td>\n",
       "      <td>8.733443e-02</td>\n",
       "      <td>0.437500</td>\n",
       "      <td>0.166667</td>\n",
       "      <td>0.283582</td>\n",
       "      <td>0.344086</td>\n",
       "      <td>0.665219</td>\n",
       "    </tr>\n",
       "    <tr>\n",
       "      <th>18</th>\n",
       "      <td>0.0</td>\n",
       "      <td>0.254237</td>\n",
       "      <td>7.308394e-02</td>\n",
       "      <td>0.216667</td>\n",
       "      <td>0.014184</td>\n",
       "      <td>0.421053</td>\n",
       "      <td>0.666667</td>\n",
       "      <td>0.678454</td>\n",
       "    </tr>\n",
       "    <tr>\n",
       "      <th>21</th>\n",
       "      <td>0.0</td>\n",
       "      <td>0.166667</td>\n",
       "      <td>4.640363e-155</td>\n",
       "      <td>0.166667</td>\n",
       "      <td>0.000000</td>\n",
       "      <td>0.500000</td>\n",
       "      <td>3.444444</td>\n",
       "      <td>0.586677</td>\n",
       "    </tr>\n",
       "  </tbody>\n",
       "</table>\n",
       "</div>"
      ],
      "text/plain": [
       "    accuracy  f1_score     bleu_score   rouge_l   rouge_3  keyword_overlap  \\\n",
       "24       0.0  0.181818  5.273843e-155  0.121212  0.000000         0.200000   \n",
       "26       0.0  0.127660  4.430915e-155  0.085106  0.000000         0.166667   \n",
       "15       0.0  0.047619  2.274773e-155  0.047059  0.000000         0.142857   \n",
       "28       0.0  0.551724   2.660100e-01  0.511111  0.192308         0.653846   \n",
       "20       0.0  0.148148  3.515896e-155  0.140351  0.000000         0.200000   \n",
       "23       0.0  0.188679   7.239537e-02  0.185185  0.033333         0.800000   \n",
       "17       0.0  0.306122   1.259000e-01  0.323232  0.035398         0.461538   \n",
       "16       0.0  0.163265   5.025189e-02  0.163265  0.000000         0.400000   \n",
       "29       0.0  0.214286   5.690117e-02  0.144578  0.000000         0.473684   \n",
       "19       0.0  0.238806   7.476962e-02  0.257143  0.000000         0.454545   \n",
       "22       0.0  0.264151   9.513030e-02  0.218182  0.066667         1.000000   \n",
       "25       0.0  0.189189   5.178134e-02  0.155844  0.020619         0.545455   \n",
       "27       0.0  0.460526   8.733443e-02  0.437500  0.166667         0.283582   \n",
       "18       0.0  0.254237   7.308394e-02  0.216667  0.014184         0.421053   \n",
       "21       0.0  0.166667  4.640363e-155  0.166667  0.000000         0.500000   \n",
       "\n",
       "    length_ratio  bert_score  \n",
       "24      1.846154    0.567486  \n",
       "26      2.000000    0.502016  \n",
       "15      7.818182    0.432627  \n",
       "28      0.573529    0.730172  \n",
       "20      4.153846    0.451536  \n",
       "23      5.400000    0.603000  \n",
       "17      1.294118    0.650237  \n",
       "16      3.750000    0.505760  \n",
       "29      1.146341    0.634866  \n",
       "19      2.000000    0.566347  \n",
       "22      4.727273    0.475960  \n",
       "25      8.090909    0.447087  \n",
       "27      0.344086    0.665219  \n",
       "18      0.666667    0.678454  \n",
       "21      3.444444    0.586677  "
      ]
     },
     "execution_count": 25,
     "metadata": {},
     "output_type": "execute_result"
    }
   ],
   "source": [
    "standard_metrics_df "
   ]
  },
  {
   "cell_type": "code",
   "execution_count": 26,
   "id": "6e5d0511-75fc-4bc5-b466-d42d2a307783",
   "metadata": {},
   "outputs": [
    {
     "data": {
      "text/html": [
       "<div>\n",
       "<style scoped>\n",
       "    .dataframe tbody tr th:only-of-type {\n",
       "        vertical-align: middle;\n",
       "    }\n",
       "\n",
       "    .dataframe tbody tr th {\n",
       "        vertical-align: top;\n",
       "    }\n",
       "\n",
       "    .dataframe thead th {\n",
       "        text-align: right;\n",
       "    }\n",
       "</style>\n",
       "<table border=\"1\" class=\"dataframe\">\n",
       "  <thead>\n",
       "    <tr style=\"text-align: right;\">\n",
       "      <th></th>\n",
       "      <th>instruction</th>\n",
       "      <th>context</th>\n",
       "      <th>response</th>\n",
       "      <th>predicted_response</th>\n",
       "      <th>faithfulness_score</th>\n",
       "      <th>relevancy_score</th>\n",
       "      <th>hallucination_score</th>\n",
       "    </tr>\n",
       "  </thead>\n",
       "  <tbody>\n",
       "    <tr>\n",
       "      <th>0</th>\n",
       "      <td>What is the last festival celebrated in Tihar ...</td>\n",
       "      <td>Lakshmi Puja is celebrated as a part of Tihar,...</td>\n",
       "      <td>The festival lasts for 5 days and Bhai Tika is...</td>\n",
       "      <td>Lakshmi Puja is celebrated on the third day of...</td>\n",
       "      <td>0.666667</td>\n",
       "      <td>0.000000</td>\n",
       "      <td>0.0</td>\n",
       "    </tr>\n",
       "    <tr>\n",
       "      <th>1</th>\n",
       "      <td>Based on this paragraph, how many younger sibl...</td>\n",
       "      <td>Kennedy was born on February 22, 1932, at St. ...</td>\n",
       "      <td>Based on this paragraph, Kennedy had no younge...</td>\n",
       "      <td>Kennedy was named after his father's assistant...</td>\n",
       "      <td>1.000000</td>\n",
       "      <td>0.000000</td>\n",
       "      <td>0.0</td>\n",
       "    </tr>\n",
       "    <tr>\n",
       "      <th>2</th>\n",
       "      <td>Who coined the phrase \"Bike-shedding\" and when?</td>\n",
       "      <td>The law of triviality is C. Northcote Parkinso...</td>\n",
       "      <td>The phrase \"bike-shedding\" was introduced in 1...</td>\n",
       "      <td>The law of triviality, also known as the bike-...</td>\n",
       "      <td>1.000000</td>\n",
       "      <td>0.000000</td>\n",
       "      <td>0.0</td>\n",
       "    </tr>\n",
       "    <tr>\n",
       "      <th>3</th>\n",
       "      <td>Given a reference text about Jen Shah, what is...</td>\n",
       "      <td>Shah starred on the reality television series ...</td>\n",
       "      <td>Jen Shah came into the spotlight in November 2...</td>\n",
       "      <td>Jen Shah, a star of The Real Housewives of Sal...</td>\n",
       "      <td>1.000000</td>\n",
       "      <td>0.800000</td>\n",
       "      <td>0.0</td>\n",
       "    </tr>\n",
       "    <tr>\n",
       "      <th>4</th>\n",
       "      <td>Given this reference text about the consumptio...</td>\n",
       "      <td>The United States is a leading exporter of pea...</td>\n",
       "      <td>National Peanut Butter Day takes place on Janu...</td>\n",
       "      <td>The United States is a major exporter and cons...</td>\n",
       "      <td>1.000000</td>\n",
       "      <td>0.000000</td>\n",
       "      <td>0.0</td>\n",
       "    </tr>\n",
       "    <tr>\n",
       "      <th>5</th>\n",
       "      <td>What is wine?</td>\n",
       "      <td>Wine is an alcoholic drink typically made from...</td>\n",
       "      <td>Wine is an alcoholic drink typically made from...</td>\n",
       "      <td>Wine is primarily made from fermented grapes, ...</td>\n",
       "      <td>1.000000</td>\n",
       "      <td>1.000000</td>\n",
       "      <td>0.0</td>\n",
       "    </tr>\n",
       "    <tr>\n",
       "      <th>6</th>\n",
       "      <td>Who tends to participates in hackathons?</td>\n",
       "      <td>A hackathon (also known as a hack day, hackfes...</td>\n",
       "      <td>Computer programmers and others involved in so...</td>\n",
       "      <td>A hackathon is an event where participants eng...</td>\n",
       "      <td>1.000000</td>\n",
       "      <td>0.428571</td>\n",
       "      <td>0.0</td>\n",
       "    </tr>\n",
       "    <tr>\n",
       "      <th>7</th>\n",
       "      <td>Given a reference text about Run Towards the D...</td>\n",
       "      <td>Run Towards the Danger is a 2022 Canadian essa...</td>\n",
       "      <td>Six essays are part of the Run Towards the Dan...</td>\n",
       "      <td>\"Run Towards the Danger\" is a 2022 essay colle...</td>\n",
       "      <td>1.000000</td>\n",
       "      <td>0.000000</td>\n",
       "      <td>0.0</td>\n",
       "    </tr>\n",
       "    <tr>\n",
       "      <th>8</th>\n",
       "      <td>What types of problems in government could AI ...</td>\n",
       "      <td>The potential uses of AI in government are wid...</td>\n",
       "      <td>The potential uses of AI in government are wid...</td>\n",
       "      <td>AI can be effectively applied in government op...</td>\n",
       "      <td>1.000000</td>\n",
       "      <td>1.000000</td>\n",
       "      <td>0.0</td>\n",
       "    </tr>\n",
       "    <tr>\n",
       "      <th>9</th>\n",
       "      <td>Which American president spoke Dutch as their ...</td>\n",
       "      <td>Van Buren received a basic education at the vi...</td>\n",
       "      <td>President Van Buren spoke Dutch as his first l...</td>\n",
       "      <td>Martin Van Buren, the only U.S. president whos...</td>\n",
       "      <td>1.000000</td>\n",
       "      <td>0.285714</td>\n",
       "      <td>0.0</td>\n",
       "    </tr>\n",
       "    <tr>\n",
       "      <th>10</th>\n",
       "      <td>Was Furze Hill an established community in the...</td>\n",
       "      <td>Furze Hill (or Furzehill) is a hamlet situated...</td>\n",
       "      <td>No, it was not an established community until ...</td>\n",
       "      <td>Furze Hill is a hamlet located in the New Fore...</td>\n",
       "      <td>1.000000</td>\n",
       "      <td>0.250000</td>\n",
       "      <td>0.0</td>\n",
       "    </tr>\n",
       "    <tr>\n",
       "      <th>11</th>\n",
       "      <td>What event John Johnstone won as a rider?</td>\n",
       "      <td>John Johnstone (1881-1935) was a British busin...</td>\n",
       "      <td>John Johnstone won the Jockey Cup on a horse n...</td>\n",
       "      <td>John Johnstone was a prominent British busines...</td>\n",
       "      <td>0.833333</td>\n",
       "      <td>0.454545</td>\n",
       "      <td>0.0</td>\n",
       "    </tr>\n",
       "    <tr>\n",
       "      <th>12</th>\n",
       "      <td>Can you tell me something about Stanley J. Gol...</td>\n",
       "      <td>Stanley J. Goldberg (born Maryland, 1939) is a...</td>\n",
       "      <td>Stanley J. Goldberg (born Maryland, 1939) is a...</td>\n",
       "      <td>Stanley J. Goldberg is a Special Trial Judge o...</td>\n",
       "      <td>1.000000</td>\n",
       "      <td>0.857143</td>\n",
       "      <td>0.0</td>\n",
       "    </tr>\n",
       "    <tr>\n",
       "      <th>13</th>\n",
       "      <td>What is Marketing Automation?</td>\n",
       "      <td>Marketing Automation is a subset of customer r...</td>\n",
       "      <td>Marketing Automation is software that helps ma...</td>\n",
       "      <td>Marketing Automation is a technology-driven pr...</td>\n",
       "      <td>1.000000</td>\n",
       "      <td>1.000000</td>\n",
       "      <td>0.0</td>\n",
       "    </tr>\n",
       "    <tr>\n",
       "      <th>14</th>\n",
       "      <td>What does fasting mean?</td>\n",
       "      <td>Fasting is the abstention from eating and some...</td>\n",
       "      <td>Fasting is the abstention from eating and some...</td>\n",
       "      <td>Fasting refers to the period after complete di...</td>\n",
       "      <td>1.000000</td>\n",
       "      <td>1.000000</td>\n",
       "      <td>0.0</td>\n",
       "    </tr>\n",
       "  </tbody>\n",
       "</table>\n",
       "</div>"
      ],
      "text/plain": [
       "                                          instruction  \\\n",
       "0   What is the last festival celebrated in Tihar ...   \n",
       "1   Based on this paragraph, how many younger sibl...   \n",
       "2     Who coined the phrase \"Bike-shedding\" and when?   \n",
       "3   Given a reference text about Jen Shah, what is...   \n",
       "4   Given this reference text about the consumptio...   \n",
       "5                                       What is wine?   \n",
       "6            Who tends to participates in hackathons?   \n",
       "7   Given a reference text about Run Towards the D...   \n",
       "8   What types of problems in government could AI ...   \n",
       "9   Which American president spoke Dutch as their ...   \n",
       "10  Was Furze Hill an established community in the...   \n",
       "11          What event John Johnstone won as a rider?   \n",
       "12  Can you tell me something about Stanley J. Gol...   \n",
       "13                      What is Marketing Automation?   \n",
       "14                            What does fasting mean?   \n",
       "\n",
       "                                              context  \\\n",
       "0   Lakshmi Puja is celebrated as a part of Tihar,...   \n",
       "1   Kennedy was born on February 22, 1932, at St. ...   \n",
       "2   The law of triviality is C. Northcote Parkinso...   \n",
       "3   Shah starred on the reality television series ...   \n",
       "4   The United States is a leading exporter of pea...   \n",
       "5   Wine is an alcoholic drink typically made from...   \n",
       "6   A hackathon (also known as a hack day, hackfes...   \n",
       "7   Run Towards the Danger is a 2022 Canadian essa...   \n",
       "8   The potential uses of AI in government are wid...   \n",
       "9   Van Buren received a basic education at the vi...   \n",
       "10  Furze Hill (or Furzehill) is a hamlet situated...   \n",
       "11  John Johnstone (1881-1935) was a British busin...   \n",
       "12  Stanley J. Goldberg (born Maryland, 1939) is a...   \n",
       "13  Marketing Automation is a subset of customer r...   \n",
       "14  Fasting is the abstention from eating and some...   \n",
       "\n",
       "                                             response  \\\n",
       "0   The festival lasts for 5 days and Bhai Tika is...   \n",
       "1   Based on this paragraph, Kennedy had no younge...   \n",
       "2   The phrase \"bike-shedding\" was introduced in 1...   \n",
       "3   Jen Shah came into the spotlight in November 2...   \n",
       "4   National Peanut Butter Day takes place on Janu...   \n",
       "5   Wine is an alcoholic drink typically made from...   \n",
       "6   Computer programmers and others involved in so...   \n",
       "7   Six essays are part of the Run Towards the Dan...   \n",
       "8   The potential uses of AI in government are wid...   \n",
       "9   President Van Buren spoke Dutch as his first l...   \n",
       "10  No, it was not an established community until ...   \n",
       "11  John Johnstone won the Jockey Cup on a horse n...   \n",
       "12  Stanley J. Goldberg (born Maryland, 1939) is a...   \n",
       "13  Marketing Automation is software that helps ma...   \n",
       "14  Fasting is the abstention from eating and some...   \n",
       "\n",
       "                                   predicted_response  faithfulness_score  \\\n",
       "0   Lakshmi Puja is celebrated on the third day of...            0.666667   \n",
       "1   Kennedy was named after his father's assistant...            1.000000   \n",
       "2   The law of triviality, also known as the bike-...            1.000000   \n",
       "3   Jen Shah, a star of The Real Housewives of Sal...            1.000000   \n",
       "4   The United States is a major exporter and cons...            1.000000   \n",
       "5   Wine is primarily made from fermented grapes, ...            1.000000   \n",
       "6   A hackathon is an event where participants eng...            1.000000   \n",
       "7   \"Run Towards the Danger\" is a 2022 essay colle...            1.000000   \n",
       "8   AI can be effectively applied in government op...            1.000000   \n",
       "9   Martin Van Buren, the only U.S. president whos...            1.000000   \n",
       "10  Furze Hill is a hamlet located in the New Fore...            1.000000   \n",
       "11  John Johnstone was a prominent British busines...            0.833333   \n",
       "12  Stanley J. Goldberg is a Special Trial Judge o...            1.000000   \n",
       "13  Marketing Automation is a technology-driven pr...            1.000000   \n",
       "14  Fasting refers to the period after complete di...            1.000000   \n",
       "\n",
       "    relevancy_score  hallucination_score  \n",
       "0          0.000000                  0.0  \n",
       "1          0.000000                  0.0  \n",
       "2          0.000000                  0.0  \n",
       "3          0.800000                  0.0  \n",
       "4          0.000000                  0.0  \n",
       "5          1.000000                  0.0  \n",
       "6          0.428571                  0.0  \n",
       "7          0.000000                  0.0  \n",
       "8          1.000000                  0.0  \n",
       "9          0.285714                  0.0  \n",
       "10         0.250000                  0.0  \n",
       "11         0.454545                  0.0  \n",
       "12         0.857143                  0.0  \n",
       "13         1.000000                  0.0  \n",
       "14         1.000000                  0.0  "
      ]
     },
     "execution_count": 26,
     "metadata": {},
     "output_type": "execute_result"
    }
   ],
   "source": [
    "hallu_deepeval_df"
   ]
  },
  {
   "cell_type": "code",
   "execution_count": 27,
   "id": "39d83fcd-643e-419b-92b2-bfe4a8b95c33",
   "metadata": {},
   "outputs": [
    {
     "name": "stdout",
     "output_type": "stream",
     "text": [
      "Initializing StandardMetricsCalculator...\n",
      "...Rouge object initialized.\n",
      "                                          instruction  \\\n",
      "24  What is the last festival celebrated in Tihar ...   \n",
      "26  Based on this paragraph, how many younger sibl...   \n",
      "15    Who coined the phrase \"Bike-shedding\" and when?   \n",
      "28  Given a reference text about Jen Shah, what is...   \n",
      "20  Given this reference text about the consumptio...   \n",
      "\n",
      "                                              context  \\\n",
      "24  Lakshmi Puja is celebrated as a part of Tihar,...   \n",
      "26  Kennedy was born on February 22, 1932, at St. ...   \n",
      "15  The law of triviality is C. Northcote Parkinso...   \n",
      "28  Shah starred on the reality television series ...   \n",
      "20  The United States is a leading exporter of pea...   \n",
      "\n",
      "                                             response  \\\n",
      "24  The festival lasts for 5 days and Bhai Tika is...   \n",
      "26  Based on this paragraph, Kennedy had no younge...   \n",
      "15  The phrase \"bike-shedding\" was introduced in 1...   \n",
      "28  Jen Shah came into the spotlight in November 2...   \n",
      "20  National Peanut Butter Day takes place on Janu...   \n",
      "\n",
      "                                   predicted_response  accuracy  f1_score  \\\n",
      "24  Lakshmi Puja is celebrated on the third day of...         0  0.181818   \n",
      "26  Kennedy was named after his father's assistant...         0  0.127660   \n",
      "15  The law of triviality, also known as the bike-...         0  0.047619   \n",
      "28  Jen Shah, a star of The Real Housewives of Sal...         0  0.551724   \n",
      "20  The United States is a major exporter and cons...         0  0.148148   \n",
      "\n",
      "       bleu_score   rouge_l   rouge_3  bert_score  keyword_overlap  \\\n",
      "24  5.273843e-155  0.121212  0.000000    0.567486         0.200000   \n",
      "26  4.430915e-155  0.085106  0.000000    0.502016         0.166667   \n",
      "15  2.274773e-155  0.047059  0.000000    0.432627         0.142857   \n",
      "28   2.660100e-01  0.511111  0.192308    0.730172         0.653846   \n",
      "20  3.515896e-155  0.140351  0.000000    0.451536         0.200000   \n",
      "\n",
      "    length_ratio  \n",
      "24      1.846154  \n",
      "26      2.000000  \n",
      "15      7.818182  \n",
      "28      0.573529  \n",
      "20      4.153846  \n"
     ]
    }
   ],
   "source": [
    "import spacy\n",
    "from rouge import Rouge  # Make sure this import is correct\n",
    "import pandas as pd\n",
    "from nltk.translate.bleu_score import sentence_bleu\n",
    "from bert_score import score\n",
    "\n",
    "class StandardMetricsCalculator:\n",
    "    def __init__(self):\n",
    "        print(\"Initializing StandardMetricsCalculator...\")  # Add print statement for debugging\n",
    "        self.nlp = spacy.load(\"en_core_web_sm\")\n",
    "        # --- THIS IS THE CORRECTED PART for rouge library ---\n",
    "        # REMOVED max_n=3, ADDED 'rouge-3' to metrics\n",
    "        self.rouge = Rouge(metrics=['rouge-l', 'rouge-3'])\n",
    "        print(\"...Rouge object initialized.\")  # Add print statement\n",
    "\n",
    "    def _calculate_exact_match(self, row):\n",
    "        pred = str(row['predicted_response']).strip().lower()\n",
    "        truth = str(row['response']).strip().lower()\n",
    "        return 1 if pred == truth else 0\n",
    "\n",
    "    def _calculate_f1(self, row):\n",
    "        pred_tokens = set(str(row['predicted_response']).lower().split())\n",
    "        truth_tokens = set(str(row['response']).lower().split())\n",
    "        common = pred_tokens & truth_tokens\n",
    "        if not pred_tokens or not truth_tokens:\n",
    "            return 0.0\n",
    "        precision = len(common)/len(pred_tokens)\n",
    "        recall = len(common)/len(truth_tokens)\n",
    "        return 2*(precision*recall)/(precision+recall) if (precision+recall) else 0\n",
    "\n",
    "    def _calculate_bleu(self, row):\n",
    "        try:\n",
    "            return sentence_bleu(\n",
    "                [str(row['response']).split()],\n",
    "                str(row['predicted_response']).split(),\n",
    "                weights=(0.5, 0.5, 0, 0)\n",
    "            )\n",
    "        except:\n",
    "            return 0.0\n",
    "\n",
    "    # --- Make sure _calculate_rouge uses self.rouge ---\n",
    "    def _calculate_rouge(self, row):\n",
    "        try:\n",
    "            # Using the 'rouge' library's get_scores method\n",
    "            scores = self.rouge.get_scores(\n",
    "                hyps=str(row['predicted_response']),\n",
    "                refs=str(row['response'])\n",
    "            )\n",
    "            # Check if scores were returned (can be empty for empty strings)\n",
    "            if scores:\n",
    "                return {\n",
    "                    'rouge_l': scores[0]['rouge-l']['f'],\n",
    "                    'rouge_3': scores[0]['rouge-3']['f']\n",
    "                }\n",
    "            else:\n",
    "                return {'rouge_l': 0.0, 'rouge_3': 0.0}\n",
    "        except Exception as e:\n",
    "            # print(f\"Error calculating ROUGE for row: {e}\")  # Optional: print errors per row\n",
    "            return {'rouge_l': 0.0, 'rouge_3': 0.0}\n",
    "\n",
    "    def _calculate_keyword_overlap(self, row):\n",
    "        pred_doc = self.nlp(str(row['predicted_response']))\n",
    "        truth_doc = self.nlp(str(row['response']))\n",
    "        pred_keys = {t.lemma_ for t in pred_doc if t.pos_ in ['NOUN','PROPN','VERB']}\n",
    "        truth_keys = {t.lemma_ for t in truth_doc if t.pos_ in ['NOUN','PROPN','VERB']}\n",
    "        return len(pred_keys & truth_keys)/len(truth_keys) if truth_keys else 0.0\n",
    "\n",
    "    def compute_metrics(self, df):\n",
    "        # Create a copy of the original DataFrame to include in the output\n",
    "        metrics_df = df.copy()  # Start with the original data\n",
    "\n",
    "        # Calculate metrics and add them as new columns\n",
    "        metrics_df['accuracy'] = df.apply(self._calculate_exact_match, axis=1)\n",
    "        metrics_df['f1_score'] = df.apply(self._calculate_f1, axis=1)\n",
    "        metrics_df['bleu_score'] = df.apply(self._calculate_bleu, axis=1)\n",
    "\n",
    "        # Calculate ROUGE and add the columns\n",
    "        rouge_scores = df.apply(self._calculate_rouge, axis=1, result_type='expand')\n",
    "        metrics_df['rouge_l'] = rouge_scores['rouge_l']\n",
    "        metrics_df['rouge_3'] = rouge_scores['rouge_3']\n",
    "\n",
    "        metrics_df['keyword_overlap'] = df.apply(self._calculate_keyword_overlap, axis=1)\n",
    "        metrics_df['length_ratio'] = df.apply(lambda row: len(str(row['predicted_response']).split()) /\n",
    "                                               max(1, len(str(row['response']).split())), axis=1)\n",
    "\n",
    "        # Add BERTScore separately (batch computation)\n",
    "        _, _, bert_scores = score(\n",
    "            df['predicted_response'].astype(str).tolist(),\n",
    "            df['response'].astype(str).tolist(),\n",
    "            lang='en',\n",
    "            model_type='bert-base-uncased'\n",
    "        )\n",
    "        # Convert bert_scores to a list of floats\n",
    "        metrics_df['bert_score'] = [score.item() for score in bert_scores]\n",
    "\n",
    "        return metrics_df\n",
    "\n",
    "\n",
    "# Initialize calculator\n",
    "metric_calculator = StandardMetricsCalculator()\n",
    "\n",
    "# Assuming 'subset_df' is your DataFrame\n",
    "# Compute metrics and append to the original DataFrame\n",
    "final_df = metric_calculator.compute_metrics(subset_df)\n",
    "\n",
    "# (Optional) Reorder columns if you want a specific order\n",
    "final_columns = [\n",
    "    'instruction', 'context', 'response', 'predicted_response',\n",
    "    'accuracy', 'f1_score', 'bleu_score', 'rouge_l', 'rouge_3',\n",
    "    'bert_score', 'keyword_overlap', 'length_ratio'\n",
    "]\n",
    "\n",
    "# Ensure all columns in final_columns exist in final_df, if not, keep all the original columns\n",
    "final_columns = [col for col in final_columns if col in final_df.columns] + [col for col in final_df.columns if col not in final_columns]\n",
    "\n",
    "final_df2 = final_df[final_columns].copy()\n",
    "\n",
    "\n",
    "print(final_df2.head())  # Display the first few rows to verify the structure"
   ]
  },
  {
   "cell_type": "code",
   "execution_count": null,
   "id": "a77ed6fe-540b-4e36-bd71-708f4d4cd0f3",
   "metadata": {},
   "outputs": [],
   "source": []
  },
  {
   "cell_type": "code",
   "execution_count": 28,
   "id": "75f74634-2cb6-4082-8ec1-b4ad28b53db2",
   "metadata": {},
   "outputs": [
    {
     "name": "stdout",
     "output_type": "stream",
     "text": [
      "Initializing StandardMetricsCalculator...\n",
      "...Rouge object initialized.\n",
      "                                          instruction  \\\n",
      "24  What is the last festival celebrated in Tihar ...   \n",
      "26  Based on this paragraph, how many younger sibl...   \n",
      "15    Who coined the phrase \"Bike-shedding\" and when?   \n",
      "28  Given a reference text about Jen Shah, what is...   \n",
      "20  Given this reference text about the consumptio...   \n",
      "\n",
      "                                              context  \\\n",
      "24  Lakshmi Puja is celebrated as a part of Tihar,...   \n",
      "26  Kennedy was born on February 22, 1932, at St. ...   \n",
      "15  The law of triviality is C. Northcote Parkinso...   \n",
      "28  Shah starred on the reality television series ...   \n",
      "20  The United States is a leading exporter of pea...   \n",
      "\n",
      "                                             response  \\\n",
      "24  The festival lasts for 5 days and Bhai Tika is...   \n",
      "26  Based on this paragraph, Kennedy had no younge...   \n",
      "15  The phrase \"bike-shedding\" was introduced in 1...   \n",
      "28  Jen Shah came into the spotlight in November 2...   \n",
      "20  National Peanut Butter Day takes place on Janu...   \n",
      "\n",
      "                                   predicted_response  exact_match  f1_score  \\\n",
      "24  Lakshmi Puja is celebrated on the third day of...            0  0.181818   \n",
      "26  Kennedy was named after his father's assistant...            0  0.127660   \n",
      "15  The law of triviality, also known as the bike-...            0  0.047619   \n",
      "28  Jen Shah, a star of The Real Housewives of Sal...            0  0.551724   \n",
      "20  The United States is a major exporter and cons...            0  0.148148   \n",
      "\n",
      "       bleu_score   rouge_l   rouge_3  bert_score  keyword_overlap  \\\n",
      "24  5.273843e-155  0.121212  0.000000    0.567486         0.200000   \n",
      "26  4.430915e-155  0.085106  0.000000    0.502016         0.166667   \n",
      "15  2.274773e-155  0.047059  0.000000    0.432627         0.142857   \n",
      "28   2.660100e-01  0.511111  0.192308    0.730172         0.653846   \n",
      "20  3.515896e-155  0.140351  0.000000    0.451536         0.200000   \n",
      "\n",
      "    length_ratio  \n",
      "24      1.846154  \n",
      "26      2.000000  \n",
      "15      7.818182  \n",
      "28      0.573529  \n",
      "20      4.153846  \n"
     ]
    }
   ],
   "source": [
    "import spacy\n",
    "from rouge import Rouge\n",
    "import pandas as pd\n",
    "from nltk.translate.bleu_score import sentence_bleu\n",
    "from bert_score import score\n",
    "\n",
    "class StandardMetricsCalculator:\n",
    "    def __init__(self):\n",
    "        print(\"Initializing StandardMetricsCalculator...\")\n",
    "        self.nlp = spacy.load(\"en_core_web_sm\")\n",
    "        self.rouge = Rouge(metrics=['rouge-l', 'rouge-3'])\n",
    "        print(\"...Rouge object initialized.\")\n",
    "\n",
    "    def _calculate_exact_match(self, row):\n",
    "        \"\"\"Calculate exact match between predicted and true response.\"\"\"\n",
    "        pred = str(row['predicted_response']).strip().lower()\n",
    "        truth = str(row['response']).strip().lower()\n",
    "        return 1 if pred == truth else 0\n",
    "\n",
    "    def _calculate_f1(self, row):\n",
    "        \"\"\"Calculate F1 score based on token overlap.\"\"\"\n",
    "        pred_tokens = set(str(row['predicted_response']).lower().split())\n",
    "        truth_tokens = set(str(row['response']).lower().split())\n",
    "        common = pred_tokens & truth_tokens\n",
    "        if not pred_tokens or not truth_tokens:\n",
    "            return 0.0\n",
    "        precision = len(common) / len(pred_tokens)\n",
    "        recall = len(common) / len(truth_tokens)\n",
    "        return 2 * (precision * recall) / (precision + recall) if (precision + recall) else 0\n",
    "\n",
    "    def _calculate_bleu(self, row):\n",
    "        \"\"\"Calculate BLEU score.\"\"\"\n",
    "        try:\n",
    "            return sentence_bleu(\n",
    "                references=[str(row['response']).split()],\n",
    "                hypothesis=str(row['predicted_response']).split(),\n",
    "                weights=(0.5, 0.5, 0, 0)\n",
    "            )\n",
    "        except Exception as e:\n",
    "            print(f\"Error calculating BLEU: {e}\")\n",
    "            return 0.0\n",
    "\n",
    "    def _calculate_rouge(self, row):\n",
    "        \"\"\"Calculate ROUGE scores.\"\"\"\n",
    "        try:\n",
    "            scores = self.rouge.get_scores(\n",
    "                hyps=str(row['predicted_response']),\n",
    "                refs=str(row['response'])\n",
    "            )\n",
    "            if scores:\n",
    "                return {\n",
    "                    'rouge_l': scores[0]['rouge-l']['f'],\n",
    "                    'rouge_3': scores[0]['rouge-3']['f']\n",
    "                }\n",
    "            else:\n",
    "                return {'rouge_l': 0.0, 'rouge_3': 0.0}\n",
    "        except Exception as e:\n",
    "            print(f\"Error calculating ROUGE: {e}\")\n",
    "            return {'rouge_l': 0.0, 'rouge_3': 0.0}\n",
    "\n",
    "    def _calculate_keyword_overlap(self, row):\n",
    "        \"\"\"Calculate keyword overlap using SpaCy.\"\"\"\n",
    "        pred_doc = self.nlp(str(row['predicted_response']))\n",
    "        truth_doc = self.nlp(str(row['response']))\n",
    "        pred_keys = {t.lemma_ for t in pred_doc if t.pos_ in ['NOUN', 'PROPN', 'VERB']}\n",
    "        truth_keys = {t.lemma_ for t in truth_doc if t.pos_ in ['NOUN', 'PROPN', 'VERB']}\n",
    "        return len(pred_keys & truth_keys) / len(truth_keys) if truth_keys else 0.0\n",
    "\n",
    "    def compute_metrics(self, df):\n",
    "        \"\"\"Compute all metrics and append them to the DataFrame.\"\"\"\n",
    "        metrics_df = df.copy()\n",
    "\n",
    "        # Calculate metrics and add them as new columns\n",
    "        metrics_df['exact_match'] = df.apply(self._calculate_exact_match, axis=1)\n",
    "        metrics_df['f1_score'] = df.apply(self._calculate_f1, axis=1)\n",
    "        metrics_df['bleu_score'] = df.apply(self._calculate_bleu, axis=1)\n",
    "\n",
    "        # Calculate ROUGE scores\n",
    "        rouge_scores = df.apply(self._calculate_rouge, axis=1, result_type='expand')\n",
    "        metrics_df['rouge_l'] = rouge_scores['rouge_l']\n",
    "        metrics_df['rouge_3'] = rouge_scores['rouge_3']\n",
    "\n",
    "        metrics_df['keyword_overlap'] = df.apply(self._calculate_keyword_overlap, axis=1)\n",
    "        metrics_df['length_ratio'] = df.apply(lambda row: len(str(row['predicted_response']).split()) /\n",
    "                                              max(1, len(str(row['response']).split())), axis=1)\n",
    "\n",
    "        # Calculate BERTScore\n",
    "        _, _, bert_scores = score(\n",
    "            metrics_df['predicted_response'].astype(str).tolist(),\n",
    "            metrics_df['response'].astype(str).tolist(),\n",
    "            lang='en',\n",
    "            model_type='bert-base-uncased'\n",
    "        )\n",
    "        metrics_df['bert_score'] = [score.item() for score in bert_scores]\n",
    "\n",
    "        return metrics_df\n",
    "\n",
    "\n",
    "# Example usage\n",
    "# Assuming 'subset_df' is your DataFrame containing 'instruction', 'context', 'response', and 'predicted_response' columns\n",
    "# subset_df = pd.DataFrame({...})\n",
    "\n",
    "# Initialize calculator\n",
    "metric_calculator = StandardMetricsCalculator()\n",
    "\n",
    "# Compute metrics and append to the original DataFrame\n",
    "final_df = metric_calculator.compute_metrics(subset_df)\n",
    "\n",
    "# Reorder columns for better presentation\n",
    "final_columns = [\n",
    "    'instruction', 'context', 'response', 'predicted_response',\n",
    "    'exact_match', 'f1_score', 'bleu_score', 'rouge_l', 'rouge_3',\n",
    "    'bert_score', 'keyword_overlap', 'length_ratio'\n",
    "]\n",
    "final_columns = [col for col in final_columns if col in final_df.columns] + [col for col in final_df.columns if col not in final_columns]\n",
    "final_df3 = final_df[final_columns].copy()\n",
    "\n",
    "print(final_df3.head())  # Display the first few rows to verify the structure"
   ]
  },
  {
   "cell_type": "code",
   "execution_count": null,
   "id": "911a97dc-8fda-473f-91f3-af6beb97cbea",
   "metadata": {},
   "outputs": [],
   "source": []
  },
  {
   "cell_type": "code",
   "execution_count": null,
   "id": "71fdb46f-1da4-4033-9c6d-045293332618",
   "metadata": {},
   "outputs": [],
   "source": []
  },
  {
   "cell_type": "code",
   "execution_count": 29,
   "id": "f231c2cb-fd4b-4aa7-9409-e195da40e21f",
   "metadata": {},
   "outputs": [
    {
     "data": {
      "text/html": [
       "<div>\n",
       "<style scoped>\n",
       "    .dataframe tbody tr th:only-of-type {\n",
       "        vertical-align: middle;\n",
       "    }\n",
       "\n",
       "    .dataframe tbody tr th {\n",
       "        vertical-align: top;\n",
       "    }\n",
       "\n",
       "    .dataframe thead th {\n",
       "        text-align: right;\n",
       "    }\n",
       "</style>\n",
       "<table border=\"1\" class=\"dataframe\">\n",
       "  <thead>\n",
       "    <tr style=\"text-align: right;\">\n",
       "      <th></th>\n",
       "      <th>instruction</th>\n",
       "      <th>context</th>\n",
       "      <th>response</th>\n",
       "      <th>predicted_response</th>\n",
       "      <th>accuracy</th>\n",
       "      <th>f1_score</th>\n",
       "      <th>bleu_score</th>\n",
       "      <th>rouge_l</th>\n",
       "      <th>rouge_3</th>\n",
       "      <th>bert_score</th>\n",
       "      <th>keyword_overlap</th>\n",
       "      <th>length_ratio</th>\n",
       "    </tr>\n",
       "  </thead>\n",
       "  <tbody>\n",
       "    <tr>\n",
       "      <th>24</th>\n",
       "      <td>What is the last festival celebrated in Tihar ...</td>\n",
       "      <td>Lakshmi Puja is celebrated as a part of Tihar,...</td>\n",
       "      <td>The festival lasts for 5 days and Bhai Tika is...</td>\n",
       "      <td>Lakshmi Puja is celebrated on the third day of...</td>\n",
       "      <td>0</td>\n",
       "      <td>0.181818</td>\n",
       "      <td>5.273843e-155</td>\n",
       "      <td>0.121212</td>\n",
       "      <td>0.000000</td>\n",
       "      <td>0.567486</td>\n",
       "      <td>0.200000</td>\n",
       "      <td>1.846154</td>\n",
       "    </tr>\n",
       "    <tr>\n",
       "      <th>26</th>\n",
       "      <td>Based on this paragraph, how many younger sibl...</td>\n",
       "      <td>Kennedy was born on February 22, 1932, at St. ...</td>\n",
       "      <td>Based on this paragraph, Kennedy had no younge...</td>\n",
       "      <td>Kennedy was named after his father's assistant...</td>\n",
       "      <td>0</td>\n",
       "      <td>0.127660</td>\n",
       "      <td>4.430915e-155</td>\n",
       "      <td>0.085106</td>\n",
       "      <td>0.000000</td>\n",
       "      <td>0.502016</td>\n",
       "      <td>0.166667</td>\n",
       "      <td>2.000000</td>\n",
       "    </tr>\n",
       "    <tr>\n",
       "      <th>15</th>\n",
       "      <td>Who coined the phrase \"Bike-shedding\" and when?</td>\n",
       "      <td>The law of triviality is C. Northcote Parkinso...</td>\n",
       "      <td>The phrase \"bike-shedding\" was introduced in 1...</td>\n",
       "      <td>The law of triviality, also known as the bike-...</td>\n",
       "      <td>0</td>\n",
       "      <td>0.047619</td>\n",
       "      <td>2.274773e-155</td>\n",
       "      <td>0.047059</td>\n",
       "      <td>0.000000</td>\n",
       "      <td>0.432627</td>\n",
       "      <td>0.142857</td>\n",
       "      <td>7.818182</td>\n",
       "    </tr>\n",
       "    <tr>\n",
       "      <th>28</th>\n",
       "      <td>Given a reference text about Jen Shah, what is...</td>\n",
       "      <td>Shah starred on the reality television series ...</td>\n",
       "      <td>Jen Shah came into the spotlight in November 2...</td>\n",
       "      <td>Jen Shah, a star of The Real Housewives of Sal...</td>\n",
       "      <td>0</td>\n",
       "      <td>0.551724</td>\n",
       "      <td>2.660100e-01</td>\n",
       "      <td>0.511111</td>\n",
       "      <td>0.192308</td>\n",
       "      <td>0.730172</td>\n",
       "      <td>0.653846</td>\n",
       "      <td>0.573529</td>\n",
       "    </tr>\n",
       "    <tr>\n",
       "      <th>20</th>\n",
       "      <td>Given this reference text about the consumptio...</td>\n",
       "      <td>The United States is a leading exporter of pea...</td>\n",
       "      <td>National Peanut Butter Day takes place on Janu...</td>\n",
       "      <td>The United States is a major exporter and cons...</td>\n",
       "      <td>0</td>\n",
       "      <td>0.148148</td>\n",
       "      <td>3.515896e-155</td>\n",
       "      <td>0.140351</td>\n",
       "      <td>0.000000</td>\n",
       "      <td>0.451536</td>\n",
       "      <td>0.200000</td>\n",
       "      <td>4.153846</td>\n",
       "    </tr>\n",
       "  </tbody>\n",
       "</table>\n",
       "</div>"
      ],
      "text/plain": [
       "                                          instruction  \\\n",
       "24  What is the last festival celebrated in Tihar ...   \n",
       "26  Based on this paragraph, how many younger sibl...   \n",
       "15    Who coined the phrase \"Bike-shedding\" and when?   \n",
       "28  Given a reference text about Jen Shah, what is...   \n",
       "20  Given this reference text about the consumptio...   \n",
       "\n",
       "                                              context  \\\n",
       "24  Lakshmi Puja is celebrated as a part of Tihar,...   \n",
       "26  Kennedy was born on February 22, 1932, at St. ...   \n",
       "15  The law of triviality is C. Northcote Parkinso...   \n",
       "28  Shah starred on the reality television series ...   \n",
       "20  The United States is a leading exporter of pea...   \n",
       "\n",
       "                                             response  \\\n",
       "24  The festival lasts for 5 days and Bhai Tika is...   \n",
       "26  Based on this paragraph, Kennedy had no younge...   \n",
       "15  The phrase \"bike-shedding\" was introduced in 1...   \n",
       "28  Jen Shah came into the spotlight in November 2...   \n",
       "20  National Peanut Butter Day takes place on Janu...   \n",
       "\n",
       "                                   predicted_response  accuracy  f1_score  \\\n",
       "24  Lakshmi Puja is celebrated on the third day of...         0  0.181818   \n",
       "26  Kennedy was named after his father's assistant...         0  0.127660   \n",
       "15  The law of triviality, also known as the bike-...         0  0.047619   \n",
       "28  Jen Shah, a star of The Real Housewives of Sal...         0  0.551724   \n",
       "20  The United States is a major exporter and cons...         0  0.148148   \n",
       "\n",
       "       bleu_score   rouge_l   rouge_3  bert_score  keyword_overlap  \\\n",
       "24  5.273843e-155  0.121212  0.000000    0.567486         0.200000   \n",
       "26  4.430915e-155  0.085106  0.000000    0.502016         0.166667   \n",
       "15  2.274773e-155  0.047059  0.000000    0.432627         0.142857   \n",
       "28   2.660100e-01  0.511111  0.192308    0.730172         0.653846   \n",
       "20  3.515896e-155  0.140351  0.000000    0.451536         0.200000   \n",
       "\n",
       "    length_ratio  \n",
       "24      1.846154  \n",
       "26      2.000000  \n",
       "15      7.818182  \n",
       "28      0.573529  \n",
       "20      4.153846  "
      ]
     },
     "execution_count": 29,
     "metadata": {},
     "output_type": "execute_result"
    }
   ],
   "source": [
    "final_df2.head()"
   ]
  },
  {
   "cell_type": "code",
   "execution_count": 30,
   "id": "1b35a2c9-5136-4e7c-8c74-2a0e6966bba3",
   "metadata": {},
   "outputs": [
    {
     "data": {
      "text/html": [
       "<div>\n",
       "<style scoped>\n",
       "    .dataframe tbody tr th:only-of-type {\n",
       "        vertical-align: middle;\n",
       "    }\n",
       "\n",
       "    .dataframe tbody tr th {\n",
       "        vertical-align: top;\n",
       "    }\n",
       "\n",
       "    .dataframe thead th {\n",
       "        text-align: right;\n",
       "    }\n",
       "</style>\n",
       "<table border=\"1\" class=\"dataframe\">\n",
       "  <thead>\n",
       "    <tr style=\"text-align: right;\">\n",
       "      <th></th>\n",
       "      <th>instruction</th>\n",
       "      <th>context</th>\n",
       "      <th>response</th>\n",
       "      <th>predicted_response</th>\n",
       "      <th>faithfulness_score</th>\n",
       "      <th>relevancy_score</th>\n",
       "      <th>hallucination_score</th>\n",
       "    </tr>\n",
       "  </thead>\n",
       "  <tbody>\n",
       "    <tr>\n",
       "      <th>0</th>\n",
       "      <td>What is the last festival celebrated in Tihar ...</td>\n",
       "      <td>Lakshmi Puja is celebrated as a part of Tihar,...</td>\n",
       "      <td>The festival lasts for 5 days and Bhai Tika is...</td>\n",
       "      <td>Lakshmi Puja is celebrated on the third day of...</td>\n",
       "      <td>0.666667</td>\n",
       "      <td>0.000000</td>\n",
       "      <td>0.0</td>\n",
       "    </tr>\n",
       "    <tr>\n",
       "      <th>1</th>\n",
       "      <td>Based on this paragraph, how many younger sibl...</td>\n",
       "      <td>Kennedy was born on February 22, 1932, at St. ...</td>\n",
       "      <td>Based on this paragraph, Kennedy had no younge...</td>\n",
       "      <td>Kennedy was named after his father's assistant...</td>\n",
       "      <td>1.000000</td>\n",
       "      <td>0.000000</td>\n",
       "      <td>0.0</td>\n",
       "    </tr>\n",
       "    <tr>\n",
       "      <th>2</th>\n",
       "      <td>Who coined the phrase \"Bike-shedding\" and when?</td>\n",
       "      <td>The law of triviality is C. Northcote Parkinso...</td>\n",
       "      <td>The phrase \"bike-shedding\" was introduced in 1...</td>\n",
       "      <td>The law of triviality, also known as the bike-...</td>\n",
       "      <td>1.000000</td>\n",
       "      <td>0.000000</td>\n",
       "      <td>0.0</td>\n",
       "    </tr>\n",
       "    <tr>\n",
       "      <th>3</th>\n",
       "      <td>Given a reference text about Jen Shah, what is...</td>\n",
       "      <td>Shah starred on the reality television series ...</td>\n",
       "      <td>Jen Shah came into the spotlight in November 2...</td>\n",
       "      <td>Jen Shah, a star of The Real Housewives of Sal...</td>\n",
       "      <td>1.000000</td>\n",
       "      <td>0.800000</td>\n",
       "      <td>0.0</td>\n",
       "    </tr>\n",
       "    <tr>\n",
       "      <th>4</th>\n",
       "      <td>Given this reference text about the consumptio...</td>\n",
       "      <td>The United States is a leading exporter of pea...</td>\n",
       "      <td>National Peanut Butter Day takes place on Janu...</td>\n",
       "      <td>The United States is a major exporter and cons...</td>\n",
       "      <td>1.000000</td>\n",
       "      <td>0.000000</td>\n",
       "      <td>0.0</td>\n",
       "    </tr>\n",
       "    <tr>\n",
       "      <th>5</th>\n",
       "      <td>What is wine?</td>\n",
       "      <td>Wine is an alcoholic drink typically made from...</td>\n",
       "      <td>Wine is an alcoholic drink typically made from...</td>\n",
       "      <td>Wine is primarily made from fermented grapes, ...</td>\n",
       "      <td>1.000000</td>\n",
       "      <td>1.000000</td>\n",
       "      <td>0.0</td>\n",
       "    </tr>\n",
       "    <tr>\n",
       "      <th>6</th>\n",
       "      <td>Who tends to participates in hackathons?</td>\n",
       "      <td>A hackathon (also known as a hack day, hackfes...</td>\n",
       "      <td>Computer programmers and others involved in so...</td>\n",
       "      <td>A hackathon is an event where participants eng...</td>\n",
       "      <td>1.000000</td>\n",
       "      <td>0.428571</td>\n",
       "      <td>0.0</td>\n",
       "    </tr>\n",
       "    <tr>\n",
       "      <th>7</th>\n",
       "      <td>Given a reference text about Run Towards the D...</td>\n",
       "      <td>Run Towards the Danger is a 2022 Canadian essa...</td>\n",
       "      <td>Six essays are part of the Run Towards the Dan...</td>\n",
       "      <td>\"Run Towards the Danger\" is a 2022 essay colle...</td>\n",
       "      <td>1.000000</td>\n",
       "      <td>0.000000</td>\n",
       "      <td>0.0</td>\n",
       "    </tr>\n",
       "    <tr>\n",
       "      <th>8</th>\n",
       "      <td>What types of problems in government could AI ...</td>\n",
       "      <td>The potential uses of AI in government are wid...</td>\n",
       "      <td>The potential uses of AI in government are wid...</td>\n",
       "      <td>AI can be effectively applied in government op...</td>\n",
       "      <td>1.000000</td>\n",
       "      <td>1.000000</td>\n",
       "      <td>0.0</td>\n",
       "    </tr>\n",
       "    <tr>\n",
       "      <th>9</th>\n",
       "      <td>Which American president spoke Dutch as their ...</td>\n",
       "      <td>Van Buren received a basic education at the vi...</td>\n",
       "      <td>President Van Buren spoke Dutch as his first l...</td>\n",
       "      <td>Martin Van Buren, the only U.S. president whos...</td>\n",
       "      <td>1.000000</td>\n",
       "      <td>0.285714</td>\n",
       "      <td>0.0</td>\n",
       "    </tr>\n",
       "    <tr>\n",
       "      <th>10</th>\n",
       "      <td>Was Furze Hill an established community in the...</td>\n",
       "      <td>Furze Hill (or Furzehill) is a hamlet situated...</td>\n",
       "      <td>No, it was not an established community until ...</td>\n",
       "      <td>Furze Hill is a hamlet located in the New Fore...</td>\n",
       "      <td>1.000000</td>\n",
       "      <td>0.250000</td>\n",
       "      <td>0.0</td>\n",
       "    </tr>\n",
       "    <tr>\n",
       "      <th>11</th>\n",
       "      <td>What event John Johnstone won as a rider?</td>\n",
       "      <td>John Johnstone (1881-1935) was a British busin...</td>\n",
       "      <td>John Johnstone won the Jockey Cup on a horse n...</td>\n",
       "      <td>John Johnstone was a prominent British busines...</td>\n",
       "      <td>0.833333</td>\n",
       "      <td>0.454545</td>\n",
       "      <td>0.0</td>\n",
       "    </tr>\n",
       "    <tr>\n",
       "      <th>12</th>\n",
       "      <td>Can you tell me something about Stanley J. Gol...</td>\n",
       "      <td>Stanley J. Goldberg (born Maryland, 1939) is a...</td>\n",
       "      <td>Stanley J. Goldberg (born Maryland, 1939) is a...</td>\n",
       "      <td>Stanley J. Goldberg is a Special Trial Judge o...</td>\n",
       "      <td>1.000000</td>\n",
       "      <td>0.857143</td>\n",
       "      <td>0.0</td>\n",
       "    </tr>\n",
       "    <tr>\n",
       "      <th>13</th>\n",
       "      <td>What is Marketing Automation?</td>\n",
       "      <td>Marketing Automation is a subset of customer r...</td>\n",
       "      <td>Marketing Automation is software that helps ma...</td>\n",
       "      <td>Marketing Automation is a technology-driven pr...</td>\n",
       "      <td>1.000000</td>\n",
       "      <td>1.000000</td>\n",
       "      <td>0.0</td>\n",
       "    </tr>\n",
       "    <tr>\n",
       "      <th>14</th>\n",
       "      <td>What does fasting mean?</td>\n",
       "      <td>Fasting is the abstention from eating and some...</td>\n",
       "      <td>Fasting is the abstention from eating and some...</td>\n",
       "      <td>Fasting refers to the period after complete di...</td>\n",
       "      <td>1.000000</td>\n",
       "      <td>1.000000</td>\n",
       "      <td>0.0</td>\n",
       "    </tr>\n",
       "  </tbody>\n",
       "</table>\n",
       "</div>"
      ],
      "text/plain": [
       "                                          instruction  \\\n",
       "0   What is the last festival celebrated in Tihar ...   \n",
       "1   Based on this paragraph, how many younger sibl...   \n",
       "2     Who coined the phrase \"Bike-shedding\" and when?   \n",
       "3   Given a reference text about Jen Shah, what is...   \n",
       "4   Given this reference text about the consumptio...   \n",
       "5                                       What is wine?   \n",
       "6            Who tends to participates in hackathons?   \n",
       "7   Given a reference text about Run Towards the D...   \n",
       "8   What types of problems in government could AI ...   \n",
       "9   Which American president spoke Dutch as their ...   \n",
       "10  Was Furze Hill an established community in the...   \n",
       "11          What event John Johnstone won as a rider?   \n",
       "12  Can you tell me something about Stanley J. Gol...   \n",
       "13                      What is Marketing Automation?   \n",
       "14                            What does fasting mean?   \n",
       "\n",
       "                                              context  \\\n",
       "0   Lakshmi Puja is celebrated as a part of Tihar,...   \n",
       "1   Kennedy was born on February 22, 1932, at St. ...   \n",
       "2   The law of triviality is C. Northcote Parkinso...   \n",
       "3   Shah starred on the reality television series ...   \n",
       "4   The United States is a leading exporter of pea...   \n",
       "5   Wine is an alcoholic drink typically made from...   \n",
       "6   A hackathon (also known as a hack day, hackfes...   \n",
       "7   Run Towards the Danger is a 2022 Canadian essa...   \n",
       "8   The potential uses of AI in government are wid...   \n",
       "9   Van Buren received a basic education at the vi...   \n",
       "10  Furze Hill (or Furzehill) is a hamlet situated...   \n",
       "11  John Johnstone (1881-1935) was a British busin...   \n",
       "12  Stanley J. Goldberg (born Maryland, 1939) is a...   \n",
       "13  Marketing Automation is a subset of customer r...   \n",
       "14  Fasting is the abstention from eating and some...   \n",
       "\n",
       "                                             response  \\\n",
       "0   The festival lasts for 5 days and Bhai Tika is...   \n",
       "1   Based on this paragraph, Kennedy had no younge...   \n",
       "2   The phrase \"bike-shedding\" was introduced in 1...   \n",
       "3   Jen Shah came into the spotlight in November 2...   \n",
       "4   National Peanut Butter Day takes place on Janu...   \n",
       "5   Wine is an alcoholic drink typically made from...   \n",
       "6   Computer programmers and others involved in so...   \n",
       "7   Six essays are part of the Run Towards the Dan...   \n",
       "8   The potential uses of AI in government are wid...   \n",
       "9   President Van Buren spoke Dutch as his first l...   \n",
       "10  No, it was not an established community until ...   \n",
       "11  John Johnstone won the Jockey Cup on a horse n...   \n",
       "12  Stanley J. Goldberg (born Maryland, 1939) is a...   \n",
       "13  Marketing Automation is software that helps ma...   \n",
       "14  Fasting is the abstention from eating and some...   \n",
       "\n",
       "                                   predicted_response  faithfulness_score  \\\n",
       "0   Lakshmi Puja is celebrated on the third day of...            0.666667   \n",
       "1   Kennedy was named after his father's assistant...            1.000000   \n",
       "2   The law of triviality, also known as the bike-...            1.000000   \n",
       "3   Jen Shah, a star of The Real Housewives of Sal...            1.000000   \n",
       "4   The United States is a major exporter and cons...            1.000000   \n",
       "5   Wine is primarily made from fermented grapes, ...            1.000000   \n",
       "6   A hackathon is an event where participants eng...            1.000000   \n",
       "7   \"Run Towards the Danger\" is a 2022 essay colle...            1.000000   \n",
       "8   AI can be effectively applied in government op...            1.000000   \n",
       "9   Martin Van Buren, the only U.S. president whos...            1.000000   \n",
       "10  Furze Hill is a hamlet located in the New Fore...            1.000000   \n",
       "11  John Johnstone was a prominent British busines...            0.833333   \n",
       "12  Stanley J. Goldberg is a Special Trial Judge o...            1.000000   \n",
       "13  Marketing Automation is a technology-driven pr...            1.000000   \n",
       "14  Fasting refers to the period after complete di...            1.000000   \n",
       "\n",
       "    relevancy_score  hallucination_score  \n",
       "0          0.000000                  0.0  \n",
       "1          0.000000                  0.0  \n",
       "2          0.000000                  0.0  \n",
       "3          0.800000                  0.0  \n",
       "4          0.000000                  0.0  \n",
       "5          1.000000                  0.0  \n",
       "6          0.428571                  0.0  \n",
       "7          0.000000                  0.0  \n",
       "8          1.000000                  0.0  \n",
       "9          0.285714                  0.0  \n",
       "10         0.250000                  0.0  \n",
       "11         0.454545                  0.0  \n",
       "12         0.857143                  0.0  \n",
       "13         1.000000                  0.0  \n",
       "14         1.000000                  0.0  "
      ]
     },
     "execution_count": 30,
     "metadata": {},
     "output_type": "execute_result"
    }
   ],
   "source": [
    "hallu_deepeval_df"
   ]
  },
  {
   "cell_type": "code",
   "execution_count": 33,
   "id": "f6ff62f7-4bc2-4505-9d2c-6f7716873671",
   "metadata": {},
   "outputs": [],
   "source": [
    "final_df2.to_csv('final_df2.csv', index=False)"
   ]
  },
  {
   "cell_type": "code",
   "execution_count": null,
   "id": "36ef40ef-dbf4-420d-a663-e10fadac4f8a",
   "metadata": {},
   "outputs": [],
   "source": []
  },
  {
   "cell_type": "code",
   "execution_count": null,
   "id": "d9c683be-f0ae-4d0f-82d8-99021b17085a",
   "metadata": {},
   "outputs": [],
   "source": [
    "new_df = df.tail(15)"
   ]
  },
  {
   "cell_type": "code",
   "execution_count": null,
   "id": "7f57d3e2-a147-45c7-b972-9e64418fa36b",
   "metadata": {},
   "outputs": [],
   "source": []
  },
  {
   "cell_type": "code",
   "execution_count": null,
   "id": "58b0e121-e7cb-4dc2-8f41-7a9e3db88d57",
   "metadata": {},
   "outputs": [],
   "source": []
  },
  {
   "cell_type": "code",
   "execution_count": null,
   "id": "cf33c1d5-ab00-47de-bbfc-34a4186ac06f",
   "metadata": {},
   "outputs": [],
   "source": []
  },
  {
   "cell_type": "code",
   "execution_count": null,
   "id": "cc80dc67-066a-45c5-af33-e2160f793214",
   "metadata": {},
   "outputs": [],
   "source": []
  },
  {
   "cell_type": "code",
   "execution_count": null,
   "id": "d0ead260-279a-45ae-ad18-ea0553899304",
   "metadata": {},
   "outputs": [],
   "source": []
  }
 ],
 "metadata": {
  "kernelspec": {
   "display_name": "Python 3 (ipykernel)",
   "language": "python",
   "name": "python3"
  },
  "language_info": {
   "codemirror_mode": {
    "name": "ipython",
    "version": 3
   },
   "file_extension": ".py",
   "mimetype": "text/x-python",
   "name": "python",
   "nbconvert_exporter": "python",
   "pygments_lexer": "ipython3",
   "version": "3.9.7"
  }
 },
 "nbformat": 4,
 "nbformat_minor": 5
}
